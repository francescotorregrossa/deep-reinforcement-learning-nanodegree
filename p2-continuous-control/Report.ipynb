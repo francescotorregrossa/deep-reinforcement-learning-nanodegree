{
 "cells": [
  {
   "cell_type": "markdown",
   "metadata": {},
   "source": [
    "# Continuous Control\n",
    "\n",
    "The environment for this project is [Reacher](https://github.com/udacity/deep-reinforcement-learning/tree/master/p2_continuous_control) from Unity, and it's provided in the `setup` folder. We'll implement the A2C algorithm as the synchronous version of [A3C](https://web.stanford.edu/class/psych209/Readings/MnihEtAlHassibis15NatureControlDeepRL.pdf) (but the input won't be directly from pixels). Results will be shown in this notebook and the best solution will be implemented in `main.py`.\n",
    "\n",
    "![final](imgs/gif.gif \"final\")\n",
    "\n",
    "> The model used to generate this gif is `final.pth` (Dueling Double DQN), which was trained for 700 episodes using `main.py`.\n",
    "\n",
    "## 1. Prepare dependencies and environment\n",
    "\n",
    "Take a look at README.md before executing this notebook and make sure that the kernel is set to **p2_continuous_control**."
   ]
  },
  {
   "cell_type": "code",
   "execution_count": 1,
   "metadata": {},
   "outputs": [],
   "source": [
    "!pip -q install ./setup\n",
    "\n",
    "import sys\n",
    "import platform\n",
    "\n",
    "import numpy as np\n",
    "from scipy import signal\n",
    "import matplotlib.pyplot as plt\n",
    "\n",
    "import torch\n",
    "import torch.nn.functional as F\n",
    "import torch.optim as optim\n",
    "from torch.distributions.normal import Normal\n",
    "from torch import nn\n",
    "\n",
    "from setup import unityagents\n",
    "from unityagents import UnityEnvironment\n",
    "\n",
    "device = torch.device(\"cuda:0\" if torch.cuda.is_available() else \"cpu\")"
   ]
  },
  {
   "source": [
    "Unity environments contain **brains**, our interfaces for controlling agents. We'll be conrtolling the first (default) brain in the environment. It's also useful to keep information such as `state_size`, `action_size` and `num_agents`."
   ],
   "cell_type": "markdown",
   "metadata": {}
  },
  {
   "cell_type": "code",
   "execution_count": 2,
   "metadata": {},
   "outputs": [
    {
     "output_type": "stream",
     "name": "stderr",
     "text": [
      "INFO:unityagents:\n'Academy' started successfully!\nUnity Academy name: Academy\n        Number of Brains: 1\n        Number of External Brains : 1\n        Lesson number : 0\n        Reset Parameters :\n\t\tgoal_size -> 5.0\n\t\tgoal_speed -> 1.0\nUnity brain name: ReacherBrain\n        Number of Visual Observations (per agent): 0\n        Vector Observation space type: continuous\n        Vector Observation space size (per agent): 33\n        Number of stacked Vector Observation: 1\n        Vector Action space type: continuous\n        Vector Action space size (per agent): 4\n        Vector Action descriptions: , , , \n"
     ]
    }
   ],
   "source": [
    "env = None\n",
    "system = platform.system()\n",
    "if system == 'Linux':\n",
    "    env = UnityEnvironment(file_name=\"setup/Reacher_Linux/Reacher.x86_64\")\n",
    "elif system == 'Darwin':\n",
    "    env = UnityEnvironment(file_name=\"setup/Reacher.app\")\n",
    "elif system == 'Windows':\n",
    "    env = UnityEnvironment(file_name=\"setup/Reacher_Windows_x86_64/Reacher.exe\")\n",
    "else:\n",
    "    print('Cannot find environment for this system.')\n",
    "\n",
    "# use the default brain\n",
    "brain_name = env.brain_names[0]\n",
    "brain = env.brains[brain_name]\n",
    "\n",
    "# reset the environment\n",
    "env_info = env.reset(train_mode=True)[brain_name]\n",
    "num_agents = len(env_info.agents)\n",
    "action_size = brain.vector_action_space_size\n",
    "state_size = env_info.vector_observations.shape[1]"
   ]
  },
  {
   "cell_type": "markdown",
   "metadata": {},
   "source": [
    "## 2. Actor\n",
    "\n"
   ]
  },
  {
   "cell_type": "code",
   "execution_count": 3,
   "metadata": {},
   "outputs": [],
   "source": [
    "class Actor(nn.Module):\n",
    "    \n",
    "    def __init__(self, state_size, action_size, hidden_layers=[64, 128, 64]):\n",
    "        super(Actor, self).__init__()\n",
    "        self.action_size = action_size\n",
    "        \n",
    "        # prepare the first hidden layer\n",
    "        self.hidden_layers = nn.ModuleList([nn.Linear(state_size, hidden_layers[0])])\n",
    "        \n",
    "        # prepare the rest of the hidden layers\n",
    "        A = hidden_layers[:-1]\n",
    "        B = hidden_layers[1:]\n",
    "        self.hidden_layers.extend([nn.Linear(a, b) for a, b in zip(A, B)])\n",
    "        \n",
    "        # the actor will output the parameters of a normal distribution, \n",
    "        # so for each action we need mu and sigma^2 (thus we double the action size)\n",
    "        self.output_layer = nn.Linear(hidden_layers[-1], action_size * 2)\n",
    "        # self.std_layer = nn.Parameter(torch.zeros([1, action_size]))\n",
    "\n",
    "    def forward(self, state):\n",
    "        # connect layers to each other and put relu activations between them\n",
    "        for layer in self.hidden_layers:\n",
    "            state = layer(state)\n",
    "            state = F.tanh(state)\n",
    "        state = self.output_layer(state)  # [20, 8]\n",
    "        # state = state.view(num_agents, 2, self.action_size)\n",
    "\n",
    "        # reshape output in two rows (mu and sigma^2)\n",
    "        \n",
    "        mu = F.tanh(state[:, :self.action_size]).unsqueeze(1)  # [20, 1, 4]\n",
    "        sigma = F.softplus(state[:, self.action_size:]).unsqueeze(1)  # [20, 1, 4]\n",
    "        # sigma = F.softplus(self.std_layer)\n",
    "        # mu is linear while sigma^2 uses a softplus\n",
    "        distr_params = torch.cat((mu, sigma), dim=1)  # [20, 2, 4]\n",
    "        \n",
    "        return distr_params\n",
    "    \n",
    "    # -- some utility functions -- #\n",
    "\n",
    "    def distributions(self, distr_params):\n",
    "        # then construct a normal distribution that depends on these values\n",
    "        return [Normal(d[0, :], d[1, :]) for d in distr_params]\n",
    "\n",
    "    def act(self, distributions):\n",
    "        # sample an action from a state's distribution\n",
    "        \n",
    "        # this policy is naturally stochastic, so there's no need to\n",
    "        # force randomnes using a strategy like eps-greedy\n",
    "        return np.clip(np.array([np.array(d.sample()) for d in distributions]), -1, 1)\n",
    "\n",
    "    def log_prob(self, distr_params, actions):\n",
    "        # distr_params  [n, num_agents, 2, num_actions]\n",
    "        # actions       [n, num_agents, num_actions]\n",
    "\n",
    "        # using a state's density function (pdf), calculate how likely it is to take the given action\n",
    "        # advantage (to be defined) will determine whether this value will increase or decrease\n",
    "\n",
    "        # for every step\n",
    "        probs = torch.empty([0]).to(device)\n",
    "        for step_d_params, step_a in zip(distr_params, actions):\n",
    "            # step_d_params                               [num_agents, 2, num_actions]\n",
    "            # step_a                                      [num_agents, num_actions]\n",
    "            step_d = self.distributions(step_d_params)  # list of num_agents Normal()\n",
    "\n",
    "            # for every agent calculate the log_prob of the action taken\n",
    "            step_probs = torch.empty([0]).to(device)\n",
    "            for d, a in zip(step_d, step_a):\n",
    "                # d                                    Normal()\n",
    "                # a                                    [num_actions]\n",
    "                prob = d.log_prob(a)                 # [num_actions]\n",
    "                prob = torch.sum(prob).unsqueeze(0)  # [1], the likelihood of a under d\n",
    "                step_probs = torch.cat((step_probs, prob))\n",
    "            \n",
    "            step_probs = step_probs.unsqueeze(0)  # [1, num_agents]\n",
    "            probs = torch.cat((probs, step_probs))\n",
    "\n",
    "        return probs  # [n, num_agents]\n",
    "    \n",
    "    def entropy(self, distr_params):\n",
    "        # distr_params  [n, num_agents, 2, num_actions]\n",
    "\n",
    "        # calculate the entropy of a state's distribution (in other words, how uncertain the \n",
    "        # result is -- which only depends on sigma in the case of a normal distribution)\n",
    "\n",
    "        # this will be maximized so that some exploration is always encouraged\n",
    "\n",
    "        # for every step\n",
    "        entropies = torch.empty([0]).to(device)\n",
    "        for step_d_params in distr_params:\n",
    "            # step_d_params                               [num_agents, 2, num_actions]\n",
    "            step_d = self.distributions(step_d_params)  # list of num_agents Normal()\n",
    "\n",
    "            # for every agent calculate the entropy of the distribution used to take the action\n",
    "            step_entr = torch.empty([0]).to(device)\n",
    "            for d in step_d:\n",
    "                # d                                    Normal()\n",
    "                entr = d.entropy()                   # [num_actions]\n",
    "                entr = torch.sum(entr).unsqueeze(0)  # [1], how uncertain d is\n",
    "                step_entr = torch.cat((step_entr, entr))\n",
    "            \n",
    "            step_entr = step_entr.unsqueeze(0)  # [1, num_agents]\n",
    "            entropies = torch.cat((entropies, step_entr))\n",
    "\n",
    "        return entropies  # [n, num_agents]\n",
    "        "
   ]
  },
  {
   "cell_type": "markdown",
   "metadata": {},
   "source": [
    "## 3. Critic\n"
   ]
  },
  {
   "cell_type": "code",
   "execution_count": 4,
   "metadata": {},
   "outputs": [],
   "source": [
    "class Critic(nn.Module):\n",
    "    \n",
    "    def __init__(self, state_size, hidden_layers=[64, 128, 64]):\n",
    "        super(Critic, self).__init__()\n",
    "        \n",
    "        # prepare the first hidden layer\n",
    "        self.hidden_layers = nn.ModuleList([nn.Linear(state_size, hidden_layers[0])])\n",
    "        \n",
    "        # prepare the rest of the hidden layers\n",
    "        A = hidden_layers[:-1]\n",
    "        B = hidden_layers[1:]\n",
    "        self.hidden_layers.extend([nn.Linear(a, b) for a, b in zip(A, B)])\n",
    "        \n",
    "        # the critic outputs only a scalar V(s)\n",
    "        self.output_layer = nn.Linear(hidden_layers[-1], 1)\n",
    "\n",
    "    def forward(self, state):\n",
    "        # connect layers to each other and put relu activations between them\n",
    "        for layer in self.hidden_layers:\n",
    "            state = layer(state)\n",
    "            state = F.tanh(state)\n",
    "        state = self.output_layer(state)\n",
    "        return state"
   ]
  },
  {
   "cell_type": "markdown",
   "metadata": {},
   "source": [
    "## 4. Advantage Estimation\n",
    "\n",
    "### 4.1 $n$-step"
   ]
  },
  {
   "cell_type": "code",
   "execution_count": 5,
   "metadata": {},
   "outputs": [],
   "source": [
    "def n_step(rewards, returns, values, gamma, tau):\n",
    "    return (returns[:-1] - values[:-1]).detach()"
   ]
  },
  {
   "source": [
    "### 4.2 GAE"
   ],
   "cell_type": "markdown",
   "metadata": {}
  },
  {
   "cell_type": "code",
   "execution_count": 6,
   "metadata": {},
   "outputs": [],
   "source": [
    "def gae(rewards, returns, values, gamma, tau):\n",
    "    print(rewards.size(), values[1:].size(), values[:-1].size())\n",
    "    one_step_advantage = np.array(rewards + gamma * values[1:] -  values[:-1])\n",
    "    print(one_step_advantage)\n",
    "    advantage = 0\n",
    "    advantages = []\n",
    "    for step in one_step_advantage[::-1]:\n",
    "        advantage = step + gamma * tau * advantage\n",
    "        advantages.append(advantage)\n",
    "    return torch.FloatTensor(advantage[::-1]).detach().to(device)\n"
   ]
  },
  {
   "source": [
    "## 5. Agent"
   ],
   "cell_type": "markdown",
   "metadata": {}
  },
  {
   "cell_type": "code",
   "execution_count": 7,
   "metadata": {},
   "outputs": [],
   "source": [
    "class A2CAgent():\n",
    "    \n",
    "    # -- initialization -- #\n",
    "    def __init__(self, state_size, action_size, calc_advantage, \n",
    "                 gamma=0.99, alpha_actor=0.001, alpha_critic=0.001, beta=0.001, tau=0.25,\n",
    "                 n=4, learning=True):\n",
    "        self.state_size, self.action_size = state_size, action_size\n",
    "        self.calc_advantage = calc_advantage\n",
    "        self.learning = learning\n",
    "        self.alpha_actor, self.alpha_critic = alpha_actor, alpha_critic\n",
    "        self.gamma, self.tau = gamma, tau\n",
    "        self.beta = beta\n",
    "        self.n = n\n",
    "        self.reset()\n",
    "\n",
    "    def reset_temporary_buffer(self):\n",
    "        # used to store n consecutive steps\n",
    "        self.tmp_s, self.tmp_a, self.tmp_r, self.tmp_ns, self.tmp_d = \\\n",
    "            ([None] * self.n, [None] * self.n, [None] * self.n, [None] * self.n, [None] * self.n)\n",
    "        self.tmp_actor_out = [None] * self.n\n",
    "    \n",
    "    def reset(self):\n",
    "        self.actor = Actor(state_size, action_size).to(device)\n",
    "        self.critic = Critic(state_size).to(device)\n",
    "\n",
    "        self.actor_optimizer = optim.Adam(self.actor.parameters(), lr=self.alpha_actor)\n",
    "        self.critic_optimizer = optim.Adam(self.critic.parameters(), lr=self.alpha_critic)\n",
    "        \n",
    "        self.reset_temporary_buffer()\n",
    "        self.i = 0\n",
    "    # -- initialization -- #\n",
    "\n",
    "    def act(self, s):\n",
    "        \n",
    "        # use the actor to transform the state into a normal distribution\n",
    "        s = torch.FloatTensor(s).to(device)\n",
    "        distr_params = self.actor(s)\n",
    "        distributions = self.actor.distributions(distr_params)\n",
    "\n",
    "        # store the distribution as we'll need it later\n",
    "        # self.tmp_actor_out[self.i] = distr_params\n",
    "        self.tmp_actor_out[self.i] = distr_params.unsqueeze(0)\n",
    "\n",
    "        # sample an action from the distribution\n",
    "        return self.actor.act(distributions)\n",
    "\n",
    "    def store(self, s, a, r, ns, d):\n",
    "        self.tmp_s[self.i], self.tmp_a[self.i], self.tmp_r[self.i], self.tmp_ns[self.i], self.tmp_d[self.i] = (s, a, r, ns, d)\n",
    "\n",
    "        if self.i == self.n - 1:\n",
    "            self.learn()\n",
    "        \n",
    "        self.i = (self.i + 1) % self.n\n",
    "\n",
    "    def learn(self):\n",
    "\n",
    "        s, a, r, ns, d, actor_out = (\n",
    "            torch.FloatTensor(self.tmp_s).to(device),        # [n, num_agents, state_size]\n",
    "            torch.FloatTensor(self.tmp_a).to(device),        # [n, num_agents, action_size]\n",
    "            torch.FloatTensor(self.tmp_r).to(device),        # [n, num_agents]\n",
    "            torch.FloatTensor(self.tmp_ns).to(device),       # [n, num_agents, state_size]\n",
    "            torch.FloatTensor(self.tmp_d).to(device),        # [n, num_agents]\n",
    "            torch.cat(self.tmp_actor_out, dim=0).to(device)  # [n, num_agents, 2, action_size]\n",
    "        )\n",
    "\n",
    "        # use the critic to evaluate all n+1 states\n",
    "        last_states = ns[-1:]                               # [1, agents, state_size]\n",
    "        all_states = torch.cat((s, last_states), dim=0)     # [n+1, num_agents, state_size]\n",
    "        state_values = self.critic(all_states).squeeze(2)   # [n+1, num_agents]\n",
    "        pad_d = torch.cat((torch.zeros(1, num_agents).to(device), d))  # [n+1, num_agents]\n",
    "        \n",
    "        # g_n+1, which should be zero if the episode is ended\n",
    "        last_values = state_values[-1:].detach()  # [1, num_agents]\n",
    "        last_values *= (1 - pad_d[-1:])           # [1, num_agents]\n",
    "\n",
    "        # r_1, r_2, ..., r_n, g_n+1\n",
    "        # tmp_rewards = torch.cat((self.r, last_predicted_returns), dim=0)  # [n+1, num_agents]\n",
    "\n",
    "        # calculate some slightly more accurate returns using n rewards and a predicion of G_n+1\n",
    "        # note that the prediction will only be considered if the episode isn't finished yet        \n",
    "        returns = last_values\n",
    "        for reward in r:\n",
    "            tmp = (reward + self.gamma * returns[0]).unsqueeze(0)  # [1, num_agents]\n",
    "            returns = torch.cat((tmp, returns), dim=0)\n",
    "        # returns [n+1, num_agents]\n",
    "\n",
    "        # calculate the advantages at each state\n",
    "        advantages = self.calc_advantage(r, returns, state_values * (1 - pad_d), self.gamma, self.tau)\n",
    "        # print(advantages)\n",
    "        # advantages = torch.clamp(advantages, -1, 1).squeeze(1)\n",
    "        # advantages = self.calc_advantage(self.r, returns, state_values, self.gamma, self.tau)\n",
    "\n",
    "        # actor update\n",
    "        self.actor_optimizer.zero_grad()\n",
    "        log_prob = -self.actor.log_prob(actor_out, a.detach())\n",
    "        entropy = self.actor.entropy(actor_out)\n",
    "        actor_loss = torch.mean(log_prob * advantages + entropy * self.beta)\n",
    "        actor_loss.backward()\n",
    "        nn.utils.clip_grad_norm(self.actor.parameters(), 1)\n",
    "\n",
    "        self.actor_optimizer.step()\n",
    "\n",
    "        # critic update\n",
    "        self.critic_optimizer.zero_grad()\n",
    "        critic_loss = torch.mean((returns[:-1].detach() - state_values[:-1]) ** 2)\n",
    "        critic_loss.backward()\n",
    "        nn.utils.clip_grad_norm(self.critic.parameters(), 1)\n",
    "        self.critic_optimizer.step()\n",
    "\n",
    "        self.reset_temporary_buffer()\n",
    "        "
   ]
  },
  {
   "source": [
    "## 6. Training an agent"
   ],
   "cell_type": "markdown",
   "metadata": {}
  },
  {
   "cell_type": "code",
   "execution_count": 8,
   "metadata": {},
   "outputs": [],
   "source": [
    "agents = [('A2Cn4', A2CAgent(state_size, action_size, n_step, n=4))]\n",
    "          # ('A2Cn8', A2CAgent(state_size, action_size, n_step, n=8)),\n",
    "          # ('A2CGAEn8', A2CAgent(state_size, action_size, gae, n=8))]"
   ]
  },
  {
   "cell_type": "code",
   "execution_count": 9,
   "metadata": {},
   "outputs": [],
   "source": [
    "def execute_episode(agent, env):\n",
    "    # prepare the environment\n",
    "    scores = np.zeros(num_agents)\n",
    "    env_info = env.reset(train_mode=True)[brain_name]\n",
    "    \n",
    "    # get the initial state\n",
    "    states = env_info.vector_observations\n",
    "    while True:\n",
    "\n",
    "        # evaluate the current state\n",
    "        actions = agent.act(states)\n",
    "        if np.isnan(actions).any():\n",
    "            raise SystemExit(\"Stop right there!\")\n",
    "        # print(actions)\n",
    "\n",
    "        # execute the chosen action and get the outcome\n",
    "        env_info = env.step(actions)[brain_name]\n",
    "        next_states = env_info.vector_observations\n",
    "        rewards = env_info.rewards\n",
    "        dones = env_info.local_done\n",
    "\n",
    "        # store the experience (also automatically learn, from time to time)\n",
    "        agent.store(states, actions, rewards, next_states, dones)\n",
    "\n",
    "        # prepare for the next iteration\n",
    "        states = next_states\n",
    "        scores += rewards\n",
    "\n",
    "        if np.any(dones):\n",
    "            break\n",
    "    \n",
    "    # return the total rewards obtained\n",
    "    return np.mean(scores)"
   ]
  },
  {
   "cell_type": "code",
   "execution_count": 10,
   "metadata": {},
   "outputs": [],
   "source": [
    "def train(agent, env, episodes=200, repeat=1, consecutive_episodes=100, show_output=True, save_as=None):\n",
    "\n",
    "    results = [None] * repeat\n",
    "    for r in range(repeat):\n",
    "        partial_results = [None] * episodes\n",
    "\n",
    "        # reset the agent to start learning from scratch\n",
    "        # agent.reset()\n",
    "        for i in range(episodes):\n",
    "\n",
    "            # execute all the episodes and store the results\n",
    "            score = execute_episode(agent, env)\n",
    "            partial_results[i] = score\n",
    "            \n",
    "            if show_output:\n",
    "                print(\"\\r[{}] Episode: {}, Score: {}\".format(r+1, i+1, score), end=\"\")\n",
    "                sys.stdout.flush()\n",
    "        if show_output:\n",
    "            print()\n",
    "\n",
    "        results[r] = partial_results\n",
    "\n",
    "        # store the trained model if requested\n",
    "        if save_as is not None:\n",
    "            torch.save(agent.actor.state_dict(), '{}/{}_actor.pth'.format(save_as, r+1))\n",
    "            torch.save(agent.critic.state_dict(), '{}/{}_critic.pth'.format(save_as, r+1))\n",
    "\n",
    "    # use convolutions to calculate the mean and standard deviation summarizing the training step\n",
    "    results = np.array(results)\n",
    "    mean = signal.convolve2d(results, np.ones([repeat, consecutive_episodes]) / (repeat * consecutive_episodes), mode='valid')    \n",
    "    v = signal.convolve2d(results, np.ones([1, consecutive_episodes]) / consecutive_episodes, mode='valid')\n",
    "    std_dev = signal.convolve2d(v ** 2 - mean ** 2, np.ones([repeat, 1]) / repeat, mode='valid') ** (1/2)\n",
    "    return mean.flatten(), std_dev.flatten(), results"
   ]
  },
  {
   "cell_type": "code",
   "execution_count": 11,
   "metadata": {
    "tags": []
   },
   "outputs": [
    {
     "output_type": "stream",
     "name": "stdout",
     "text": [
      "Agent: A2Cn4\n",
      "[1] Episode: 80, Score: 0.47549998937174676"
     ]
    },
    {
     "output_type": "error",
     "ename": "SystemExit",
     "evalue": "Stop right there!",
     "traceback": [
      "An exception has occurred, use %tb to see the full traceback.\n",
      "\u001b[0;31mSystemExit\u001b[0m\u001b[0;31m:\u001b[0m Stop right there!\n"
     ]
    }
   ],
   "source": [
    "training_results = []\n",
    "for ag in agents:\n",
    "    name, agent = ag\n",
    "    print('Agent: {}'.format(name))\n",
    "    mean, std_dev, full_report = train(agent, env, save_as='models/{}'.format(name.replace(\" \", \"_\")))\n",
    "    training_results.append((mean, std_dev, full_report))\n",
    "# env.close()"
   ]
  },
  {
   "source": [
    "## 7. Comparing the results"
   ],
   "cell_type": "markdown",
   "metadata": {}
  },
  {
   "cell_type": "code",
   "execution_count": 12,
   "metadata": {},
   "outputs": [
    {
     "output_type": "stream",
     "name": "stdout",
     "text": [
      "A2Cn4: Solved after 100 episodes\n"
     ]
    },
    {
     "output_type": "display_data",
     "data": {
      "text/plain": "<Figure size 432x288 with 1 Axes>",
      "image/svg+xml": "<?xml version=\"1.0\" encoding=\"utf-8\" standalone=\"no\"?>\n<!DOCTYPE svg PUBLIC \"-//W3C//DTD SVG 1.1//EN\"\n  \"http://www.w3.org/Graphics/SVG/1.1/DTD/svg11.dtd\">\n<!-- Created with matplotlib (https://matplotlib.org/) -->\n<svg height=\"277.314375pt\" version=\"1.1\" viewBox=\"0 0 362.5625 277.314375\" width=\"362.5625pt\" xmlns=\"http://www.w3.org/2000/svg\" xmlns:xlink=\"http://www.w3.org/1999/xlink\">\n <metadata>\n  <rdf:RDF xmlns:cc=\"http://creativecommons.org/ns#\" xmlns:dc=\"http://purl.org/dc/elements/1.1/\" xmlns:rdf=\"http://www.w3.org/1999/02/22-rdf-syntax-ns#\">\n   <cc:Work>\n    <dc:type rdf:resource=\"http://purl.org/dc/dcmitype/StillImage\"/>\n    <dc:date>2020-12-20T11:27:08.447934</dc:date>\n    <dc:format>image/svg+xml</dc:format>\n    <dc:creator>\n     <cc:Agent>\n      <dc:title>Matplotlib v3.3.3, https://matplotlib.org/</dc:title>\n     </cc:Agent>\n    </dc:creator>\n   </cc:Work>\n  </rdf:RDF>\n </metadata>\n <defs>\n  <style type=\"text/css\">*{stroke-linecap:butt;stroke-linejoin:round;}</style>\n </defs>\n <g id=\"figure_1\">\n  <g id=\"patch_1\">\n   <path d=\"M 0 277.314375 \nL 362.5625 277.314375 \nL 362.5625 0 \nL 0 0 \nz\n\" style=\"fill:none;\"/>\n  </g>\n  <g id=\"axes_1\">\n   <g id=\"patch_2\">\n    <path d=\"M 20.5625 239.758125 \nL 355.3625 239.758125 \nL 355.3625 22.318125 \nL 20.5625 22.318125 \nz\n\" style=\"fill:#ffffff;\"/>\n   </g>\n   <g id=\"PolyCollection_1\">\n    <path clip-path=\"url(#p7752419e6c)\" d=\"M 35.780682 206.815966 \nL 35.780682 206.815966 \nL 38.824318 206.518798 \nL 41.867955 206.228878 \nL 44.911591 206.482558 \nL 47.955227 206.192638 \nL 50.998864 206.07667 \nL 54.0425 207.613246 \nL 57.086136 208.707694 \nL 60.129773 209.381758 \nL 63.173409 210.02683 \nL 66.217045 210.432718 \nL 69.260682 210.476206 \nL 72.304318 210.53419 \nL 75.347955 211.309726 \nL 78.391591 211.759102 \nL 81.435227 211.69387 \nL 84.478864 211.853326 \nL 87.5225 212.498398 \nL 90.566136 213.020254 \nL 93.609773 212.947774 \nL 96.653409 214.62931 \nL 99.697045 214.803262 \nL 102.740682 215.441086 \nL 105.784318 215.339614 \nL 108.827955 214.99171 \nL 111.871591 214.853998 \nL 114.915227 214.77427 \nL 117.958864 214.911982 \nL 121.0025 214.759774 \nL 124.046136 214.658302 \nL 127.089773 214.585822 \nL 130.133409 214.419118 \nL 133.177045 214.26691 \nL 136.220682 214.368382 \nL 139.264318 214.585822 \nL 142.307955 213.984238 \nL 145.351591 214.129198 \nL 148.395227 213.824782 \nL 151.438864 214.143694 \nL 154.4825 213.962494 \nL 157.526136 213.50587 \nL 160.569773 213.10723 \nL 163.613409 213.056494 \nL 166.657045 212.78107 \nL 169.700682 212.483902 \nL 172.744318 212.483902 \nL 175.787955 212.005534 \nL 178.831591 211.889566 \nL 181.875227 211.04155 \nL 184.918864 210.809614 \nL 187.9625 210.635662 \nL 191.006136 210.548686 \nL 194.049773 210.519694 \nL 197.093409 210.693646 \nL 200.137045 210.940078 \nL 203.180682 211.411198 \nL 206.224318 211.896814 \nL 209.267955 212.317198 \nL 212.311591 212.49115 \nL 215.355227 212.425918 \nL 218.398864 212.665102 \nL 221.4425 212.882542 \nL 224.486136 213.339166 \nL 227.529773 213.447886 \nL 230.573409 213.600094 \nL 233.617045 213.882766 \nL 236.660682 214.01323 \nL 239.704318 214.455358 \nL 242.747955 214.08571 \nL 245.791591 213.68707 \nL 248.835227 213.853774 \nL 251.878864 214.04947 \nL 254.9225 214.542334 \nL 257.966136 214.477102 \nL 261.009773 214.672798 \nL 264.053409 214.81051 \nL 267.097045 214.788766 \nL 270.140682 214.788766 \nL 273.184318 214.91923 \nL 276.227955 215.194654 \nL 279.271591 215.31787 \nL 282.315227 215.528062 \nL 285.358864 215.615038 \nL 288.4025 215.68027 \nL 291.446136 215.383102 \nL 294.489773 215.433838 \nL 297.533409 215.759998 \nL 300.577045 215.622286 \nL 303.620682 215.875966 \nL 306.664318 216.339838 \nL 309.707955 216.463054 \nL 312.751591 216.289102 \nL 315.795227 216.615262 \nL 318.838864 216.905182 \nL 321.8825 217.245838 \nL 324.926136 217.354558 \nL 327.969773 217.506765 \nL 331.013409 217.658973 \nL 334.057045 217.934397 \nL 337.100682 218.166333 \nL 340.144318 218.289549 \nL 340.144318 218.289549 \nL 340.144318 218.289549 \nL 337.100682 218.166333 \nL 334.057045 217.934397 \nL 331.013409 217.658973 \nL 327.969773 217.506765 \nL 324.926136 217.354558 \nL 321.8825 217.245838 \nL 318.838864 216.905182 \nL 315.795227 216.615262 \nL 312.751591 216.289102 \nL 309.707955 216.463054 \nL 306.664318 216.339838 \nL 303.620682 215.875966 \nL 300.577045 215.622286 \nL 297.533409 215.759998 \nL 294.489773 215.433838 \nL 291.446136 215.383102 \nL 288.4025 215.68027 \nL 285.358864 215.615038 \nL 282.315227 215.528062 \nL 279.271591 215.31787 \nL 276.227955 215.194654 \nL 273.184318 214.91923 \nL 270.140682 214.788766 \nL 267.097045 214.788766 \nL 264.053409 214.81051 \nL 261.009773 214.672798 \nL 257.966136 214.477102 \nL 254.9225 214.542334 \nL 251.878864 214.04947 \nL 248.835227 213.853774 \nL 245.791591 213.68707 \nL 242.747955 214.08571 \nL 239.704318 214.455358 \nL 236.660682 214.01323 \nL 233.617045 213.882766 \nL 230.573409 213.600094 \nL 227.529773 213.447886 \nL 224.486136 213.339166 \nL 221.4425 212.882542 \nL 218.398864 212.665102 \nL 215.355227 212.425918 \nL 212.311591 212.49115 \nL 209.267955 212.317198 \nL 206.224318 211.896814 \nL 203.180682 211.411198 \nL 200.137045 210.940078 \nL 197.093409 210.693646 \nL 194.049773 210.519694 \nL 191.006136 210.548686 \nL 187.9625 210.635662 \nL 184.918864 210.809614 \nL 181.875227 211.04155 \nL 178.831591 211.889566 \nL 175.787955 212.005534 \nL 172.744318 212.483902 \nL 169.700682 212.483902 \nL 166.657045 212.78107 \nL 163.613409 213.056494 \nL 160.569773 213.10723 \nL 157.526136 213.50587 \nL 154.4825 213.962494 \nL 151.438864 214.143694 \nL 148.395227 213.824782 \nL 145.351591 214.129198 \nL 142.307955 213.984238 \nL 139.264318 214.585822 \nL 136.220682 214.368382 \nL 133.177045 214.26691 \nL 130.133409 214.419118 \nL 127.089773 214.585822 \nL 124.046136 214.658302 \nL 121.0025 214.759774 \nL 117.958864 214.911982 \nL 114.915227 214.77427 \nL 111.871591 214.853998 \nL 108.827955 214.99171 \nL 105.784318 215.339614 \nL 102.740682 215.441086 \nL 99.697045 214.803262 \nL 96.653409 214.62931 \nL 93.609773 212.947774 \nL 90.566136 213.020254 \nL 87.5225 212.498398 \nL 84.478864 211.853326 \nL 81.435227 211.69387 \nL 78.391591 211.759102 \nL 75.347955 211.309726 \nL 72.304318 210.53419 \nL 69.260682 210.476206 \nL 66.217045 210.432718 \nL 63.173409 210.02683 \nL 60.129773 209.381758 \nL 57.086136 208.707694 \nL 54.0425 207.613246 \nL 50.998864 206.07667 \nL 47.955227 206.192638 \nL 44.911591 206.482558 \nL 41.867955 206.228878 \nL 38.824318 206.518798 \nL 35.780682 206.815966 \nz\n\" style=\"fill:#1f77b4;fill-opacity:0.25;\"/>\n   </g>\n   <g id=\"matplotlib.axis_1\">\n    <g id=\"xtick_1\">\n     <g id=\"line2d_1\">\n      <defs>\n       <path d=\"M 0 0 \nL 0 3.5 \n\" id=\"mc3df854d0f\" style=\"stroke:#000000;stroke-width:0.8;\"/>\n      </defs>\n      <g>\n       <use style=\"stroke:#000000;stroke-width:0.8;\" x=\"35.780682\" xlink:href=\"#mc3df854d0f\" y=\"239.758125\"/>\n      </g>\n     </g>\n     <g id=\"text_1\">\n      <!-- 100 -->\n      <g transform=\"translate(26.236932 254.356562)scale(0.1 -0.1)\">\n       <defs>\n        <path d=\"M 12.40625 8.296875 \nL 28.515625 8.296875 \nL 28.515625 63.921875 \nL 10.984375 60.40625 \nL 10.984375 69.390625 \nL 28.421875 72.90625 \nL 38.28125 72.90625 \nL 38.28125 8.296875 \nL 54.390625 8.296875 \nL 54.390625 0 \nL 12.40625 0 \nz\n\" id=\"DejaVuSans-49\"/>\n        <path d=\"M 31.78125 66.40625 \nQ 24.171875 66.40625 20.328125 58.90625 \nQ 16.5 51.421875 16.5 36.375 \nQ 16.5 21.390625 20.328125 13.890625 \nQ 24.171875 6.390625 31.78125 6.390625 \nQ 39.453125 6.390625 43.28125 13.890625 \nQ 47.125 21.390625 47.125 36.375 \nQ 47.125 51.421875 43.28125 58.90625 \nQ 39.453125 66.40625 31.78125 66.40625 \nz\nM 31.78125 74.21875 \nQ 44.046875 74.21875 50.515625 64.515625 \nQ 56.984375 54.828125 56.984375 36.375 \nQ 56.984375 17.96875 50.515625 8.265625 \nQ 44.046875 -1.421875 31.78125 -1.421875 \nQ 19.53125 -1.421875 13.0625 8.265625 \nQ 6.59375 17.96875 6.59375 36.375 \nQ 6.59375 54.828125 13.0625 64.515625 \nQ 19.53125 74.21875 31.78125 74.21875 \nz\n\" id=\"DejaVuSans-48\"/>\n       </defs>\n       <use xlink:href=\"#DejaVuSans-49\"/>\n       <use x=\"63.623047\" xlink:href=\"#DejaVuSans-48\"/>\n       <use x=\"127.246094\" xlink:href=\"#DejaVuSans-48\"/>\n      </g>\n     </g>\n    </g>\n    <g id=\"xtick_2\">\n     <g id=\"line2d_2\">\n      <g>\n       <use style=\"stroke:#000000;stroke-width:0.8;\" x=\"340.144318\" xlink:href=\"#mc3df854d0f\" y=\"239.758125\"/>\n      </g>\n     </g>\n     <g id=\"text_2\">\n      <!-- 200 -->\n      <g transform=\"translate(330.600568 254.356562)scale(0.1 -0.1)\">\n       <defs>\n        <path d=\"M 19.1875 8.296875 \nL 53.609375 8.296875 \nL 53.609375 0 \nL 7.328125 0 \nL 7.328125 8.296875 \nQ 12.9375 14.109375 22.625 23.890625 \nQ 32.328125 33.6875 34.8125 36.53125 \nQ 39.546875 41.84375 41.421875 45.53125 \nQ 43.3125 49.21875 43.3125 52.78125 \nQ 43.3125 58.59375 39.234375 62.25 \nQ 35.15625 65.921875 28.609375 65.921875 \nQ 23.96875 65.921875 18.8125 64.3125 \nQ 13.671875 62.703125 7.8125 59.421875 \nL 7.8125 69.390625 \nQ 13.765625 71.78125 18.9375 73 \nQ 24.125 74.21875 28.421875 74.21875 \nQ 39.75 74.21875 46.484375 68.546875 \nQ 53.21875 62.890625 53.21875 53.421875 \nQ 53.21875 48.921875 51.53125 44.890625 \nQ 49.859375 40.875 45.40625 35.40625 \nQ 44.1875 33.984375 37.640625 27.21875 \nQ 31.109375 20.453125 19.1875 8.296875 \nz\n\" id=\"DejaVuSans-50\"/>\n       </defs>\n       <use xlink:href=\"#DejaVuSans-50\"/>\n       <use x=\"63.623047\" xlink:href=\"#DejaVuSans-48\"/>\n       <use x=\"127.246094\" xlink:href=\"#DejaVuSans-48\"/>\n      </g>\n     </g>\n    </g>\n    <g id=\"text_3\">\n     <!-- Number of episodes -->\n     <g transform=\"translate(137.719531 268.034687)scale(0.1 -0.1)\">\n      <defs>\n       <path d=\"M 9.8125 72.90625 \nL 23.09375 72.90625 \nL 55.421875 11.921875 \nL 55.421875 72.90625 \nL 64.984375 72.90625 \nL 64.984375 0 \nL 51.703125 0 \nL 19.390625 60.984375 \nL 19.390625 0 \nL 9.8125 0 \nz\n\" id=\"DejaVuSans-78\"/>\n       <path d=\"M 8.5 21.578125 \nL 8.5 54.6875 \nL 17.484375 54.6875 \nL 17.484375 21.921875 \nQ 17.484375 14.15625 20.5 10.265625 \nQ 23.53125 6.390625 29.59375 6.390625 \nQ 36.859375 6.390625 41.078125 11.03125 \nQ 45.3125 15.671875 45.3125 23.6875 \nL 45.3125 54.6875 \nL 54.296875 54.6875 \nL 54.296875 0 \nL 45.3125 0 \nL 45.3125 8.40625 \nQ 42.046875 3.421875 37.71875 1 \nQ 33.40625 -1.421875 27.6875 -1.421875 \nQ 18.265625 -1.421875 13.375 4.4375 \nQ 8.5 10.296875 8.5 21.578125 \nz\nM 31.109375 56 \nz\n\" id=\"DejaVuSans-117\"/>\n       <path d=\"M 52 44.1875 \nQ 55.375 50.25 60.0625 53.125 \nQ 64.75 56 71.09375 56 \nQ 79.640625 56 84.28125 50.015625 \nQ 88.921875 44.046875 88.921875 33.015625 \nL 88.921875 0 \nL 79.890625 0 \nL 79.890625 32.71875 \nQ 79.890625 40.578125 77.09375 44.375 \nQ 74.3125 48.1875 68.609375 48.1875 \nQ 61.625 48.1875 57.5625 43.546875 \nQ 53.515625 38.921875 53.515625 30.90625 \nL 53.515625 0 \nL 44.484375 0 \nL 44.484375 32.71875 \nQ 44.484375 40.625 41.703125 44.40625 \nQ 38.921875 48.1875 33.109375 48.1875 \nQ 26.21875 48.1875 22.15625 43.53125 \nQ 18.109375 38.875 18.109375 30.90625 \nL 18.109375 0 \nL 9.078125 0 \nL 9.078125 54.6875 \nL 18.109375 54.6875 \nL 18.109375 46.1875 \nQ 21.1875 51.21875 25.484375 53.609375 \nQ 29.78125 56 35.6875 56 \nQ 41.65625 56 45.828125 52.96875 \nQ 50 49.953125 52 44.1875 \nz\n\" id=\"DejaVuSans-109\"/>\n       <path d=\"M 48.6875 27.296875 \nQ 48.6875 37.203125 44.609375 42.84375 \nQ 40.53125 48.484375 33.40625 48.484375 \nQ 26.265625 48.484375 22.1875 42.84375 \nQ 18.109375 37.203125 18.109375 27.296875 \nQ 18.109375 17.390625 22.1875 11.75 \nQ 26.265625 6.109375 33.40625 6.109375 \nQ 40.53125 6.109375 44.609375 11.75 \nQ 48.6875 17.390625 48.6875 27.296875 \nz\nM 18.109375 46.390625 \nQ 20.953125 51.265625 25.265625 53.625 \nQ 29.59375 56 35.59375 56 \nQ 45.5625 56 51.78125 48.09375 \nQ 58.015625 40.1875 58.015625 27.296875 \nQ 58.015625 14.40625 51.78125 6.484375 \nQ 45.5625 -1.421875 35.59375 -1.421875 \nQ 29.59375 -1.421875 25.265625 0.953125 \nQ 20.953125 3.328125 18.109375 8.203125 \nL 18.109375 0 \nL 9.078125 0 \nL 9.078125 75.984375 \nL 18.109375 75.984375 \nz\n\" id=\"DejaVuSans-98\"/>\n       <path d=\"M 56.203125 29.59375 \nL 56.203125 25.203125 \nL 14.890625 25.203125 \nQ 15.484375 15.921875 20.484375 11.0625 \nQ 25.484375 6.203125 34.421875 6.203125 \nQ 39.59375 6.203125 44.453125 7.46875 \nQ 49.3125 8.734375 54.109375 11.28125 \nL 54.109375 2.78125 \nQ 49.265625 0.734375 44.1875 -0.34375 \nQ 39.109375 -1.421875 33.890625 -1.421875 \nQ 20.796875 -1.421875 13.15625 6.1875 \nQ 5.515625 13.8125 5.515625 26.8125 \nQ 5.515625 40.234375 12.765625 48.109375 \nQ 20.015625 56 32.328125 56 \nQ 43.359375 56 49.78125 48.890625 \nQ 56.203125 41.796875 56.203125 29.59375 \nz\nM 47.21875 32.234375 \nQ 47.125 39.59375 43.09375 43.984375 \nQ 39.0625 48.390625 32.421875 48.390625 \nQ 24.90625 48.390625 20.390625 44.140625 \nQ 15.875 39.890625 15.1875 32.171875 \nz\n\" id=\"DejaVuSans-101\"/>\n       <path d=\"M 41.109375 46.296875 \nQ 39.59375 47.171875 37.8125 47.578125 \nQ 36.03125 48 33.890625 48 \nQ 26.265625 48 22.1875 43.046875 \nQ 18.109375 38.09375 18.109375 28.8125 \nL 18.109375 0 \nL 9.078125 0 \nL 9.078125 54.6875 \nL 18.109375 54.6875 \nL 18.109375 46.1875 \nQ 20.953125 51.171875 25.484375 53.578125 \nQ 30.03125 56 36.53125 56 \nQ 37.453125 56 38.578125 55.875 \nQ 39.703125 55.765625 41.0625 55.515625 \nz\n\" id=\"DejaVuSans-114\"/>\n       <path id=\"DejaVuSans-32\"/>\n       <path d=\"M 30.609375 48.390625 \nQ 23.390625 48.390625 19.1875 42.75 \nQ 14.984375 37.109375 14.984375 27.296875 \nQ 14.984375 17.484375 19.15625 11.84375 \nQ 23.34375 6.203125 30.609375 6.203125 \nQ 37.796875 6.203125 41.984375 11.859375 \nQ 46.1875 17.53125 46.1875 27.296875 \nQ 46.1875 37.015625 41.984375 42.703125 \nQ 37.796875 48.390625 30.609375 48.390625 \nz\nM 30.609375 56 \nQ 42.328125 56 49.015625 48.375 \nQ 55.71875 40.765625 55.71875 27.296875 \nQ 55.71875 13.875 49.015625 6.21875 \nQ 42.328125 -1.421875 30.609375 -1.421875 \nQ 18.84375 -1.421875 12.171875 6.21875 \nQ 5.515625 13.875 5.515625 27.296875 \nQ 5.515625 40.765625 12.171875 48.375 \nQ 18.84375 56 30.609375 56 \nz\n\" id=\"DejaVuSans-111\"/>\n       <path d=\"M 37.109375 75.984375 \nL 37.109375 68.5 \nL 28.515625 68.5 \nQ 23.6875 68.5 21.796875 66.546875 \nQ 19.921875 64.59375 19.921875 59.515625 \nL 19.921875 54.6875 \nL 34.71875 54.6875 \nL 34.71875 47.703125 \nL 19.921875 47.703125 \nL 19.921875 0 \nL 10.890625 0 \nL 10.890625 47.703125 \nL 2.296875 47.703125 \nL 2.296875 54.6875 \nL 10.890625 54.6875 \nL 10.890625 58.5 \nQ 10.890625 67.625 15.140625 71.796875 \nQ 19.390625 75.984375 28.609375 75.984375 \nz\n\" id=\"DejaVuSans-102\"/>\n       <path d=\"M 18.109375 8.203125 \nL 18.109375 -20.796875 \nL 9.078125 -20.796875 \nL 9.078125 54.6875 \nL 18.109375 54.6875 \nL 18.109375 46.390625 \nQ 20.953125 51.265625 25.265625 53.625 \nQ 29.59375 56 35.59375 56 \nQ 45.5625 56 51.78125 48.09375 \nQ 58.015625 40.1875 58.015625 27.296875 \nQ 58.015625 14.40625 51.78125 6.484375 \nQ 45.5625 -1.421875 35.59375 -1.421875 \nQ 29.59375 -1.421875 25.265625 0.953125 \nQ 20.953125 3.328125 18.109375 8.203125 \nz\nM 48.6875 27.296875 \nQ 48.6875 37.203125 44.609375 42.84375 \nQ 40.53125 48.484375 33.40625 48.484375 \nQ 26.265625 48.484375 22.1875 42.84375 \nQ 18.109375 37.203125 18.109375 27.296875 \nQ 18.109375 17.390625 22.1875 11.75 \nQ 26.265625 6.109375 33.40625 6.109375 \nQ 40.53125 6.109375 44.609375 11.75 \nQ 48.6875 17.390625 48.6875 27.296875 \nz\n\" id=\"DejaVuSans-112\"/>\n       <path d=\"M 9.421875 54.6875 \nL 18.40625 54.6875 \nL 18.40625 0 \nL 9.421875 0 \nz\nM 9.421875 75.984375 \nL 18.40625 75.984375 \nL 18.40625 64.59375 \nL 9.421875 64.59375 \nz\n\" id=\"DejaVuSans-105\"/>\n       <path d=\"M 44.28125 53.078125 \nL 44.28125 44.578125 \nQ 40.484375 46.53125 36.375 47.5 \nQ 32.28125 48.484375 27.875 48.484375 \nQ 21.1875 48.484375 17.84375 46.4375 \nQ 14.5 44.390625 14.5 40.28125 \nQ 14.5 37.15625 16.890625 35.375 \nQ 19.28125 33.59375 26.515625 31.984375 \nL 29.59375 31.296875 \nQ 39.15625 29.25 43.1875 25.515625 \nQ 47.21875 21.78125 47.21875 15.09375 \nQ 47.21875 7.46875 41.1875 3.015625 \nQ 35.15625 -1.421875 24.609375 -1.421875 \nQ 20.21875 -1.421875 15.453125 -0.5625 \nQ 10.6875 0.296875 5.421875 2 \nL 5.421875 11.28125 \nQ 10.40625 8.6875 15.234375 7.390625 \nQ 20.0625 6.109375 24.8125 6.109375 \nQ 31.15625 6.109375 34.5625 8.28125 \nQ 37.984375 10.453125 37.984375 14.40625 \nQ 37.984375 18.0625 35.515625 20.015625 \nQ 33.0625 21.96875 24.703125 23.78125 \nL 21.578125 24.515625 \nQ 13.234375 26.265625 9.515625 29.90625 \nQ 5.8125 33.546875 5.8125 39.890625 \nQ 5.8125 47.609375 11.28125 51.796875 \nQ 16.75 56 26.8125 56 \nQ 31.78125 56 36.171875 55.265625 \nQ 40.578125 54.546875 44.28125 53.078125 \nz\n\" id=\"DejaVuSans-115\"/>\n       <path d=\"M 45.40625 46.390625 \nL 45.40625 75.984375 \nL 54.390625 75.984375 \nL 54.390625 0 \nL 45.40625 0 \nL 45.40625 8.203125 \nQ 42.578125 3.328125 38.25 0.953125 \nQ 33.9375 -1.421875 27.875 -1.421875 \nQ 17.96875 -1.421875 11.734375 6.484375 \nQ 5.515625 14.40625 5.515625 27.296875 \nQ 5.515625 40.1875 11.734375 48.09375 \nQ 17.96875 56 27.875 56 \nQ 33.9375 56 38.25 53.625 \nQ 42.578125 51.265625 45.40625 46.390625 \nz\nM 14.796875 27.296875 \nQ 14.796875 17.390625 18.875 11.75 \nQ 22.953125 6.109375 30.078125 6.109375 \nQ 37.203125 6.109375 41.296875 11.75 \nQ 45.40625 17.390625 45.40625 27.296875 \nQ 45.40625 37.203125 41.296875 42.84375 \nQ 37.203125 48.484375 30.078125 48.484375 \nQ 22.953125 48.484375 18.875 42.84375 \nQ 14.796875 37.203125 14.796875 27.296875 \nz\n\" id=\"DejaVuSans-100\"/>\n      </defs>\n      <use xlink:href=\"#DejaVuSans-78\"/>\n      <use x=\"74.804688\" xlink:href=\"#DejaVuSans-117\"/>\n      <use x=\"138.183594\" xlink:href=\"#DejaVuSans-109\"/>\n      <use x=\"235.595703\" xlink:href=\"#DejaVuSans-98\"/>\n      <use x=\"299.072266\" xlink:href=\"#DejaVuSans-101\"/>\n      <use x=\"360.595703\" xlink:href=\"#DejaVuSans-114\"/>\n      <use x=\"401.708984\" xlink:href=\"#DejaVuSans-32\"/>\n      <use x=\"433.496094\" xlink:href=\"#DejaVuSans-111\"/>\n      <use x=\"494.677734\" xlink:href=\"#DejaVuSans-102\"/>\n      <use x=\"529.882812\" xlink:href=\"#DejaVuSans-32\"/>\n      <use x=\"561.669922\" xlink:href=\"#DejaVuSans-101\"/>\n      <use x=\"623.193359\" xlink:href=\"#DejaVuSans-112\"/>\n      <use x=\"686.669922\" xlink:href=\"#DejaVuSans-105\"/>\n      <use x=\"714.453125\" xlink:href=\"#DejaVuSans-115\"/>\n      <use x=\"766.552734\" xlink:href=\"#DejaVuSans-111\"/>\n      <use x=\"827.734375\" xlink:href=\"#DejaVuSans-100\"/>\n      <use x=\"891.210938\" xlink:href=\"#DejaVuSans-101\"/>\n      <use x=\"952.734375\" xlink:href=\"#DejaVuSans-115\"/>\n     </g>\n    </g>\n   </g>\n   <g id=\"matplotlib.axis_2\">\n    <g id=\"ytick_1\">\n     <g id=\"line2d_3\">\n      <defs>\n       <path d=\"M 0 0 \nL -3.5 0 \n\" id=\"mcfc37aa6ef\" style=\"stroke:#000000;stroke-width:0.8;\"/>\n      </defs>\n      <g>\n       <use style=\"stroke:#000000;stroke-width:0.8;\" x=\"20.5625\" xlink:href=\"#mcfc37aa6ef\" y=\"239.758125\"/>\n      </g>\n     </g>\n     <g id=\"text_4\">\n      <!-- 0 -->\n      <g transform=\"translate(7.2 243.557344)scale(0.1 -0.1)\">\n       <use xlink:href=\"#DejaVuSans-48\"/>\n      </g>\n     </g>\n    </g>\n    <g id=\"ytick_2\">\n     <g id=\"line2d_4\">\n      <g>\n       <use style=\"stroke:#000000;stroke-width:0.8;\" x=\"20.5625\" xlink:href=\"#mcfc37aa6ef\" y=\"167.278125\"/>\n      </g>\n     </g>\n     <g id=\"text_5\">\n      <!-- 1 -->\n      <g transform=\"translate(7.2 171.077344)scale(0.1 -0.1)\">\n       <use xlink:href=\"#DejaVuSans-49\"/>\n      </g>\n     </g>\n    </g>\n    <g id=\"ytick_3\">\n     <g id=\"line2d_5\">\n      <g>\n       <use style=\"stroke:#000000;stroke-width:0.8;\" x=\"20.5625\" xlink:href=\"#mcfc37aa6ef\" y=\"94.798125\"/>\n      </g>\n     </g>\n     <g id=\"text_6\">\n      <!-- 2 -->\n      <g transform=\"translate(7.2 98.597344)scale(0.1 -0.1)\">\n       <use xlink:href=\"#DejaVuSans-50\"/>\n      </g>\n     </g>\n    </g>\n    <g id=\"ytick_4\">\n     <g id=\"line2d_6\">\n      <g>\n       <use style=\"stroke:#000000;stroke-width:0.8;\" x=\"20.5625\" xlink:href=\"#mcfc37aa6ef\" y=\"22.318125\"/>\n      </g>\n     </g>\n     <g id=\"text_7\">\n      <!-- 3 -->\n      <g transform=\"translate(7.2 26.117344)scale(0.1 -0.1)\">\n       <defs>\n        <path d=\"M 40.578125 39.3125 \nQ 47.65625 37.796875 51.625 33 \nQ 55.609375 28.21875 55.609375 21.1875 \nQ 55.609375 10.40625 48.1875 4.484375 \nQ 40.765625 -1.421875 27.09375 -1.421875 \nQ 22.515625 -1.421875 17.65625 -0.515625 \nQ 12.796875 0.390625 7.625 2.203125 \nL 7.625 11.71875 \nQ 11.71875 9.328125 16.59375 8.109375 \nQ 21.484375 6.890625 26.8125 6.890625 \nQ 36.078125 6.890625 40.9375 10.546875 \nQ 45.796875 14.203125 45.796875 21.1875 \nQ 45.796875 27.640625 41.28125 31.265625 \nQ 36.765625 34.90625 28.71875 34.90625 \nL 20.21875 34.90625 \nL 20.21875 43.015625 \nL 29.109375 43.015625 \nQ 36.375 43.015625 40.234375 45.921875 \nQ 44.09375 48.828125 44.09375 54.296875 \nQ 44.09375 59.90625 40.109375 62.90625 \nQ 36.140625 65.921875 28.71875 65.921875 \nQ 24.65625 65.921875 20.015625 65.03125 \nQ 15.375 64.15625 9.8125 62.3125 \nL 9.8125 71.09375 \nQ 15.4375 72.65625 20.34375 73.4375 \nQ 25.25 74.21875 29.59375 74.21875 \nQ 40.828125 74.21875 47.359375 69.109375 \nQ 53.90625 64.015625 53.90625 55.328125 \nQ 53.90625 49.265625 50.4375 45.09375 \nQ 46.96875 40.921875 40.578125 39.3125 \nz\n\" id=\"DejaVuSans-51\"/>\n       </defs>\n       <use xlink:href=\"#DejaVuSans-51\"/>\n      </g>\n     </g>\n    </g>\n   </g>\n   <g id=\"line2d_7\">\n    <path clip-path=\"url(#p7752419e6c)\" d=\"M 35.780682 206.815966 \nL 38.824318 206.518798 \nL 41.867955 206.228878 \nL 44.911591 206.482558 \nL 47.955227 206.192638 \nL 50.998864 206.07667 \nL 54.0425 207.613246 \nL 57.086136 208.707694 \nL 60.129773 209.381758 \nL 63.173409 210.02683 \nL 66.217045 210.432718 \nL 69.260682 210.476206 \nL 72.304318 210.53419 \nL 75.347955 211.309726 \nL 78.391591 211.759102 \nL 81.435227 211.69387 \nL 84.478864 211.853326 \nL 87.5225 212.498398 \nL 90.566136 213.020254 \nL 93.609773 212.947774 \nL 96.653409 214.62931 \nL 99.697045 214.803262 \nL 102.740682 215.441086 \nL 105.784318 215.339614 \nL 108.827955 214.99171 \nL 111.871591 214.853998 \nL 114.915227 214.77427 \nL 117.958864 214.911982 \nL 121.0025 214.759774 \nL 124.046136 214.658302 \nL 127.089773 214.585822 \nL 130.133409 214.419118 \nL 133.177045 214.26691 \nL 136.220682 214.368382 \nL 139.264318 214.585822 \nL 142.307955 213.984238 \nL 145.351591 214.129198 \nL 148.395227 213.824782 \nL 151.438864 214.143694 \nL 154.4825 213.962494 \nL 157.526136 213.50587 \nL 160.569773 213.10723 \nL 163.613409 213.056494 \nL 166.657045 212.78107 \nL 169.700682 212.483902 \nL 172.744318 212.483902 \nL 175.787955 212.005534 \nL 178.831591 211.889566 \nL 181.875227 211.04155 \nL 184.918864 210.809614 \nL 187.9625 210.635662 \nL 191.006136 210.548686 \nL 194.049773 210.519694 \nL 197.093409 210.693646 \nL 200.137045 210.940078 \nL 203.180682 211.411198 \nL 206.224318 211.896814 \nL 209.267955 212.317198 \nL 212.311591 212.49115 \nL 215.355227 212.425918 \nL 218.398864 212.665102 \nL 221.4425 212.882542 \nL 224.486136 213.339166 \nL 227.529773 213.447886 \nL 230.573409 213.600094 \nL 233.617045 213.882766 \nL 236.660682 214.01323 \nL 239.704318 214.455358 \nL 242.747955 214.08571 \nL 245.791591 213.68707 \nL 248.835227 213.853774 \nL 251.878864 214.04947 \nL 254.9225 214.542334 \nL 257.966136 214.477102 \nL 261.009773 214.672798 \nL 264.053409 214.81051 \nL 267.097045 214.788766 \nL 270.140682 214.788766 \nL 273.184318 214.91923 \nL 276.227955 215.194654 \nL 279.271591 215.31787 \nL 282.315227 215.528062 \nL 285.358864 215.615038 \nL 288.4025 215.68027 \nL 291.446136 215.383102 \nL 294.489773 215.433838 \nL 297.533409 215.759998 \nL 300.577045 215.622286 \nL 303.620682 215.875966 \nL 306.664318 216.339838 \nL 309.707955 216.463054 \nL 312.751591 216.289102 \nL 315.795227 216.615262 \nL 318.838864 216.905182 \nL 321.8825 217.245838 \nL 324.926136 217.354558 \nL 327.969773 217.506765 \nL 331.013409 217.658973 \nL 334.057045 217.934397 \nL 337.100682 218.166333 \nL 340.144318 218.289549 \n\" style=\"fill:none;stroke:#1f77b4;stroke-linecap:square;stroke-width:1.5;\"/>\n   </g>\n   <g id=\"line2d_8\">\n    <path clip-path=\"url(#p7752419e6c)\" d=\"M 35.780682 239.758125 \nL 35.780682 22.318125 \n\" style=\"fill:none;stroke:#1f77b4;stroke-linecap:square;stroke-width:0.75;\"/>\n   </g>\n   <g id=\"patch_3\">\n    <path d=\"M 20.5625 239.758125 \nL 20.5625 22.318125 \n\" style=\"fill:none;stroke:#000000;stroke-linecap:square;stroke-linejoin:miter;stroke-width:0.8;\"/>\n   </g>\n   <g id=\"patch_4\">\n    <path d=\"M 355.3625 239.758125 \nL 355.3625 22.318125 \n\" style=\"fill:none;stroke:#000000;stroke-linecap:square;stroke-linejoin:miter;stroke-width:0.8;\"/>\n   </g>\n   <g id=\"patch_5\">\n    <path d=\"M 20.5625 239.758125 \nL 355.3625 239.758125 \n\" style=\"fill:none;stroke:#000000;stroke-linecap:square;stroke-linejoin:miter;stroke-width:0.8;\"/>\n   </g>\n   <g id=\"patch_6\">\n    <path d=\"M 20.5625 22.318125 \nL 355.3625 22.318125 \n\" style=\"fill:none;stroke:#000000;stroke-linecap:square;stroke-linejoin:miter;stroke-width:0.8;\"/>\n   </g>\n   <g id=\"text_8\">\n    <!-- Average score over 100 consecutive episodes -->\n    <g transform=\"translate(50.290625 16.318125)scale(0.12 -0.12)\">\n     <defs>\n      <path d=\"M 34.1875 63.1875 \nL 20.796875 26.90625 \nL 47.609375 26.90625 \nz\nM 28.609375 72.90625 \nL 39.796875 72.90625 \nL 67.578125 0 \nL 57.328125 0 \nL 50.6875 18.703125 \nL 17.828125 18.703125 \nL 11.1875 0 \nL 0.78125 0 \nz\n\" id=\"DejaVuSans-65\"/>\n      <path d=\"M 2.984375 54.6875 \nL 12.5 54.6875 \nL 29.59375 8.796875 \nL 46.6875 54.6875 \nL 56.203125 54.6875 \nL 35.6875 0 \nL 23.484375 0 \nz\n\" id=\"DejaVuSans-118\"/>\n      <path d=\"M 34.28125 27.484375 \nQ 23.390625 27.484375 19.1875 25 \nQ 14.984375 22.515625 14.984375 16.5 \nQ 14.984375 11.71875 18.140625 8.90625 \nQ 21.296875 6.109375 26.703125 6.109375 \nQ 34.1875 6.109375 38.703125 11.40625 \nQ 43.21875 16.703125 43.21875 25.484375 \nL 43.21875 27.484375 \nz\nM 52.203125 31.203125 \nL 52.203125 0 \nL 43.21875 0 \nL 43.21875 8.296875 \nQ 40.140625 3.328125 35.546875 0.953125 \nQ 30.953125 -1.421875 24.3125 -1.421875 \nQ 15.921875 -1.421875 10.953125 3.296875 \nQ 6 8.015625 6 15.921875 \nQ 6 25.140625 12.171875 29.828125 \nQ 18.359375 34.515625 30.609375 34.515625 \nL 43.21875 34.515625 \nL 43.21875 35.40625 \nQ 43.21875 41.609375 39.140625 45 \nQ 35.0625 48.390625 27.6875 48.390625 \nQ 23 48.390625 18.546875 47.265625 \nQ 14.109375 46.140625 10.015625 43.890625 \nL 10.015625 52.203125 \nQ 14.9375 54.109375 19.578125 55.046875 \nQ 24.21875 56 28.609375 56 \nQ 40.484375 56 46.34375 49.84375 \nQ 52.203125 43.703125 52.203125 31.203125 \nz\n\" id=\"DejaVuSans-97\"/>\n      <path d=\"M 45.40625 27.984375 \nQ 45.40625 37.75 41.375 43.109375 \nQ 37.359375 48.484375 30.078125 48.484375 \nQ 22.859375 48.484375 18.828125 43.109375 \nQ 14.796875 37.75 14.796875 27.984375 \nQ 14.796875 18.265625 18.828125 12.890625 \nQ 22.859375 7.515625 30.078125 7.515625 \nQ 37.359375 7.515625 41.375 12.890625 \nQ 45.40625 18.265625 45.40625 27.984375 \nz\nM 54.390625 6.78125 \nQ 54.390625 -7.171875 48.1875 -13.984375 \nQ 42 -20.796875 29.203125 -20.796875 \nQ 24.46875 -20.796875 20.265625 -20.09375 \nQ 16.0625 -19.390625 12.109375 -17.921875 \nL 12.109375 -9.1875 \nQ 16.0625 -11.328125 19.921875 -12.34375 \nQ 23.78125 -13.375 27.78125 -13.375 \nQ 36.625 -13.375 41.015625 -8.765625 \nQ 45.40625 -4.15625 45.40625 5.171875 \nL 45.40625 9.625 \nQ 42.625 4.78125 38.28125 2.390625 \nQ 33.9375 0 27.875 0 \nQ 17.828125 0 11.671875 7.65625 \nQ 5.515625 15.328125 5.515625 27.984375 \nQ 5.515625 40.671875 11.671875 48.328125 \nQ 17.828125 56 27.875 56 \nQ 33.9375 56 38.28125 53.609375 \nQ 42.625 51.21875 45.40625 46.390625 \nL 45.40625 54.6875 \nL 54.390625 54.6875 \nz\n\" id=\"DejaVuSans-103\"/>\n      <path d=\"M 48.78125 52.59375 \nL 48.78125 44.1875 \nQ 44.96875 46.296875 41.140625 47.34375 \nQ 37.3125 48.390625 33.40625 48.390625 \nQ 24.65625 48.390625 19.8125 42.84375 \nQ 14.984375 37.3125 14.984375 27.296875 \nQ 14.984375 17.28125 19.8125 11.734375 \nQ 24.65625 6.203125 33.40625 6.203125 \nQ 37.3125 6.203125 41.140625 7.25 \nQ 44.96875 8.296875 48.78125 10.40625 \nL 48.78125 2.09375 \nQ 45.015625 0.34375 40.984375 -0.53125 \nQ 36.96875 -1.421875 32.421875 -1.421875 \nQ 20.0625 -1.421875 12.78125 6.34375 \nQ 5.515625 14.109375 5.515625 27.296875 \nQ 5.515625 40.671875 12.859375 48.328125 \nQ 20.21875 56 33.015625 56 \nQ 37.15625 56 41.109375 55.140625 \nQ 45.0625 54.296875 48.78125 52.59375 \nz\n\" id=\"DejaVuSans-99\"/>\n      <path d=\"M 54.890625 33.015625 \nL 54.890625 0 \nL 45.90625 0 \nL 45.90625 32.71875 \nQ 45.90625 40.484375 42.875 44.328125 \nQ 39.84375 48.1875 33.796875 48.1875 \nQ 26.515625 48.1875 22.3125 43.546875 \nQ 18.109375 38.921875 18.109375 30.90625 \nL 18.109375 0 \nL 9.078125 0 \nL 9.078125 54.6875 \nL 18.109375 54.6875 \nL 18.109375 46.1875 \nQ 21.34375 51.125 25.703125 53.5625 \nQ 30.078125 56 35.796875 56 \nQ 45.21875 56 50.046875 50.171875 \nQ 54.890625 44.34375 54.890625 33.015625 \nz\n\" id=\"DejaVuSans-110\"/>\n      <path d=\"M 18.3125 70.21875 \nL 18.3125 54.6875 \nL 36.8125 54.6875 \nL 36.8125 47.703125 \nL 18.3125 47.703125 \nL 18.3125 18.015625 \nQ 18.3125 11.328125 20.140625 9.421875 \nQ 21.96875 7.515625 27.59375 7.515625 \nL 36.8125 7.515625 \nL 36.8125 0 \nL 27.59375 0 \nQ 17.1875 0 13.234375 3.875 \nQ 9.28125 7.765625 9.28125 18.015625 \nL 9.28125 47.703125 \nL 2.6875 47.703125 \nL 2.6875 54.6875 \nL 9.28125 54.6875 \nL 9.28125 70.21875 \nz\n\" id=\"DejaVuSans-116\"/>\n     </defs>\n     <use xlink:href=\"#DejaVuSans-65\"/>\n     <use x=\"62.533203\" xlink:href=\"#DejaVuSans-118\"/>\n     <use x=\"121.712891\" xlink:href=\"#DejaVuSans-101\"/>\n     <use x=\"183.236328\" xlink:href=\"#DejaVuSans-114\"/>\n     <use x=\"224.349609\" xlink:href=\"#DejaVuSans-97\"/>\n     <use x=\"285.628906\" xlink:href=\"#DejaVuSans-103\"/>\n     <use x=\"349.105469\" xlink:href=\"#DejaVuSans-101\"/>\n     <use x=\"410.628906\" xlink:href=\"#DejaVuSans-32\"/>\n     <use x=\"442.416016\" xlink:href=\"#DejaVuSans-115\"/>\n     <use x=\"494.515625\" xlink:href=\"#DejaVuSans-99\"/>\n     <use x=\"549.496094\" xlink:href=\"#DejaVuSans-111\"/>\n     <use x=\"610.677734\" xlink:href=\"#DejaVuSans-114\"/>\n     <use x=\"649.541016\" xlink:href=\"#DejaVuSans-101\"/>\n     <use x=\"711.064453\" xlink:href=\"#DejaVuSans-32\"/>\n     <use x=\"742.851562\" xlink:href=\"#DejaVuSans-111\"/>\n     <use x=\"804.033203\" xlink:href=\"#DejaVuSans-118\"/>\n     <use x=\"863.212891\" xlink:href=\"#DejaVuSans-101\"/>\n     <use x=\"924.736328\" xlink:href=\"#DejaVuSans-114\"/>\n     <use x=\"965.849609\" xlink:href=\"#DejaVuSans-32\"/>\n     <use x=\"997.636719\" xlink:href=\"#DejaVuSans-49\"/>\n     <use x=\"1061.259766\" xlink:href=\"#DejaVuSans-48\"/>\n     <use x=\"1124.882812\" xlink:href=\"#DejaVuSans-48\"/>\n     <use x=\"1188.505859\" xlink:href=\"#DejaVuSans-32\"/>\n     <use x=\"1220.292969\" xlink:href=\"#DejaVuSans-99\"/>\n     <use x=\"1275.273438\" xlink:href=\"#DejaVuSans-111\"/>\n     <use x=\"1336.455078\" xlink:href=\"#DejaVuSans-110\"/>\n     <use x=\"1399.833984\" xlink:href=\"#DejaVuSans-115\"/>\n     <use x=\"1451.933594\" xlink:href=\"#DejaVuSans-101\"/>\n     <use x=\"1513.457031\" xlink:href=\"#DejaVuSans-99\"/>\n     <use x=\"1568.4375\" xlink:href=\"#DejaVuSans-117\"/>\n     <use x=\"1631.816406\" xlink:href=\"#DejaVuSans-116\"/>\n     <use x=\"1671.025391\" xlink:href=\"#DejaVuSans-105\"/>\n     <use x=\"1698.808594\" xlink:href=\"#DejaVuSans-118\"/>\n     <use x=\"1757.988281\" xlink:href=\"#DejaVuSans-101\"/>\n     <use x=\"1819.511719\" xlink:href=\"#DejaVuSans-32\"/>\n     <use x=\"1851.298828\" xlink:href=\"#DejaVuSans-101\"/>\n     <use x=\"1912.822266\" xlink:href=\"#DejaVuSans-112\"/>\n     <use x=\"1976.298828\" xlink:href=\"#DejaVuSans-105\"/>\n     <use x=\"2004.082031\" xlink:href=\"#DejaVuSans-115\"/>\n     <use x=\"2056.181641\" xlink:href=\"#DejaVuSans-111\"/>\n     <use x=\"2117.363281\" xlink:href=\"#DejaVuSans-100\"/>\n     <use x=\"2180.839844\" xlink:href=\"#DejaVuSans-101\"/>\n     <use x=\"2242.363281\" xlink:href=\"#DejaVuSans-115\"/>\n    </g>\n   </g>\n   <g id=\"legend_1\">\n    <g id=\"patch_7\">\n     <path d=\"M 283.476562 44.99625 \nL 348.3625 44.99625 \nQ 350.3625 44.99625 350.3625 42.99625 \nL 350.3625 29.318125 \nQ 350.3625 27.318125 348.3625 27.318125 \nL 283.476562 27.318125 \nQ 281.476562 27.318125 281.476562 29.318125 \nL 281.476562 42.99625 \nQ 281.476562 44.99625 283.476562 44.99625 \nz\n\" style=\"fill:#ffffff;opacity:0.8;stroke:#cccccc;stroke-linejoin:miter;\"/>\n    </g>\n    <g id=\"line2d_9\">\n     <path d=\"M 285.476562 35.416562 \nL 305.476562 35.416562 \n\" style=\"fill:none;stroke:#1f77b4;stroke-linecap:square;stroke-width:1.5;\"/>\n    </g>\n    <g id=\"line2d_10\"/>\n    <g id=\"text_9\">\n     <!-- A2Cn4 -->\n     <g transform=\"translate(313.476562 38.916562)scale(0.1 -0.1)\">\n      <defs>\n       <path d=\"M 64.40625 67.28125 \nL 64.40625 56.890625 \nQ 59.421875 61.53125 53.78125 63.8125 \nQ 48.140625 66.109375 41.796875 66.109375 \nQ 29.296875 66.109375 22.65625 58.46875 \nQ 16.015625 50.828125 16.015625 36.375 \nQ 16.015625 21.96875 22.65625 14.328125 \nQ 29.296875 6.6875 41.796875 6.6875 \nQ 48.140625 6.6875 53.78125 8.984375 \nQ 59.421875 11.28125 64.40625 15.921875 \nL 64.40625 5.609375 \nQ 59.234375 2.09375 53.4375 0.328125 \nQ 47.65625 -1.421875 41.21875 -1.421875 \nQ 24.65625 -1.421875 15.125 8.703125 \nQ 5.609375 18.84375 5.609375 36.375 \nQ 5.609375 53.953125 15.125 64.078125 \nQ 24.65625 74.21875 41.21875 74.21875 \nQ 47.75 74.21875 53.53125 72.484375 \nQ 59.328125 70.75 64.40625 67.28125 \nz\n\" id=\"DejaVuSans-67\"/>\n       <path d=\"M 37.796875 64.3125 \nL 12.890625 25.390625 \nL 37.796875 25.390625 \nz\nM 35.203125 72.90625 \nL 47.609375 72.90625 \nL 47.609375 25.390625 \nL 58.015625 25.390625 \nL 58.015625 17.1875 \nL 47.609375 17.1875 \nL 47.609375 0 \nL 37.796875 0 \nL 37.796875 17.1875 \nL 4.890625 17.1875 \nL 4.890625 26.703125 \nz\n\" id=\"DejaVuSans-52\"/>\n      </defs>\n      <use xlink:href=\"#DejaVuSans-65\"/>\n      <use x=\"68.408203\" xlink:href=\"#DejaVuSans-50\"/>\n      <use x=\"132.03125\" xlink:href=\"#DejaVuSans-67\"/>\n      <use x=\"201.855469\" xlink:href=\"#DejaVuSans-110\"/>\n      <use x=\"265.234375\" xlink:href=\"#DejaVuSans-52\"/>\n     </g>\n    </g>\n   </g>\n  </g>\n </g>\n <defs>\n  <clipPath id=\"p7752419e6c\">\n   <rect height=\"217.44\" width=\"334.8\" x=\"20.5625\" y=\"22.318125\"/>\n  </clipPath>\n </defs>\n</svg>\n",
      "image/png": "[encoded data removed]"
     },
     "metadata": {
      "needs_background": "light"
     }
    }
   ],
   "source": [
    "def plot_results(agents, training_results):\n",
    "    for agent, ts in zip(agents, training_results):\n",
    "        mean, std_dev, _ = ts\n",
    "        episode_solved = np.argmax(mean > 30) + 100\n",
    "        print('{}: Solved after {} episodes'.format(agent[0], episode_solved))\n",
    "\n",
    "        x = np.arange(100, 100 + mean.size)\n",
    "        line = plt.plot(x, mean, label = agent[0])\n",
    "        plt.fill_between(x, mean + std_dev, mean - std_dev, alpha=0.25)\n",
    "        plt.axvline(episode_solved, lw=0.75, color=line[0].get_color())\n",
    "\n",
    "    # plt.axhline(30, dashes=(4, 8), lw=0.75, color='black')\n",
    "    plt.xticks(np.arange(1, 1 + mean.size / 100) * 100)\n",
    "    plt.yticks(np.arange(0, 4))\n",
    "    plt.xlabel('Number of episodes')\n",
    "    plt.title('Average score over 100 consecutive episodes')\n",
    "    plt.legend()\n",
    "    plt.show()\n",
    "\n",
    "plot_results(agents[:1], training_results[:1])\n",
    "# plot_results(agents[2:], training_results[2:])"
   ]
  },
  {
   "source": [
    "## 8. Possible improvements"
   ],
   "cell_type": "markdown",
   "metadata": {}
  },
  {
   "source": [
    "## 9. Conclusions"
   ],
   "cell_type": "markdown",
   "metadata": {}
  }
 ],
 "metadata": {
  "kernelspec": {
   "display_name": "p2_continuous_control",
   "language": "python",
   "name": "p2_continuous_control"
  },
  "language_info": {
   "codemirror_mode": {
    "name": "ipython",
    "version": 3
   },
   "file_extension": ".py",
   "mimetype": "text/x-python",
   "name": "python",
   "nbconvert_exporter": "python",
   "pygments_lexer": "ipython3",
   "version": "3.6.12-final"
  }
 },
 "nbformat": 4,
 "nbformat_minor": 2
}