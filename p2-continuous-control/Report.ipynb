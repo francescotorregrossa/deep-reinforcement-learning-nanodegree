{
 "cells": [
  {
   "cell_type": "markdown",
   "metadata": {},
   "source": [
    "# Continuous Control\n",
    "\n",
    "The environment for this project is [Reacher](https://github.com/udacity/deep-reinforcement-learning/tree/master/p2_continuous_control) from Unity, and it's provided in the `setup` folder. We'll implement the A2C algorithm as the synchronous version of [A3C](https://web.stanford.edu/class/psych209/Readings/MnihEtAlHassibis15NatureControlDeepRL.pdf) (but the input won't be directly from pixels). Results will be shown in this notebook and the best solution will be implemented in `main.py`.\n",
    "\n",
    "![final](imgs/gif.gif \"final\")\n",
    "\n",
    "> The model used to generate this gif is `final.pth` (Dueling Double DQN), which was trained for 700 episodes using `main.py`.\n",
    "\n",
    "## 1. Prepare dependencies and environment\n",
    "\n",
    "Take a look at README.md before executing this notebook and make sure that the kernel is set to **p2_continuous_control**."
   ]
  },
  {
   "cell_type": "code",
   "execution_count": 1,
   "metadata": {},
   "outputs": [],
   "source": [
    "!pip -q install ./setup\n",
    "\n",
    "import sys\n",
    "import platform\n",
    "\n",
    "import numpy as np\n",
    "from numpy_ringbuffer import RingBuffer\n",
    "from scipy import signal\n",
    "import matplotlib.pyplot as plt\n",
    "\n",
    "import torch\n",
    "import torch.nn.functional as F\n",
    "import torch.optim as optim\n",
    "from torch.distributions.normal import Normal\n",
    "from torch import nn\n",
    "\n",
    "from setup import unityagents\n",
    "from unityagents import UnityEnvironment\n",
    "\n",
    "device = torch.device(\"cuda:0\" if torch.cuda.is_available() else \"cpu\")"
   ]
  },
  {
   "source": [
    "Unity environments contain **brains**, our interfaces for controlling agents. We'll be conrtolling the first (default) brain in the environment. It's also useful to keep information such as `state_size` and `action_size`."
   ],
   "cell_type": "markdown",
   "metadata": {}
  },
  {
   "cell_type": "code",
   "execution_count": 2,
   "metadata": {},
   "outputs": [
    {
     "output_type": "stream",
     "name": "stderr",
     "text": [
      "INFO:unityagents:\n'Academy' started successfully!\nUnity Academy name: Academy\n        Number of Brains: 1\n        Number of External Brains : 1\n        Lesson number : 0\n        Reset Parameters :\n\t\tgoal_size -> 5.0\n\t\tgoal_speed -> 1.0\nUnity brain name: ReacherBrain\n        Number of Visual Observations (per agent): 0\n        Vector Observation space type: continuous\n        Vector Observation space size (per agent): 33\n        Number of stacked Vector Observation: 1\n        Vector Action space type: continuous\n        Vector Action space size (per agent): 4\n        Vector Action descriptions: , , , \n"
     ]
    }
   ],
   "source": [
    "env = None\n",
    "system = platform.system()\n",
    "if system == 'Linux':\n",
    "    env = UnityEnvironment(file_name=\"setup/Reacher_Linux/Reacher.x86_64\")\n",
    "elif system == 'Darwin':\n",
    "    env = UnityEnvironment(file_name=\"setup/Reacher.app\")\n",
    "elif system == 'Windows':\n",
    "    env = UnityEnvironment(file_name=\"setup/Reacher_Windows_x86_64/Reacher.exe\")\n",
    "else:\n",
    "    print('Cannot find environment for this system.')\n",
    "\n",
    "# use the default brain\n",
    "brain_name = env.brain_names[0]\n",
    "brain = env.brains[brain_name]\n",
    "\n",
    "# reset the environment\n",
    "env_info = env.reset(train_mode=True)[brain_name]\n",
    "action_size = brain.vector_action_space_size\n",
    "state_size = env_info.vector_observations.shape[1]"
   ]
  },
  {
   "cell_type": "markdown",
   "metadata": {},
   "source": [
    "## 2. Actor\n",
    "\n"
   ]
  },
  {
   "cell_type": "code",
   "execution_count": 3,
   "metadata": {},
   "outputs": [],
   "source": [
    "class Actor(nn.Module):\n",
    "    \n",
    "    def __init__(self, state_size, action_size, hidden_layers=[64, 128, 64]):\n",
    "        super(Actor, self).__init__()\n",
    "        self.action_size = action_size\n",
    "        \n",
    "        # prepare the first hidden layer\n",
    "        self.hidden_layers = nn.ModuleList([nn.Linear(state_size, hidden_layers[0])])\n",
    "        \n",
    "        # prepare the rest of the hidden layers\n",
    "        A = hidden_layers[:-1]\n",
    "        B = hidden_layers[1:]\n",
    "        self.hidden_layers.extend([nn.Linear(a, b) for a, b in zip(A, B)])\n",
    "        \n",
    "        # the actor will output the parameters of a normal distribution, \n",
    "        # so for each action we need mu and sigma^2 (thus we double the action size)\n",
    "        self.output_layer = nn.Linear(hidden_layers[-1], action_size * 2)\n",
    "\n",
    "    def forward(self, state):\n",
    "        # connect layers to each other and put relu activations between them\n",
    "        for layer in self.hidden_layers:\n",
    "            state = layer(state)\n",
    "            state = F.relu(state)\n",
    "        state = self.output_layer(state)\n",
    "        \n",
    "        # reshape output in two rows (mu and sigma^2)\n",
    "        # distr_params = state.view(2, self.action_size)\n",
    "        mu = state[:self.action_size].unsqueeze(0)\n",
    "        sigma = F.softplus(state[self.action_size:]).unsqueeze(0)\n",
    "        \n",
    "        # mu is linear while sigma^2 uses a softplus\n",
    "        distr_params = torch.cat((mu, sigma), dim=0)\n",
    "\n",
    "        return distr_params\n",
    "    \n",
    "    # -- some utility functions -- #\n",
    "\n",
    "    def distribution(self, distr_params):\n",
    "        # then construct a normal distribution that depends on these values\n",
    "        return Normal(distr_params[0, :], distr_params[1, :])\n",
    "\n",
    "    def act(self, distribution):\n",
    "        # sample an action from a state's distribution\n",
    "        \n",
    "        # this policy is naturally stochastic, so there's no need to\n",
    "        # force randomnes using a strategy like eps-greedy\n",
    "        return distribution.sample()\n",
    "\n",
    "    def log_prob(self, distribs, actions):\n",
    "        # using a state's density function (pdf), calculate how likely it is to take the given action\n",
    "\n",
    "        # advantage (to be defined) will determine whether this value will increase or decrease\n",
    "        # output = torch.empty([0])\n",
    "        return torch.cat([self.distribution(d).log_prob(a) for d, a in zip(distribs, actions)], dim=0)\n",
    "    \n",
    "    def entropy(self, distribs):\n",
    "        # calculate the entropy of a state's distribution (in other words, how uncertain the \n",
    "        # result is -- which only depends on sigma in the case of a normal distribution)\n",
    "\n",
    "        # this will be maximized so that some exploration is always encouraged\n",
    "        return torch.cat([self.distribution(d).entropy() for d in distribs], dim=0)\n",
    "        "
   ]
  },
  {
   "cell_type": "markdown",
   "metadata": {},
   "source": [
    "## 3. Critic\n"
   ]
  },
  {
   "cell_type": "code",
   "execution_count": 4,
   "metadata": {},
   "outputs": [],
   "source": [
    "class Critic(nn.Module):\n",
    "    \n",
    "    def __init__(self, state_size, hidden_layers=[64, 128, 64]):\n",
    "        super(Critic, self).__init__()\n",
    "        \n",
    "        # prepare the first hidden layer\n",
    "        self.hidden_layers = nn.ModuleList([nn.Linear(state_size, hidden_layers[0])])\n",
    "        \n",
    "        # prepare the rest of the hidden layers\n",
    "        A = hidden_layers[:-1]\n",
    "        B = hidden_layers[1:]\n",
    "        self.hidden_layers.extend([nn.Linear(a, b) for a, b in zip(A, B)])\n",
    "        \n",
    "        # the critic outputs only a scalar V(s)\n",
    "        self.output_layer = nn.Linear(hidden_layers[-1], 1)\n",
    "\n",
    "    def forward(self, state):\n",
    "        # connect layers to each other and put relu activations between them\n",
    "        for layer in self.hidden_layers:\n",
    "            state = layer(state)\n",
    "            state = F.relu(state)\n",
    "        state = self.output_layer(state)\n",
    "        return state"
   ]
  },
  {
   "cell_type": "markdown",
   "metadata": {},
   "source": [
    "## 4. Advantage Estimation\n",
    "\n",
    "### 4.1 $n$-step"
   ]
  },
  {
   "cell_type": "code",
   "execution_count": 5,
   "metadata": {},
   "outputs": [],
   "source": [
    "def n_step(rewards, returns, values, gamma, tau):\n",
    "    return (returns.unsqueeze(1) - values[:-1]).detach()"
   ]
  },
  {
   "source": [
    "### 4.2 GAE"
   ],
   "cell_type": "markdown",
   "metadata": {}
  },
  {
   "cell_type": "code",
   "execution_count": 6,
   "metadata": {},
   "outputs": [],
   "source": [
    "def gae(rewards, returns, values, gamma, tau):\n",
    "    print(rewards.size(), values[1:].size(), values[:-1].size())\n",
    "    one_step_advantage = np.array(rewards + gamma * values[1:] -  values[:-1])\n",
    "    print(one_step_advantage)\n",
    "    advantage = 0\n",
    "    advantages = []\n",
    "    for step in one_step_advantage[::-1]:\n",
    "        advantage = step + gamma * tau * advantage\n",
    "        advantages.append(advantage)\n",
    "    return torch.FloatTensor(advantage[::-1]).to(device)\n"
   ]
  },
  {
   "source": [
    "## 5. Agent"
   ],
   "cell_type": "markdown",
   "metadata": {}
  },
  {
   "cell_type": "code",
   "execution_count": 7,
   "metadata": {},
   "outputs": [],
   "source": [
    "class A2CAgent():\n",
    "    \n",
    "    # -- initialization -- #\n",
    "    def __init__(self, state_size, action_size, calc_advantage, \n",
    "                 gamma=0.98, alpha_actor=0.001, alpha_critic=0.0001, beta=0.001, tau=0.25,\n",
    "                 n=4, learning=True):\n",
    "        self.state_size, self.action_size = state_size, action_size\n",
    "        self.calc_advantage = calc_advantage\n",
    "        self.learning = learning\n",
    "        self.alpha_actor, self.alpha_critic = alpha_actor, alpha_critic\n",
    "        self.gamma, self.tau = gamma, tau\n",
    "        self.initial_beta = beta\n",
    "        self.n = n\n",
    "        self.reset()\n",
    "\n",
    "    def reset_temporary_buffer(self):\n",
    "        # used to store n consecutive steps\n",
    "        self.tmp_s, self.tmp_a, self.tmp_r, self.tmp_ns, self.tmp_d = \\\n",
    "            ([None] * self.n, [None] * self.n, [None] * self.n, [None] * self.n, [None] * self.n)\n",
    "        self.tmp_actor_out = [None] * self.n\n",
    "    \n",
    "    def reset(self):\n",
    "        self.beta = self.initial_beta\n",
    "        self.actor = Actor(state_size, action_size).to(device)\n",
    "        self.critic = Critic(state_size).to(device)\n",
    "\n",
    "        self.actor_optimizer = optim.Adam(self.actor.parameters(), lr=self.alpha_actor)\n",
    "        self.critic_optimizer = optim.Adam(self.critic.parameters(), lr=self.alpha_critic)\n",
    "        \n",
    "        self.reset_temporary_buffer()\n",
    "        self.i = 0\n",
    "    # -- initialization -- #\n",
    "\n",
    "    def act(self, s):\n",
    "        \n",
    "        # use the actor to transform the state into a normal distribution\n",
    "        s = torch.FloatTensor(s).to(device)\n",
    "        distr_params = self.actor(s)\n",
    "        distribution = self.actor.distribution(distr_params)\n",
    "\n",
    "        # store the distribution as we'll need it later\n",
    "        # self.tmp_actor_out[self.i] = distr_params\n",
    "        self.tmp_actor_out[self.i] = distr_params.unsqueeze(0)\n",
    "\n",
    "        # sample an action from the distribution\n",
    "        return np.array(self.actor.act(distribution))\n",
    "\n",
    "    def store(self, s, a, r, ns, d):\n",
    "        self.tmp_s[self.i], self.tmp_a[self.i], self.tmp_r[self.i], self.tmp_ns[self.i], self.tmp_d[self.i] = (s, a, r, ns, d)\n",
    "\n",
    "        if self.i == self.n - 1:\n",
    "            self.learn()\n",
    "            self.beta = self.beta * self.initial_beta\n",
    "        \n",
    "        self.i = (self.i + 1) % self.n\n",
    "\n",
    "    def calc_returns(self, rewards, future, gamma):\n",
    "        with torch.no_grad():\n",
    "            returns = [None] * self.n\n",
    "            tmp = future\n",
    "            for i, r in enumerate(reversed(np.array(rewards))):\n",
    "                tmp = r + gamma * tmp\n",
    "                returns[i] = tmp\n",
    "        return torch.FloatTensor(returns[::-1])\n",
    "\n",
    "    def learn(self):\n",
    "\n",
    "        self.s, self.a, self.r, self.ns, self.d, self.actor_out = (\n",
    "            torch.FloatTensor(self.tmp_s).to(device),\n",
    "            torch.FloatTensor(self.tmp_a).to(device),\n",
    "            torch.FloatTensor(self.tmp_r).to(device),\n",
    "            torch.FloatTensor(self.tmp_ns).to(device),\n",
    "            torch.FloatTensor(self.tmp_d).to(device),\n",
    "            torch.cat(self.tmp_actor_out, dim=0).to(device)\n",
    "        )\n",
    "\n",
    "        # use the critic to evaluate all n+1 states\n",
    "        all_states = torch.cat((self.s, self.ns[-1:]), dim=0)  # [n+1, state_size]\n",
    "        state_values = self.critic(all_states)  # [n+1, 1]\n",
    "\n",
    "        # calculate some slightly more accurate returns using n rewards and a predicion of G_n+1\n",
    "        # note that the prediction will only be considered if the episode isn't finished yet\n",
    "        returns = self.calc_returns(self.r, state_values[-1:] * (1 - self.d[-1:]), self.gamma)\n",
    "\n",
    "        # calculate the advantages at each state\n",
    "        advantages = self.calc_advantage(self.r, returns, state_values, self.gamma, self.tau)\n",
    "        \n",
    "        # actor update\n",
    "        self.actor_optimizer.zero_grad()\n",
    "        log_prob = -self.actor.log_prob(self.actor_out, self.a.detach())\n",
    "        entropy = self.actor.entropy(self.actor_out)\n",
    "        actor_loss = torch.mean(log_prob * advantages + entropy * self.beta)\n",
    "        actor_loss.backward()\n",
    "        self.actor_optimizer.step()\n",
    "\n",
    "        # critic update\n",
    "        self.critic_optimizer.zero_grad()\n",
    "        critic_loss = torch.mean((returns.unsqueeze(1).detach() - state_values[:-1]) ** 2)\n",
    "        critic_loss.backward()\n",
    "        self.critic_optimizer.step()\n",
    "\n",
    "        self.reset_temporary_buffer()\n",
    "        "
   ]
  },
  {
   "source": [
    "## 6. Training an agent"
   ],
   "cell_type": "markdown",
   "metadata": {}
  },
  {
   "cell_type": "code",
   "execution_count": 8,
   "metadata": {},
   "outputs": [],
   "source": [
    "agents = [('A2Cn4', A2CAgent(state_size, action_size, n_step, n=4))]\n",
    "          # ('A2Cn8', A2CAgent(state_size, action_size, n_step, n=8)),\n",
    "          # ('A2CGAEn8', A2CAgent(state_size, action_size, gae, n=8))]"
   ]
  },
  {
   "cell_type": "code",
   "execution_count": 9,
   "metadata": {},
   "outputs": [],
   "source": [
    "def execute_episode(agent, env):\n",
    "    # prepare the environment\n",
    "    score = 0\n",
    "    done = False\n",
    "    env_info = env.reset(train_mode=True)[brain_name]\n",
    "    \n",
    "    # get the initial state\n",
    "    state = env_info.vector_observations[0]\n",
    "    while not done:\n",
    "\n",
    "        # evaluate the current state\n",
    "        action = agent.act(state)\n",
    "        \n",
    "        # execute the chosen action and get the outcome\n",
    "        env_info = env.step(action)[brain_name]\n",
    "        next_state = env_info.vector_observations[0]\n",
    "        reward = env_info.rewards[0]\n",
    "        done = env_info.local_done[0]\n",
    "\n",
    "        # store the experience (also automatically learn, from time to time)\n",
    "        agent.store(state, action, reward, next_state, done)\n",
    "\n",
    "        # prepare for the next iteration\n",
    "        state = next_state\n",
    "        score += reward\n",
    "    \n",
    "    # return the total rewards obtained\n",
    "    return score"
   ]
  },
  {
   "cell_type": "code",
   "execution_count": 10,
   "metadata": {},
   "outputs": [],
   "source": [
    "def train(agent, env, episodes=100, repeat=1, consecutive_episodes=20, show_output=True, save_as=None):\n",
    "\n",
    "    results = [None] * repeat\n",
    "    for r in range(repeat):\n",
    "        partial_results = [None] * episodes\n",
    "\n",
    "        # reset the agent to start learning from scratch\n",
    "        # agent.reset()\n",
    "        for i in range(episodes):\n",
    "\n",
    "            # execute all the episodes and store the results\n",
    "            score = execute_episode(agent, env)\n",
    "            partial_results[i] = score\n",
    "            \n",
    "            if show_output:\n",
    "                print(\"\\r[{}] Episode: {}, Score: {}\".format(r+1, i+1, score), end=\"\")\n",
    "                sys.stdout.flush()\n",
    "        if show_output:\n",
    "            print()\n",
    "\n",
    "        results[r] = partial_results\n",
    "\n",
    "        # store the trained model if requested\n",
    "        if save_as is not None:\n",
    "            torch.save(agent.actor.state_dict(), '{}/{}_actor.pth'.format(save_as, r+1))\n",
    "            torch.save(agent.critic.state_dict(), '{}/{}_critic.pth'.format(save_as, r+1))\n",
    "\n",
    "    # use convolutions to calculate the mean and standard deviation summarizing the training step\n",
    "    results = np.array(results)\n",
    "    mean = signal.convolve2d(results, np.ones([repeat, consecutive_episodes]) / (repeat * consecutive_episodes), mode='valid')    \n",
    "    v = signal.convolve2d(results, np.ones([1, consecutive_episodes]) / consecutive_episodes, mode='valid')\n",
    "    std_dev = signal.convolve2d(v ** 2 - mean ** 2, np.ones([repeat, 1]) / repeat, mode='valid') ** (1/2)\n",
    "    return mean.flatten(), std_dev.flatten(), results"
   ]
  },
  {
   "cell_type": "code",
   "execution_count": 11,
   "metadata": {
    "tags": []
   },
   "outputs": [
    {
     "output_type": "stream",
     "name": "stdout",
     "text": [
      "Agent: A2Cn4\n",
      "[1] Episode: 100, Score: 1.289999971166253\n"
     ]
    }
   ],
   "source": [
    "training_results = []\n",
    "for ag in agents:\n",
    "    name, agent = ag\n",
    "    print('Agent: {}'.format(name))\n",
    "    mean, std_dev, full_report = train(agent, env, save_as='models/{}'.format(name.replace(\" \", \"_\")))\n",
    "    training_results.append((mean, std_dev, full_report))\n",
    "env.close()"
   ]
  },
  {
   "source": [
    "## 7. Comparing the results"
   ],
   "cell_type": "markdown",
   "metadata": {}
  },
  {
   "cell_type": "code",
   "execution_count": 13,
   "metadata": {},
   "outputs": [
    {
     "output_type": "stream",
     "name": "stdout",
     "text": [
      "A2Cn4: Solved after 100 episodes\n"
     ]
    },
    {
     "output_type": "display_data",
     "data": {
      "text/plain": "<Figure size 432x288 with 1 Axes>",
      "image/svg+xml": "<?xml version=\"1.0\" encoding=\"utf-8\" standalone=\"no\"?>\n<!DOCTYPE svg PUBLIC \"-//W3C//DTD SVG 1.1//EN\"\n  \"http://www.w3.org/Graphics/SVG/1.1/DTD/svg11.dtd\">\n<!-- Created with matplotlib (https://matplotlib.org/) -->\n<svg height=\"277.314375pt\" version=\"1.1\" viewBox=\"0 0 362.5625 277.314375\" width=\"362.5625pt\" xmlns=\"http://www.w3.org/2000/svg\" xmlns:xlink=\"http://www.w3.org/1999/xlink\">\n <metadata>\n  <rdf:RDF xmlns:cc=\"http://creativecommons.org/ns#\" xmlns:dc=\"http://purl.org/dc/elements/1.1/\" xmlns:rdf=\"http://www.w3.org/1999/02/22-rdf-syntax-ns#\">\n   <cc:Work>\n    <dc:type rdf:resource=\"http://purl.org/dc/dcmitype/StillImage\"/>\n    <dc:date>2020-12-19T17:41:12.338767</dc:date>\n    <dc:format>image/svg+xml</dc:format>\n    <dc:creator>\n     <cc:Agent>\n      <dc:title>Matplotlib v3.3.3, https://matplotlib.org/</dc:title>\n     </cc:Agent>\n    </dc:creator>\n   </cc:Work>\n  </rdf:RDF>\n </metadata>\n <defs>\n  <style type=\"text/css\">*{stroke-linecap:butt;stroke-linejoin:round;}</style>\n </defs>\n <g id=\"figure_1\">\n  <g id=\"patch_1\">\n   <path d=\"M 0 277.314375 \nL 362.5625 277.314375 \nL 362.5625 0 \nL 0 0 \nz\n\" style=\"fill:none;\"/>\n  </g>\n  <g id=\"axes_1\">\n   <g id=\"patch_2\">\n    <path d=\"M 20.5625 239.758125 \nL 355.3625 239.758125 \nL 355.3625 22.318125 \nL 20.5625 22.318125 \nz\n\" style=\"fill:#ffffff;\"/>\n   </g>\n   <g id=\"PolyCollection_1\">\n    <path clip-path=\"url(#pa33d1132fa)\" d=\"M 35.780682 188.043646 \nL 35.780682 188.043646 \nL 39.585227 186.231646 \nL 43.389773 183.658606 \nL 47.194318 183.441166 \nL 50.998864 183.984766 \nL 54.803409 190.363006 \nL 58.607955 188.369806 \nL 62.4125 181.737886 \nL 66.217045 183.549886 \nL 70.021591 179.164846 \nL 73.826136 180.034606 \nL 77.630682 182.064046 \nL 81.435227 186.485326 \nL 85.239773 189.964366 \nL 89.044318 190.616686 \nL 92.848864 190.906606 \nL 96.653409 188.804686 \nL 100.457955 191.341486 \nL 104.2625 191.740126 \nL 108.067045 194.385646 \nL 111.871591 193.081006 \nL 115.676136 194.059486 \nL 119.480682 195.799006 \nL 123.285227 192.501166 \nL 127.089773 189.384526 \nL 130.894318 187.934926 \nL 134.698864 186.594046 \nL 138.503409 193.298446 \nL 142.307955 192.283726 \nL 146.1125 193.044766 \nL 149.917045 190.435486 \nL 153.721591 187.463806 \nL 157.526136 187.789966 \nL 161.330682 187.934926 \nL 165.135227 186.485326 \nL 168.939773 186.666526 \nL 172.744318 188.913406 \nL 176.548864 189.457006 \nL 180.353409 191.015326 \nL 184.157955 190.036846 \nL 187.9625 191.377726 \nL 191.767045 190.580446 \nL 195.571591 189.384526 \nL 199.376136 195.146686 \nL 203.180682 197.248606 \nL 206.985227 197.321086 \nL 210.789773 198.879406 \nL 214.594318 197.828446 \nL 218.398864 198.988126 \nL 222.203409 201.561166 \nL 226.007955 201.996046 \nL 229.8125 201.126286 \nL 233.617045 199.785406 \nL 237.421591 200.256526 \nL 241.226136 200.220286 \nL 245.030682 198.734446 \nL 248.835227 195.001726 \nL 252.639773 190.145566 \nL 256.444318 187.355086 \nL 260.248864 183.839806 \nL 264.053409 183.115006 \nL 267.857955 184.057246 \nL 271.6625 185.108206 \nL 275.467045 183.332446 \nL 279.271591 181.121806 \nL 283.076136 180.107086 \nL 286.880682 179.237326 \nL 290.685227 178.802446 \nL 294.489773 179.273566 \nL 298.294318 180.904366 \nL 302.098864 180.759406 \nL 305.903409 181.049326 \nL 309.707955 179.672206 \nL 313.5125 177.497806 \nL 317.317045 177.606526 \nL 321.121591 179.056126 \nL 324.926136 183.259966 \nL 328.730682 185.506846 \nL 332.535227 182.933806 \nL 336.339773 185.361886 \nL 340.144318 183.948526 \nL 340.144318 183.948526 \nL 340.144318 183.948526 \nL 336.339773 185.361886 \nL 332.535227 182.933806 \nL 328.730682 185.506846 \nL 324.926136 183.259966 \nL 321.121591 179.056126 \nL 317.317045 177.606526 \nL 313.5125 177.497806 \nL 309.707955 179.672206 \nL 305.903409 181.049326 \nL 302.098864 180.759406 \nL 298.294318 180.904366 \nL 294.489773 179.273566 \nL 290.685227 178.802446 \nL 286.880682 179.237326 \nL 283.076136 180.107086 \nL 279.271591 181.121806 \nL 275.467045 183.332446 \nL 271.6625 185.108206 \nL 267.857955 184.057246 \nL 264.053409 183.115006 \nL 260.248864 183.839806 \nL 256.444318 187.355086 \nL 252.639773 190.145566 \nL 248.835227 195.001726 \nL 245.030682 198.734446 \nL 241.226136 200.220286 \nL 237.421591 200.256526 \nL 233.617045 199.785406 \nL 229.8125 201.126286 \nL 226.007955 201.996046 \nL 222.203409 201.561166 \nL 218.398864 198.988126 \nL 214.594318 197.828446 \nL 210.789773 198.879406 \nL 206.985227 197.321086 \nL 203.180682 197.248606 \nL 199.376136 195.146686 \nL 195.571591 189.384526 \nL 191.767045 190.580446 \nL 187.9625 191.377726 \nL 184.157955 190.036846 \nL 180.353409 191.015326 \nL 176.548864 189.457006 \nL 172.744318 188.913406 \nL 168.939773 186.666526 \nL 165.135227 186.485326 \nL 161.330682 187.934926 \nL 157.526136 187.789966 \nL 153.721591 187.463806 \nL 149.917045 190.435486 \nL 146.1125 193.044766 \nL 142.307955 192.283726 \nL 138.503409 193.298446 \nL 134.698864 186.594046 \nL 130.894318 187.934926 \nL 127.089773 189.384526 \nL 123.285227 192.501166 \nL 119.480682 195.799006 \nL 115.676136 194.059486 \nL 111.871591 193.081006 \nL 108.067045 194.385646 \nL 104.2625 191.740126 \nL 100.457955 191.341486 \nL 96.653409 188.804686 \nL 92.848864 190.906606 \nL 89.044318 190.616686 \nL 85.239773 189.964366 \nL 81.435227 186.485326 \nL 77.630682 182.064046 \nL 73.826136 180.034606 \nL 70.021591 179.164846 \nL 66.217045 183.549886 \nL 62.4125 181.737886 \nL 58.607955 188.369806 \nL 54.803409 190.363006 \nL 50.998864 183.984766 \nL 47.194318 183.441166 \nL 43.389773 183.658606 \nL 39.585227 186.231646 \nL 35.780682 188.043646 \nz\n\" style=\"fill:#1f77b4;fill-opacity:0.25;\"/>\n   </g>\n   <g id=\"matplotlib.axis_1\">\n    <g id=\"xtick_1\">\n     <g id=\"line2d_1\">\n      <defs>\n       <path d=\"M 0 0 \nL 0 3.5 \n\" id=\"mb5d18d8033\" style=\"stroke:#000000;stroke-width:0.8;\"/>\n      </defs>\n      <g>\n       <use style=\"stroke:#000000;stroke-width:0.8;\" x=\"35.780682\" xlink:href=\"#mb5d18d8033\" y=\"239.758125\"/>\n      </g>\n     </g>\n     <g id=\"text_1\">\n      <!-- 100 -->\n      <g transform=\"translate(26.236932 254.356562)scale(0.1 -0.1)\">\n       <defs>\n        <path d=\"M 12.40625 8.296875 \nL 28.515625 8.296875 \nL 28.515625 63.921875 \nL 10.984375 60.40625 \nL 10.984375 69.390625 \nL 28.421875 72.90625 \nL 38.28125 72.90625 \nL 38.28125 8.296875 \nL 54.390625 8.296875 \nL 54.390625 0 \nL 12.40625 0 \nz\n\" id=\"DejaVuSans-49\"/>\n        <path d=\"M 31.78125 66.40625 \nQ 24.171875 66.40625 20.328125 58.90625 \nQ 16.5 51.421875 16.5 36.375 \nQ 16.5 21.390625 20.328125 13.890625 \nQ 24.171875 6.390625 31.78125 6.390625 \nQ 39.453125 6.390625 43.28125 13.890625 \nQ 47.125 21.390625 47.125 36.375 \nQ 47.125 51.421875 43.28125 58.90625 \nQ 39.453125 66.40625 31.78125 66.40625 \nz\nM 31.78125 74.21875 \nQ 44.046875 74.21875 50.515625 64.515625 \nQ 56.984375 54.828125 56.984375 36.375 \nQ 56.984375 17.96875 50.515625 8.265625 \nQ 44.046875 -1.421875 31.78125 -1.421875 \nQ 19.53125 -1.421875 13.0625 8.265625 \nQ 6.59375 17.96875 6.59375 36.375 \nQ 6.59375 54.828125 13.0625 64.515625 \nQ 19.53125 74.21875 31.78125 74.21875 \nz\n\" id=\"DejaVuSans-48\"/>\n       </defs>\n       <use xlink:href=\"#DejaVuSans-49\"/>\n       <use x=\"63.623047\" xlink:href=\"#DejaVuSans-48\"/>\n       <use x=\"127.246094\" xlink:href=\"#DejaVuSans-48\"/>\n      </g>\n     </g>\n    </g>\n    <g id=\"text_2\">\n     <!-- Number of episodes -->\n     <g transform=\"translate(137.719531 268.034687)scale(0.1 -0.1)\">\n      <defs>\n       <path d=\"M 9.8125 72.90625 \nL 23.09375 72.90625 \nL 55.421875 11.921875 \nL 55.421875 72.90625 \nL 64.984375 72.90625 \nL 64.984375 0 \nL 51.703125 0 \nL 19.390625 60.984375 \nL 19.390625 0 \nL 9.8125 0 \nz\n\" id=\"DejaVuSans-78\"/>\n       <path d=\"M 8.5 21.578125 \nL 8.5 54.6875 \nL 17.484375 54.6875 \nL 17.484375 21.921875 \nQ 17.484375 14.15625 20.5 10.265625 \nQ 23.53125 6.390625 29.59375 6.390625 \nQ 36.859375 6.390625 41.078125 11.03125 \nQ 45.3125 15.671875 45.3125 23.6875 \nL 45.3125 54.6875 \nL 54.296875 54.6875 \nL 54.296875 0 \nL 45.3125 0 \nL 45.3125 8.40625 \nQ 42.046875 3.421875 37.71875 1 \nQ 33.40625 -1.421875 27.6875 -1.421875 \nQ 18.265625 -1.421875 13.375 4.4375 \nQ 8.5 10.296875 8.5 21.578125 \nz\nM 31.109375 56 \nz\n\" id=\"DejaVuSans-117\"/>\n       <path d=\"M 52 44.1875 \nQ 55.375 50.25 60.0625 53.125 \nQ 64.75 56 71.09375 56 \nQ 79.640625 56 84.28125 50.015625 \nQ 88.921875 44.046875 88.921875 33.015625 \nL 88.921875 0 \nL 79.890625 0 \nL 79.890625 32.71875 \nQ 79.890625 40.578125 77.09375 44.375 \nQ 74.3125 48.1875 68.609375 48.1875 \nQ 61.625 48.1875 57.5625 43.546875 \nQ 53.515625 38.921875 53.515625 30.90625 \nL 53.515625 0 \nL 44.484375 0 \nL 44.484375 32.71875 \nQ 44.484375 40.625 41.703125 44.40625 \nQ 38.921875 48.1875 33.109375 48.1875 \nQ 26.21875 48.1875 22.15625 43.53125 \nQ 18.109375 38.875 18.109375 30.90625 \nL 18.109375 0 \nL 9.078125 0 \nL 9.078125 54.6875 \nL 18.109375 54.6875 \nL 18.109375 46.1875 \nQ 21.1875 51.21875 25.484375 53.609375 \nQ 29.78125 56 35.6875 56 \nQ 41.65625 56 45.828125 52.96875 \nQ 50 49.953125 52 44.1875 \nz\n\" id=\"DejaVuSans-109\"/>\n       <path d=\"M 48.6875 27.296875 \nQ 48.6875 37.203125 44.609375 42.84375 \nQ 40.53125 48.484375 33.40625 48.484375 \nQ 26.265625 48.484375 22.1875 42.84375 \nQ 18.109375 37.203125 18.109375 27.296875 \nQ 18.109375 17.390625 22.1875 11.75 \nQ 26.265625 6.109375 33.40625 6.109375 \nQ 40.53125 6.109375 44.609375 11.75 \nQ 48.6875 17.390625 48.6875 27.296875 \nz\nM 18.109375 46.390625 \nQ 20.953125 51.265625 25.265625 53.625 \nQ 29.59375 56 35.59375 56 \nQ 45.5625 56 51.78125 48.09375 \nQ 58.015625 40.1875 58.015625 27.296875 \nQ 58.015625 14.40625 51.78125 6.484375 \nQ 45.5625 -1.421875 35.59375 -1.421875 \nQ 29.59375 -1.421875 25.265625 0.953125 \nQ 20.953125 3.328125 18.109375 8.203125 \nL 18.109375 0 \nL 9.078125 0 \nL 9.078125 75.984375 \nL 18.109375 75.984375 \nz\n\" id=\"DejaVuSans-98\"/>\n       <path d=\"M 56.203125 29.59375 \nL 56.203125 25.203125 \nL 14.890625 25.203125 \nQ 15.484375 15.921875 20.484375 11.0625 \nQ 25.484375 6.203125 34.421875 6.203125 \nQ 39.59375 6.203125 44.453125 7.46875 \nQ 49.3125 8.734375 54.109375 11.28125 \nL 54.109375 2.78125 \nQ 49.265625 0.734375 44.1875 -0.34375 \nQ 39.109375 -1.421875 33.890625 -1.421875 \nQ 20.796875 -1.421875 13.15625 6.1875 \nQ 5.515625 13.8125 5.515625 26.8125 \nQ 5.515625 40.234375 12.765625 48.109375 \nQ 20.015625 56 32.328125 56 \nQ 43.359375 56 49.78125 48.890625 \nQ 56.203125 41.796875 56.203125 29.59375 \nz\nM 47.21875 32.234375 \nQ 47.125 39.59375 43.09375 43.984375 \nQ 39.0625 48.390625 32.421875 48.390625 \nQ 24.90625 48.390625 20.390625 44.140625 \nQ 15.875 39.890625 15.1875 32.171875 \nz\n\" id=\"DejaVuSans-101\"/>\n       <path d=\"M 41.109375 46.296875 \nQ 39.59375 47.171875 37.8125 47.578125 \nQ 36.03125 48 33.890625 48 \nQ 26.265625 48 22.1875 43.046875 \nQ 18.109375 38.09375 18.109375 28.8125 \nL 18.109375 0 \nL 9.078125 0 \nL 9.078125 54.6875 \nL 18.109375 54.6875 \nL 18.109375 46.1875 \nQ 20.953125 51.171875 25.484375 53.578125 \nQ 30.03125 56 36.53125 56 \nQ 37.453125 56 38.578125 55.875 \nQ 39.703125 55.765625 41.0625 55.515625 \nz\n\" id=\"DejaVuSans-114\"/>\n       <path id=\"DejaVuSans-32\"/>\n       <path d=\"M 30.609375 48.390625 \nQ 23.390625 48.390625 19.1875 42.75 \nQ 14.984375 37.109375 14.984375 27.296875 \nQ 14.984375 17.484375 19.15625 11.84375 \nQ 23.34375 6.203125 30.609375 6.203125 \nQ 37.796875 6.203125 41.984375 11.859375 \nQ 46.1875 17.53125 46.1875 27.296875 \nQ 46.1875 37.015625 41.984375 42.703125 \nQ 37.796875 48.390625 30.609375 48.390625 \nz\nM 30.609375 56 \nQ 42.328125 56 49.015625 48.375 \nQ 55.71875 40.765625 55.71875 27.296875 \nQ 55.71875 13.875 49.015625 6.21875 \nQ 42.328125 -1.421875 30.609375 -1.421875 \nQ 18.84375 -1.421875 12.171875 6.21875 \nQ 5.515625 13.875 5.515625 27.296875 \nQ 5.515625 40.765625 12.171875 48.375 \nQ 18.84375 56 30.609375 56 \nz\n\" id=\"DejaVuSans-111\"/>\n       <path d=\"M 37.109375 75.984375 \nL 37.109375 68.5 \nL 28.515625 68.5 \nQ 23.6875 68.5 21.796875 66.546875 \nQ 19.921875 64.59375 19.921875 59.515625 \nL 19.921875 54.6875 \nL 34.71875 54.6875 \nL 34.71875 47.703125 \nL 19.921875 47.703125 \nL 19.921875 0 \nL 10.890625 0 \nL 10.890625 47.703125 \nL 2.296875 47.703125 \nL 2.296875 54.6875 \nL 10.890625 54.6875 \nL 10.890625 58.5 \nQ 10.890625 67.625 15.140625 71.796875 \nQ 19.390625 75.984375 28.609375 75.984375 \nz\n\" id=\"DejaVuSans-102\"/>\n       <path d=\"M 18.109375 8.203125 \nL 18.109375 -20.796875 \nL 9.078125 -20.796875 \nL 9.078125 54.6875 \nL 18.109375 54.6875 \nL 18.109375 46.390625 \nQ 20.953125 51.265625 25.265625 53.625 \nQ 29.59375 56 35.59375 56 \nQ 45.5625 56 51.78125 48.09375 \nQ 58.015625 40.1875 58.015625 27.296875 \nQ 58.015625 14.40625 51.78125 6.484375 \nQ 45.5625 -1.421875 35.59375 -1.421875 \nQ 29.59375 -1.421875 25.265625 0.953125 \nQ 20.953125 3.328125 18.109375 8.203125 \nz\nM 48.6875 27.296875 \nQ 48.6875 37.203125 44.609375 42.84375 \nQ 40.53125 48.484375 33.40625 48.484375 \nQ 26.265625 48.484375 22.1875 42.84375 \nQ 18.109375 37.203125 18.109375 27.296875 \nQ 18.109375 17.390625 22.1875 11.75 \nQ 26.265625 6.109375 33.40625 6.109375 \nQ 40.53125 6.109375 44.609375 11.75 \nQ 48.6875 17.390625 48.6875 27.296875 \nz\n\" id=\"DejaVuSans-112\"/>\n       <path d=\"M 9.421875 54.6875 \nL 18.40625 54.6875 \nL 18.40625 0 \nL 9.421875 0 \nz\nM 9.421875 75.984375 \nL 18.40625 75.984375 \nL 18.40625 64.59375 \nL 9.421875 64.59375 \nz\n\" id=\"DejaVuSans-105\"/>\n       <path d=\"M 44.28125 53.078125 \nL 44.28125 44.578125 \nQ 40.484375 46.53125 36.375 47.5 \nQ 32.28125 48.484375 27.875 48.484375 \nQ 21.1875 48.484375 17.84375 46.4375 \nQ 14.5 44.390625 14.5 40.28125 \nQ 14.5 37.15625 16.890625 35.375 \nQ 19.28125 33.59375 26.515625 31.984375 \nL 29.59375 31.296875 \nQ 39.15625 29.25 43.1875 25.515625 \nQ 47.21875 21.78125 47.21875 15.09375 \nQ 47.21875 7.46875 41.1875 3.015625 \nQ 35.15625 -1.421875 24.609375 -1.421875 \nQ 20.21875 -1.421875 15.453125 -0.5625 \nQ 10.6875 0.296875 5.421875 2 \nL 5.421875 11.28125 \nQ 10.40625 8.6875 15.234375 7.390625 \nQ 20.0625 6.109375 24.8125 6.109375 \nQ 31.15625 6.109375 34.5625 8.28125 \nQ 37.984375 10.453125 37.984375 14.40625 \nQ 37.984375 18.0625 35.515625 20.015625 \nQ 33.0625 21.96875 24.703125 23.78125 \nL 21.578125 24.515625 \nQ 13.234375 26.265625 9.515625 29.90625 \nQ 5.8125 33.546875 5.8125 39.890625 \nQ 5.8125 47.609375 11.28125 51.796875 \nQ 16.75 56 26.8125 56 \nQ 31.78125 56 36.171875 55.265625 \nQ 40.578125 54.546875 44.28125 53.078125 \nz\n\" id=\"DejaVuSans-115\"/>\n       <path d=\"M 45.40625 46.390625 \nL 45.40625 75.984375 \nL 54.390625 75.984375 \nL 54.390625 0 \nL 45.40625 0 \nL 45.40625 8.203125 \nQ 42.578125 3.328125 38.25 0.953125 \nQ 33.9375 -1.421875 27.875 -1.421875 \nQ 17.96875 -1.421875 11.734375 6.484375 \nQ 5.515625 14.40625 5.515625 27.296875 \nQ 5.515625 40.1875 11.734375 48.09375 \nQ 17.96875 56 27.875 56 \nQ 33.9375 56 38.25 53.625 \nQ 42.578125 51.265625 45.40625 46.390625 \nz\nM 14.796875 27.296875 \nQ 14.796875 17.390625 18.875 11.75 \nQ 22.953125 6.109375 30.078125 6.109375 \nQ 37.203125 6.109375 41.296875 11.75 \nQ 45.40625 17.390625 45.40625 27.296875 \nQ 45.40625 37.203125 41.296875 42.84375 \nQ 37.203125 48.484375 30.078125 48.484375 \nQ 22.953125 48.484375 18.875 42.84375 \nQ 14.796875 37.203125 14.796875 27.296875 \nz\n\" id=\"DejaVuSans-100\"/>\n      </defs>\n      <use xlink:href=\"#DejaVuSans-78\"/>\n      <use x=\"74.804688\" xlink:href=\"#DejaVuSans-117\"/>\n      <use x=\"138.183594\" xlink:href=\"#DejaVuSans-109\"/>\n      <use x=\"235.595703\" xlink:href=\"#DejaVuSans-98\"/>\n      <use x=\"299.072266\" xlink:href=\"#DejaVuSans-101\"/>\n      <use x=\"360.595703\" xlink:href=\"#DejaVuSans-114\"/>\n      <use x=\"401.708984\" xlink:href=\"#DejaVuSans-32\"/>\n      <use x=\"433.496094\" xlink:href=\"#DejaVuSans-111\"/>\n      <use x=\"494.677734\" xlink:href=\"#DejaVuSans-102\"/>\n      <use x=\"529.882812\" xlink:href=\"#DejaVuSans-32\"/>\n      <use x=\"561.669922\" xlink:href=\"#DejaVuSans-101\"/>\n      <use x=\"623.193359\" xlink:href=\"#DejaVuSans-112\"/>\n      <use x=\"686.669922\" xlink:href=\"#DejaVuSans-105\"/>\n      <use x=\"714.453125\" xlink:href=\"#DejaVuSans-115\"/>\n      <use x=\"766.552734\" xlink:href=\"#DejaVuSans-111\"/>\n      <use x=\"827.734375\" xlink:href=\"#DejaVuSans-100\"/>\n      <use x=\"891.210938\" xlink:href=\"#DejaVuSans-101\"/>\n      <use x=\"952.734375\" xlink:href=\"#DejaVuSans-115\"/>\n     </g>\n    </g>\n   </g>\n   <g id=\"matplotlib.axis_2\">\n    <g id=\"ytick_1\">\n     <g id=\"line2d_2\">\n      <defs>\n       <path d=\"M 0 0 \nL -3.5 0 \n\" id=\"m09705bf399\" style=\"stroke:#000000;stroke-width:0.8;\"/>\n      </defs>\n      <g>\n       <use style=\"stroke:#000000;stroke-width:0.8;\" x=\"20.5625\" xlink:href=\"#m09705bf399\" y=\"239.758125\"/>\n      </g>\n     </g>\n     <g id=\"text_3\">\n      <!-- 0 -->\n      <g transform=\"translate(7.2 243.557344)scale(0.1 -0.1)\">\n       <use xlink:href=\"#DejaVuSans-48\"/>\n      </g>\n     </g>\n    </g>\n    <g id=\"ytick_2\">\n     <g id=\"line2d_3\">\n      <g>\n       <use style=\"stroke:#000000;stroke-width:0.8;\" x=\"20.5625\" xlink:href=\"#m09705bf399\" y=\"167.278125\"/>\n      </g>\n     </g>\n     <g id=\"text_4\">\n      <!-- 1 -->\n      <g transform=\"translate(7.2 171.077344)scale(0.1 -0.1)\">\n       <use xlink:href=\"#DejaVuSans-49\"/>\n      </g>\n     </g>\n    </g>\n    <g id=\"ytick_3\">\n     <g id=\"line2d_4\">\n      <g>\n       <use style=\"stroke:#000000;stroke-width:0.8;\" x=\"20.5625\" xlink:href=\"#m09705bf399\" y=\"94.798125\"/>\n      </g>\n     </g>\n     <g id=\"text_5\">\n      <!-- 2 -->\n      <g transform=\"translate(7.2 98.597344)scale(0.1 -0.1)\">\n       <defs>\n        <path d=\"M 19.1875 8.296875 \nL 53.609375 8.296875 \nL 53.609375 0 \nL 7.328125 0 \nL 7.328125 8.296875 \nQ 12.9375 14.109375 22.625 23.890625 \nQ 32.328125 33.6875 34.8125 36.53125 \nQ 39.546875 41.84375 41.421875 45.53125 \nQ 43.3125 49.21875 43.3125 52.78125 \nQ 43.3125 58.59375 39.234375 62.25 \nQ 35.15625 65.921875 28.609375 65.921875 \nQ 23.96875 65.921875 18.8125 64.3125 \nQ 13.671875 62.703125 7.8125 59.421875 \nL 7.8125 69.390625 \nQ 13.765625 71.78125 18.9375 73 \nQ 24.125 74.21875 28.421875 74.21875 \nQ 39.75 74.21875 46.484375 68.546875 \nQ 53.21875 62.890625 53.21875 53.421875 \nQ 53.21875 48.921875 51.53125 44.890625 \nQ 49.859375 40.875 45.40625 35.40625 \nQ 44.1875 33.984375 37.640625 27.21875 \nQ 31.109375 20.453125 19.1875 8.296875 \nz\n\" id=\"DejaVuSans-50\"/>\n       </defs>\n       <use xlink:href=\"#DejaVuSans-50\"/>\n      </g>\n     </g>\n    </g>\n    <g id=\"ytick_4\">\n     <g id=\"line2d_5\">\n      <g>\n       <use style=\"stroke:#000000;stroke-width:0.8;\" x=\"20.5625\" xlink:href=\"#m09705bf399\" y=\"22.318125\"/>\n      </g>\n     </g>\n     <g id=\"text_6\">\n      <!-- 3 -->\n      <g transform=\"translate(7.2 26.117344)scale(0.1 -0.1)\">\n       <defs>\n        <path d=\"M 40.578125 39.3125 \nQ 47.65625 37.796875 51.625 33 \nQ 55.609375 28.21875 55.609375 21.1875 \nQ 55.609375 10.40625 48.1875 4.484375 \nQ 40.765625 -1.421875 27.09375 -1.421875 \nQ 22.515625 -1.421875 17.65625 -0.515625 \nQ 12.796875 0.390625 7.625 2.203125 \nL 7.625 11.71875 \nQ 11.71875 9.328125 16.59375 8.109375 \nQ 21.484375 6.890625 26.8125 6.890625 \nQ 36.078125 6.890625 40.9375 10.546875 \nQ 45.796875 14.203125 45.796875 21.1875 \nQ 45.796875 27.640625 41.28125 31.265625 \nQ 36.765625 34.90625 28.71875 34.90625 \nL 20.21875 34.90625 \nL 20.21875 43.015625 \nL 29.109375 43.015625 \nQ 36.375 43.015625 40.234375 45.921875 \nQ 44.09375 48.828125 44.09375 54.296875 \nQ 44.09375 59.90625 40.109375 62.90625 \nQ 36.140625 65.921875 28.71875 65.921875 \nQ 24.65625 65.921875 20.015625 65.03125 \nQ 15.375 64.15625 9.8125 62.3125 \nL 9.8125 71.09375 \nQ 15.4375 72.65625 20.34375 73.4375 \nQ 25.25 74.21875 29.59375 74.21875 \nQ 40.828125 74.21875 47.359375 69.109375 \nQ 53.90625 64.015625 53.90625 55.328125 \nQ 53.90625 49.265625 50.4375 45.09375 \nQ 46.96875 40.921875 40.578125 39.3125 \nz\n\" id=\"DejaVuSans-51\"/>\n       </defs>\n       <use xlink:href=\"#DejaVuSans-51\"/>\n      </g>\n     </g>\n    </g>\n   </g>\n   <g id=\"line2d_6\">\n    <path clip-path=\"url(#pa33d1132fa)\" d=\"M 35.780682 188.043646 \nL 39.585227 186.231646 \nL 43.389773 183.658606 \nL 47.194318 183.441166 \nL 50.998864 183.984766 \nL 54.803409 190.363006 \nL 58.607955 188.369806 \nL 62.4125 181.737886 \nL 66.217045 183.549886 \nL 70.021591 179.164846 \nL 73.826136 180.034606 \nL 77.630682 182.064046 \nL 81.435227 186.485326 \nL 85.239773 189.964366 \nL 89.044318 190.616686 \nL 92.848864 190.906606 \nL 96.653409 188.804686 \nL 100.457955 191.341486 \nL 104.2625 191.740126 \nL 108.067045 194.385646 \nL 111.871591 193.081006 \nL 115.676136 194.059486 \nL 119.480682 195.799006 \nL 123.285227 192.501166 \nL 127.089773 189.384526 \nL 130.894318 187.934926 \nL 134.698864 186.594046 \nL 138.503409 193.298446 \nL 142.307955 192.283726 \nL 146.1125 193.044766 \nL 149.917045 190.435486 \nL 153.721591 187.463806 \nL 157.526136 187.789966 \nL 161.330682 187.934926 \nL 165.135227 186.485326 \nL 168.939773 186.666526 \nL 172.744318 188.913406 \nL 176.548864 189.457006 \nL 180.353409 191.015326 \nL 184.157955 190.036846 \nL 187.9625 191.377726 \nL 191.767045 190.580446 \nL 195.571591 189.384526 \nL 199.376136 195.146686 \nL 203.180682 197.248606 \nL 206.985227 197.321086 \nL 210.789773 198.879406 \nL 214.594318 197.828446 \nL 218.398864 198.988126 \nL 222.203409 201.561166 \nL 226.007955 201.996046 \nL 229.8125 201.126286 \nL 233.617045 199.785406 \nL 237.421591 200.256526 \nL 241.226136 200.220286 \nL 245.030682 198.734446 \nL 248.835227 195.001726 \nL 252.639773 190.145566 \nL 256.444318 187.355086 \nL 260.248864 183.839806 \nL 264.053409 183.115006 \nL 267.857955 184.057246 \nL 271.6625 185.108206 \nL 275.467045 183.332446 \nL 279.271591 181.121806 \nL 283.076136 180.107086 \nL 286.880682 179.237326 \nL 290.685227 178.802446 \nL 294.489773 179.273566 \nL 298.294318 180.904366 \nL 302.098864 180.759406 \nL 305.903409 181.049326 \nL 309.707955 179.672206 \nL 313.5125 177.497806 \nL 317.317045 177.606526 \nL 321.121591 179.056126 \nL 324.926136 183.259966 \nL 328.730682 185.506846 \nL 332.535227 182.933806 \nL 336.339773 185.361886 \nL 340.144318 183.948526 \n\" style=\"fill:none;stroke:#1f77b4;stroke-linecap:square;stroke-width:1.5;\"/>\n   </g>\n   <g id=\"line2d_7\">\n    <path clip-path=\"url(#pa33d1132fa)\" d=\"M 35.780682 239.758125 \nL 35.780682 22.318125 \n\" style=\"fill:none;stroke:#1f77b4;stroke-linecap:square;stroke-width:0.75;\"/>\n   </g>\n   <g id=\"patch_3\">\n    <path d=\"M 20.5625 239.758125 \nL 20.5625 22.318125 \n\" style=\"fill:none;stroke:#000000;stroke-linecap:square;stroke-linejoin:miter;stroke-width:0.8;\"/>\n   </g>\n   <g id=\"patch_4\">\n    <path d=\"M 355.3625 239.758125 \nL 355.3625 22.318125 \n\" style=\"fill:none;stroke:#000000;stroke-linecap:square;stroke-linejoin:miter;stroke-width:0.8;\"/>\n   </g>\n   <g id=\"patch_5\">\n    <path d=\"M 20.5625 239.758125 \nL 355.3625 239.758125 \n\" style=\"fill:none;stroke:#000000;stroke-linecap:square;stroke-linejoin:miter;stroke-width:0.8;\"/>\n   </g>\n   <g id=\"patch_6\">\n    <path d=\"M 20.5625 22.318125 \nL 355.3625 22.318125 \n\" style=\"fill:none;stroke:#000000;stroke-linecap:square;stroke-linejoin:miter;stroke-width:0.8;\"/>\n   </g>\n   <g id=\"text_7\">\n    <!-- Average score over 100 consecutive episodes -->\n    <g transform=\"translate(50.290625 16.318125)scale(0.12 -0.12)\">\n     <defs>\n      <path d=\"M 34.1875 63.1875 \nL 20.796875 26.90625 \nL 47.609375 26.90625 \nz\nM 28.609375 72.90625 \nL 39.796875 72.90625 \nL 67.578125 0 \nL 57.328125 0 \nL 50.6875 18.703125 \nL 17.828125 18.703125 \nL 11.1875 0 \nL 0.78125 0 \nz\n\" id=\"DejaVuSans-65\"/>\n      <path d=\"M 2.984375 54.6875 \nL 12.5 54.6875 \nL 29.59375 8.796875 \nL 46.6875 54.6875 \nL 56.203125 54.6875 \nL 35.6875 0 \nL 23.484375 0 \nz\n\" id=\"DejaVuSans-118\"/>\n      <path d=\"M 34.28125 27.484375 \nQ 23.390625 27.484375 19.1875 25 \nQ 14.984375 22.515625 14.984375 16.5 \nQ 14.984375 11.71875 18.140625 8.90625 \nQ 21.296875 6.109375 26.703125 6.109375 \nQ 34.1875 6.109375 38.703125 11.40625 \nQ 43.21875 16.703125 43.21875 25.484375 \nL 43.21875 27.484375 \nz\nM 52.203125 31.203125 \nL 52.203125 0 \nL 43.21875 0 \nL 43.21875 8.296875 \nQ 40.140625 3.328125 35.546875 0.953125 \nQ 30.953125 -1.421875 24.3125 -1.421875 \nQ 15.921875 -1.421875 10.953125 3.296875 \nQ 6 8.015625 6 15.921875 \nQ 6 25.140625 12.171875 29.828125 \nQ 18.359375 34.515625 30.609375 34.515625 \nL 43.21875 34.515625 \nL 43.21875 35.40625 \nQ 43.21875 41.609375 39.140625 45 \nQ 35.0625 48.390625 27.6875 48.390625 \nQ 23 48.390625 18.546875 47.265625 \nQ 14.109375 46.140625 10.015625 43.890625 \nL 10.015625 52.203125 \nQ 14.9375 54.109375 19.578125 55.046875 \nQ 24.21875 56 28.609375 56 \nQ 40.484375 56 46.34375 49.84375 \nQ 52.203125 43.703125 52.203125 31.203125 \nz\n\" id=\"DejaVuSans-97\"/>\n      <path d=\"M 45.40625 27.984375 \nQ 45.40625 37.75 41.375 43.109375 \nQ 37.359375 48.484375 30.078125 48.484375 \nQ 22.859375 48.484375 18.828125 43.109375 \nQ 14.796875 37.75 14.796875 27.984375 \nQ 14.796875 18.265625 18.828125 12.890625 \nQ 22.859375 7.515625 30.078125 7.515625 \nQ 37.359375 7.515625 41.375 12.890625 \nQ 45.40625 18.265625 45.40625 27.984375 \nz\nM 54.390625 6.78125 \nQ 54.390625 -7.171875 48.1875 -13.984375 \nQ 42 -20.796875 29.203125 -20.796875 \nQ 24.46875 -20.796875 20.265625 -20.09375 \nQ 16.0625 -19.390625 12.109375 -17.921875 \nL 12.109375 -9.1875 \nQ 16.0625 -11.328125 19.921875 -12.34375 \nQ 23.78125 -13.375 27.78125 -13.375 \nQ 36.625 -13.375 41.015625 -8.765625 \nQ 45.40625 -4.15625 45.40625 5.171875 \nL 45.40625 9.625 \nQ 42.625 4.78125 38.28125 2.390625 \nQ 33.9375 0 27.875 0 \nQ 17.828125 0 11.671875 7.65625 \nQ 5.515625 15.328125 5.515625 27.984375 \nQ 5.515625 40.671875 11.671875 48.328125 \nQ 17.828125 56 27.875 56 \nQ 33.9375 56 38.28125 53.609375 \nQ 42.625 51.21875 45.40625 46.390625 \nL 45.40625 54.6875 \nL 54.390625 54.6875 \nz\n\" id=\"DejaVuSans-103\"/>\n      <path d=\"M 48.78125 52.59375 \nL 48.78125 44.1875 \nQ 44.96875 46.296875 41.140625 47.34375 \nQ 37.3125 48.390625 33.40625 48.390625 \nQ 24.65625 48.390625 19.8125 42.84375 \nQ 14.984375 37.3125 14.984375 27.296875 \nQ 14.984375 17.28125 19.8125 11.734375 \nQ 24.65625 6.203125 33.40625 6.203125 \nQ 37.3125 6.203125 41.140625 7.25 \nQ 44.96875 8.296875 48.78125 10.40625 \nL 48.78125 2.09375 \nQ 45.015625 0.34375 40.984375 -0.53125 \nQ 36.96875 -1.421875 32.421875 -1.421875 \nQ 20.0625 -1.421875 12.78125 6.34375 \nQ 5.515625 14.109375 5.515625 27.296875 \nQ 5.515625 40.671875 12.859375 48.328125 \nQ 20.21875 56 33.015625 56 \nQ 37.15625 56 41.109375 55.140625 \nQ 45.0625 54.296875 48.78125 52.59375 \nz\n\" id=\"DejaVuSans-99\"/>\n      <path d=\"M 54.890625 33.015625 \nL 54.890625 0 \nL 45.90625 0 \nL 45.90625 32.71875 \nQ 45.90625 40.484375 42.875 44.328125 \nQ 39.84375 48.1875 33.796875 48.1875 \nQ 26.515625 48.1875 22.3125 43.546875 \nQ 18.109375 38.921875 18.109375 30.90625 \nL 18.109375 0 \nL 9.078125 0 \nL 9.078125 54.6875 \nL 18.109375 54.6875 \nL 18.109375 46.1875 \nQ 21.34375 51.125 25.703125 53.5625 \nQ 30.078125 56 35.796875 56 \nQ 45.21875 56 50.046875 50.171875 \nQ 54.890625 44.34375 54.890625 33.015625 \nz\n\" id=\"DejaVuSans-110\"/>\n      <path d=\"M 18.3125 70.21875 \nL 18.3125 54.6875 \nL 36.8125 54.6875 \nL 36.8125 47.703125 \nL 18.3125 47.703125 \nL 18.3125 18.015625 \nQ 18.3125 11.328125 20.140625 9.421875 \nQ 21.96875 7.515625 27.59375 7.515625 \nL 36.8125 7.515625 \nL 36.8125 0 \nL 27.59375 0 \nQ 17.1875 0 13.234375 3.875 \nQ 9.28125 7.765625 9.28125 18.015625 \nL 9.28125 47.703125 \nL 2.6875 47.703125 \nL 2.6875 54.6875 \nL 9.28125 54.6875 \nL 9.28125 70.21875 \nz\n\" id=\"DejaVuSans-116\"/>\n     </defs>\n     <use xlink:href=\"#DejaVuSans-65\"/>\n     <use x=\"62.533203\" xlink:href=\"#DejaVuSans-118\"/>\n     <use x=\"121.712891\" xlink:href=\"#DejaVuSans-101\"/>\n     <use x=\"183.236328\" xlink:href=\"#DejaVuSans-114\"/>\n     <use x=\"224.349609\" xlink:href=\"#DejaVuSans-97\"/>\n     <use x=\"285.628906\" xlink:href=\"#DejaVuSans-103\"/>\n     <use x=\"349.105469\" xlink:href=\"#DejaVuSans-101\"/>\n     <use x=\"410.628906\" xlink:href=\"#DejaVuSans-32\"/>\n     <use x=\"442.416016\" xlink:href=\"#DejaVuSans-115\"/>\n     <use x=\"494.515625\" xlink:href=\"#DejaVuSans-99\"/>\n     <use x=\"549.496094\" xlink:href=\"#DejaVuSans-111\"/>\n     <use x=\"610.677734\" xlink:href=\"#DejaVuSans-114\"/>\n     <use x=\"649.541016\" xlink:href=\"#DejaVuSans-101\"/>\n     <use x=\"711.064453\" xlink:href=\"#DejaVuSans-32\"/>\n     <use x=\"742.851562\" xlink:href=\"#DejaVuSans-111\"/>\n     <use x=\"804.033203\" xlink:href=\"#DejaVuSans-118\"/>\n     <use x=\"863.212891\" xlink:href=\"#DejaVuSans-101\"/>\n     <use x=\"924.736328\" xlink:href=\"#DejaVuSans-114\"/>\n     <use x=\"965.849609\" xlink:href=\"#DejaVuSans-32\"/>\n     <use x=\"997.636719\" xlink:href=\"#DejaVuSans-49\"/>\n     <use x=\"1061.259766\" xlink:href=\"#DejaVuSans-48\"/>\n     <use x=\"1124.882812\" xlink:href=\"#DejaVuSans-48\"/>\n     <use x=\"1188.505859\" xlink:href=\"#DejaVuSans-32\"/>\n     <use x=\"1220.292969\" xlink:href=\"#DejaVuSans-99\"/>\n     <use x=\"1275.273438\" xlink:href=\"#DejaVuSans-111\"/>\n     <use x=\"1336.455078\" xlink:href=\"#DejaVuSans-110\"/>\n     <use x=\"1399.833984\" xlink:href=\"#DejaVuSans-115\"/>\n     <use x=\"1451.933594\" xlink:href=\"#DejaVuSans-101\"/>\n     <use x=\"1513.457031\" xlink:href=\"#DejaVuSans-99\"/>\n     <use x=\"1568.4375\" xlink:href=\"#DejaVuSans-117\"/>\n     <use x=\"1631.816406\" xlink:href=\"#DejaVuSans-116\"/>\n     <use x=\"1671.025391\" xlink:href=\"#DejaVuSans-105\"/>\n     <use x=\"1698.808594\" xlink:href=\"#DejaVuSans-118\"/>\n     <use x=\"1757.988281\" xlink:href=\"#DejaVuSans-101\"/>\n     <use x=\"1819.511719\" xlink:href=\"#DejaVuSans-32\"/>\n     <use x=\"1851.298828\" xlink:href=\"#DejaVuSans-101\"/>\n     <use x=\"1912.822266\" xlink:href=\"#DejaVuSans-112\"/>\n     <use x=\"1976.298828\" xlink:href=\"#DejaVuSans-105\"/>\n     <use x=\"2004.082031\" xlink:href=\"#DejaVuSans-115\"/>\n     <use x=\"2056.181641\" xlink:href=\"#DejaVuSans-111\"/>\n     <use x=\"2117.363281\" xlink:href=\"#DejaVuSans-100\"/>\n     <use x=\"2180.839844\" xlink:href=\"#DejaVuSans-101\"/>\n     <use x=\"2242.363281\" xlink:href=\"#DejaVuSans-115\"/>\n    </g>\n   </g>\n   <g id=\"legend_1\">\n    <g id=\"patch_7\">\n     <path d=\"M 283.476562 44.99625 \nL 348.3625 44.99625 \nQ 350.3625 44.99625 350.3625 42.99625 \nL 350.3625 29.318125 \nQ 350.3625 27.318125 348.3625 27.318125 \nL 283.476562 27.318125 \nQ 281.476562 27.318125 281.476562 29.318125 \nL 281.476562 42.99625 \nQ 281.476562 44.99625 283.476562 44.99625 \nz\n\" style=\"fill:#ffffff;opacity:0.8;stroke:#cccccc;stroke-linejoin:miter;\"/>\n    </g>\n    <g id=\"line2d_8\">\n     <path d=\"M 285.476562 35.416562 \nL 305.476562 35.416562 \n\" style=\"fill:none;stroke:#1f77b4;stroke-linecap:square;stroke-width:1.5;\"/>\n    </g>\n    <g id=\"line2d_9\"/>\n    <g id=\"text_8\">\n     <!-- A2Cn4 -->\n     <g transform=\"translate(313.476562 38.916562)scale(0.1 -0.1)\">\n      <defs>\n       <path d=\"M 64.40625 67.28125 \nL 64.40625 56.890625 \nQ 59.421875 61.53125 53.78125 63.8125 \nQ 48.140625 66.109375 41.796875 66.109375 \nQ 29.296875 66.109375 22.65625 58.46875 \nQ 16.015625 50.828125 16.015625 36.375 \nQ 16.015625 21.96875 22.65625 14.328125 \nQ 29.296875 6.6875 41.796875 6.6875 \nQ 48.140625 6.6875 53.78125 8.984375 \nQ 59.421875 11.28125 64.40625 15.921875 \nL 64.40625 5.609375 \nQ 59.234375 2.09375 53.4375 0.328125 \nQ 47.65625 -1.421875 41.21875 -1.421875 \nQ 24.65625 -1.421875 15.125 8.703125 \nQ 5.609375 18.84375 5.609375 36.375 \nQ 5.609375 53.953125 15.125 64.078125 \nQ 24.65625 74.21875 41.21875 74.21875 \nQ 47.75 74.21875 53.53125 72.484375 \nQ 59.328125 70.75 64.40625 67.28125 \nz\n\" id=\"DejaVuSans-67\"/>\n       <path d=\"M 37.796875 64.3125 \nL 12.890625 25.390625 \nL 37.796875 25.390625 \nz\nM 35.203125 72.90625 \nL 47.609375 72.90625 \nL 47.609375 25.390625 \nL 58.015625 25.390625 \nL 58.015625 17.1875 \nL 47.609375 17.1875 \nL 47.609375 0 \nL 37.796875 0 \nL 37.796875 17.1875 \nL 4.890625 17.1875 \nL 4.890625 26.703125 \nz\n\" id=\"DejaVuSans-52\"/>\n      </defs>\n      <use xlink:href=\"#DejaVuSans-65\"/>\n      <use x=\"68.408203\" xlink:href=\"#DejaVuSans-50\"/>\n      <use x=\"132.03125\" xlink:href=\"#DejaVuSans-67\"/>\n      <use x=\"201.855469\" xlink:href=\"#DejaVuSans-110\"/>\n      <use x=\"265.234375\" xlink:href=\"#DejaVuSans-52\"/>\n     </g>\n    </g>\n   </g>\n  </g>\n </g>\n <defs>\n  <clipPath id=\"pa33d1132fa\">\n   <rect height=\"217.44\" width=\"334.8\" x=\"20.5625\" y=\"22.318125\"/>\n  </clipPath>\n </defs>\n</svg>\n",
      "image/png": "[encoded data removed]"
     },
     "metadata": {
      "needs_background": "light"
     }
    }
   ],
   "source": [
    "def plot_results(agents, training_results):\n",
    "    for agent, ts in zip(agents, training_results):\n",
    "        mean, std_dev, _ = ts\n",
    "        episode_solved = np.argmax(mean > 30) + 100\n",
    "        print('{}: Solved after {} episodes'.format(agent[0], episode_solved))\n",
    "\n",
    "        x = np.arange(100, 100 + mean.size)\n",
    "        line = plt.plot(x, mean, label = agent[0])\n",
    "        plt.fill_between(x, mean + std_dev, mean - std_dev, alpha=0.25)\n",
    "        plt.axvline(episode_solved, lw=0.75, color=line[0].get_color())\n",
    "\n",
    "    # plt.axhline(30, dashes=(4, 8), lw=0.75, color='black')\n",
    "    plt.xticks(np.arange(1, 1 + mean.size / 100) * 100)\n",
    "    plt.yticks(np.arange(0, 4))\n",
    "    plt.xlabel('Number of episodes')\n",
    "    plt.title('Average score over 100 consecutive episodes')\n",
    "    plt.legend()\n",
    "    plt.show()\n",
    "\n",
    "plot_results(agents[:1], training_results[:1])\n",
    "# plot_results(agents[2:], training_results[2:])"
   ]
  },
  {
   "source": [
    "## 8. Possible improvements"
   ],
   "cell_type": "markdown",
   "metadata": {}
  },
  {
   "source": [
    "## 9. Conclusions"
   ],
   "cell_type": "markdown",
   "metadata": {}
  }
 ],
 "metadata": {
  "kernelspec": {
   "display_name": "p2_continuous_control",
   "language": "python",
   "name": "p2_continuous_control"
  },
  "language_info": {
   "codemirror_mode": {
    "name": "ipython",
    "version": 3
   },
   "file_extension": ".py",
   "mimetype": "text/x-python",
   "name": "python",
   "nbconvert_exporter": "python",
   "pygments_lexer": "ipython3",
   "version": "3.6.12-final"
  }
 },
 "nbformat": 4,
 "nbformat_minor": 2
}