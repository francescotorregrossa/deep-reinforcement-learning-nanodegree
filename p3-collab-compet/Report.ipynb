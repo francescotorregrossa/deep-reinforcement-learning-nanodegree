{
 "cells": [
  {
   "cell_type": "markdown",
   "metadata": {},
   "source": [
    "# Collaboration and Competition\n",
    "\n",
    "---\n",
    "\n",
    "In this notebook, you will learn how to use the Unity ML-Agents environment for the third project of the [Deep Reinforcement Learning Nanodegree](https://www.udacity.com/course/deep-reinforcement-learning-nanodegree--nd893) program.\n",
    "\n",
    "### 1. Start the Environment\n",
    "\n",
    "We begin by importing the necessary packages.  If the code cell below returns an error, please revisit the project instructions to double-check that you have installed [Unity ML-Agents](https://github.com/Unity-Technologies/ml-agents/blob/master/docs/Installation.md) and [NumPy](http://www.numpy.org/).\n",
    "\n",
    "\n",
    "The environment for this project is [Tennis](https://github.com/udacity/deep-reinforcement-learning/tree/master/p3_collab-compet) from Unity, and it's provided in the `setup` folder.\n",
    "\n",
    "![final](imgs/gif_2.gif \"final\")\n",
    "\n",
    "> The model used to generate this gif is `final.pth` (Dueling Double DQN), which was trained for 700 episodes using `main.py`.\n",
    "\n",
    "## 1. Prepare dependencies and environment\n",
    "\n",
    "Take a look at README.md before executing this notebook and make sure that the kernel is set to **p3_collab_compet**."
   ]
  },
  {
   "cell_type": "code",
   "execution_count": 1,
   "metadata": {},
   "outputs": [],
   "source": [
    "!pip -q install ./setup\n",
    "\n",
    "import sys\n",
    "import platform\n",
    "\n",
    "import numpy as np\n",
    "from numpy_ringbuffer import RingBuffer\n",
    "from scipy import signal\n",
    "import matplotlib.pyplot as plt\n",
    "\n",
    "import torch\n",
    "import torch.nn.functional as F\n",
    "import torch.optim as optim\n",
    "from torch import nn\n",
    "\n",
    "from setup import unityagents\n",
    "from unityagents import UnityEnvironment\n",
    "\n",
    "device = torch.device(\"cuda:0\" if torch.cuda.is_available() else \"cpu\")"
   ]
  },
  {
   "source": [
    "Unity environments contain **brains**, our interfaces for controlling agents. We'll be conrtolling the first (default) brain in the environment. It's also useful to keep information such as `state_size`, `action_size` and `num_agents`."
   ],
   "cell_type": "markdown",
   "metadata": {}
  },
  {
   "cell_type": "code",
   "execution_count": 2,
   "metadata": {},
   "outputs": [
    {
     "output_type": "stream",
     "name": "stderr",
     "text": [
      "INFO:unityagents:\n'Academy' started successfully!\nUnity Academy name: Academy\n        Number of Brains: 1\n        Number of External Brains : 1\n        Lesson number : 0\n        Reset Parameters :\n\t\t\nUnity brain name: TennisBrain\n        Number of Visual Observations (per agent): 0\n        Vector Observation space type: continuous\n        Vector Observation space size (per agent): 8\n        Number of stacked Vector Observation: 3\n        Vector Action space type: continuous\n        Vector Action space size (per agent): 2\n        Vector Action descriptions: , \n"
     ]
    }
   ],
   "source": [
    "env = None\n",
    "system = platform.system()\n",
    "if system == 'Linux':\n",
    "    env = UnityEnvironment(file_name=\"setup/Tennis_Linux/Tennis.x86_64\")\n",
    "elif system == 'Darwin':\n",
    "    env = UnityEnvironment(file_name=\"setup/Tennis.app\")\n",
    "elif system == 'Windows':\n",
    "    env = UnityEnvironment(file_name=\"setup/Tennis_Windows_x86_64/Tennis.exe\")\n",
    "else:\n",
    "    print('Cannot find environment for this system.')\n",
    "\n",
    "# use the default brain\n",
    "brain_name = env.brain_names[0]\n",
    "brain = env.brains[brain_name]\n",
    "\n",
    "# reset the environment\n",
    "env_info = env.reset(train_mode=True)[brain_name]\n",
    "num_agents = len(env_info.agents)\n",
    "action_size = brain.vector_action_space_size\n",
    "state_size = env_info.vector_observations.shape[1]\n",
    "\n",
    "# 4 12 20 ?"
   ]
  },
  {
   "source": [
    "## 2. Replay buffer"
   ],
   "cell_type": "markdown",
   "metadata": {}
  },
  {
   "cell_type": "code",
   "execution_count": 3,
   "metadata": {},
   "outputs": [],
   "source": [
    "class UniformReplayBuffer():\n",
    "\n",
    "    def __init__(self, capacity):\n",
    "        self.capacity = capacity\n",
    "        self.reset()\n",
    "    \n",
    "    def reset(self):\n",
    "        self.buff = RingBuffer(capacity=self.capacity, dtype=object)\n",
    "    \n",
    "    def sample(self, n, replace=True):\n",
    "        samples = np.random.choice(np.array(self.buff), n, replace)\n",
    "        \n",
    "        s = torch.FloatTensor([sample[0] for sample in samples]).to(device)\n",
    "        a = torch.FloatTensor([sample[1] for sample in samples]).to(device)\n",
    "        r = torch.FloatTensor([sample[2] for sample in samples]).to(device)\n",
    "        ns = torch.FloatTensor([sample[3] for sample in samples]).to(device)\n",
    "        d = torch.FloatTensor([sample[4] for sample in samples]).to(device)\n",
    "        \n",
    "        return s, a, r, ns, d\n",
    "    \n",
    "    def add(self, observation):\n",
    "        s, a, r, ns, d = observation\n",
    "        self.buff.append((s, a, r, ns, d))\n",
    "    \n",
    "    def size(self):\n",
    "        return len(self.buff)"
   ]
  },
  {
   "source": [
    "## 3. Actor"
   ],
   "cell_type": "markdown",
   "metadata": {}
  },
  {
   "cell_type": "code",
   "execution_count": 4,
   "metadata": {},
   "outputs": [],
   "source": [
    "class Actor(nn.Module):\n",
    "\n",
    "    def __init__(self, state_size, action_size, hidden_layers=[64, 128, 64]):\n",
    "        super(Actor, self).__init__()\n",
    "        self.action_size = action_size\n",
    "\n",
    "        # prepare the first hidden layer\n",
    "        self.hidden_layers = nn.ModuleList([nn.Linear(state_size, hidden_layers[0])])\n",
    "\n",
    "        # prepare the rest of the hidden layers\n",
    "        A = hidden_layers[:-1]\n",
    "        B = hidden_layers[1:]\n",
    "        self.hidden_layers.extend([nn.Linear(a, b) for a, b in zip(A, B)])\n",
    "\n",
    "        # the actor will output a that maximizes Q(s, a)\n",
    "        self.mu_layer = nn.Linear(hidden_layers[-1], action_size)\n",
    "\n",
    "    def forward(self, state):\n",
    "        for layer in self.hidden_layers:\n",
    "            state = layer(state)\n",
    "            state = F.relu(state)\n",
    "        mu = self.mu_layer(state)\n",
    "        return F.tanh(mu)"
   ]
  },
  {
   "source": [
    "## 4. Critic"
   ],
   "cell_type": "markdown",
   "metadata": {}
  },
  {
   "cell_type": "code",
   "execution_count": 5,
   "metadata": {},
   "outputs": [],
   "source": [
    "class Critic(nn.Module):\n",
    "\n",
    "    def __init__(self, state_size, action_size, num_agents, hidden_layers=[64, 128, 64]):\n",
    "        super(Critic, self).__init__()\n",
    "\n",
    "        # prepare the first hidden layer which receives states and actions for all agents\n",
    "        self.input_size = (state_size + action_size) * num_agents\n",
    "        self.hidden_layers = nn.ModuleList([nn.Linear(self.input_size, hidden_layers[0])])\n",
    "\n",
    "        # prepare the rest of the hidden layers\n",
    "        A = hidden_layers[:-1]\n",
    "        B = hidden_layers[1:]\n",
    "        self.hidden_layers.extend([nn.Linear(a, b) for a, b in zip(A, B)])\n",
    "\n",
    "        # the critic outputs only a scalar Q(s, a)\n",
    "        self.value_layer = nn.Linear(hidden_layers[-1], 1)\n",
    "\n",
    "    def forward(self, states, actions):\n",
    "\n",
    "        # reshape the input so that it is of size [batch_size, (state_size + action_size) * num_agents]\n",
    "        x = torch.cat((states, actions), dim=2)\n",
    "        batch_size = torch.numel(x) / self.input_size\n",
    "        x = x.view((batch_size, self.input_size))\n",
    "        \n",
    "        # connect layers to each other and put relu activations between them\n",
    "        for layer in self.hidden_layers:\n",
    "            x = layer(x)\n",
    "            x = F.relu(x)\n",
    "        value = self.value_layer(x)\n",
    "        return value"
   ]
  },
  {
   "source": [
    "## 5. Multi-Agent DDPG with self-play"
   ],
   "cell_type": "markdown",
   "metadata": {}
  },
  {
   "cell_type": "code",
   "execution_count": 6,
   "metadata": {},
   "outputs": [],
   "source": [
    "class MADDPG:\n",
    "    \n",
    "    # -- initialization -- #\n",
    "\n",
    "    def __init__(self, state_size, action_size, num_agents, replay_buffer,\n",
    "                 update_every=32, batch_size=128, alpha=0.0001, gamma=0.99, tau=0.01):\n",
    "        self.state_size, self.action_size, self.num_agents = state_size, action_size, num_agents\n",
    "        self.update_every, self.batch_size = update_every, batch_size\n",
    "        self.replay_buffer = replay_buffer\n",
    "        self.alpha, self.gamma, self.tau = alpha, gamma, tau\n",
    "        self.reset()\n",
    "\n",
    "    def reset(self):        \n",
    "\n",
    "        self.actor, self.target_actor = Actor(self.state_size, self.action_size).to(device), \\\n",
    "                                        Actor(self.state_size, self.action_size).to(device)\n",
    "        self.critic, self.target_critic = Critic(self.state_size, self.action_size, self.num_agents).to(device), \\\n",
    "                                          Critic(self.state_size, self.action_size, self.num_agents).to(device)\n",
    "\n",
    "        self.actor_optimizer = optim.Adam(self.actor.parameters(), lr=self.alpha)\n",
    "        self.critic_optimizer = optim.Adam(self.critic.parameters(), lr=self.alpha)\n",
    "\n",
    "        self.replay_buffer.reset()\n",
    "        self.update_i = 0\n",
    "\n",
    "        self.eps = 1\n",
    "        self.min_eps = 0.05\n",
    "        self.delta = 0.0001\n",
    "\n",
    "    # -- initialization -- #\n",
    "    \n",
    "    def act(self, state):\n",
    "        state = torch.FloatTensor(state).to(device)      \n",
    "        action = self.actor(state)\n",
    "        \n",
    "        # add noise\n",
    "        action = np.array(action.detach())\n",
    "        action = action + np.random.normal(scale=self.eps, size=np.shape(action))\n",
    "        self.eps = max(self.eps - self.delta, self.min_eps)\n",
    "\n",
    "        return np.clip(action, -1, 1)\n",
    "    \n",
    "    def store(self, s, a, r, ns, d):\n",
    "        # store a new experience\n",
    "        self.replay_buffer.add((s, a, r, ns, d))\n",
    "\n",
    "        if self.update_i == 0 and self.replay_buffer.size() >= self.batch_size:\n",
    "            self.learn()\n",
    "\n",
    "        self.update_i = (self.update_i + 1) % self.update_every\n",
    "\n",
    "    def learn(self):\n",
    "        # note that this is called automatically by the agent\n",
    "\n",
    "        # we will accumulate the losses for all agents before performing backpropagation\n",
    "        critic_loss = torch.empty([]).to(device)\n",
    "        actor_loss = torch.empty([]).to(device)\n",
    "\n",
    "        for agent in range(num_agents):\n",
    "            s, a, r, ns, d = self.replay_buffer.sample(self.batch_size)\n",
    "\n",
    "            # s, ns [batch_size, num_agents, state_size]\n",
    "\n",
    "            # use target networks to determine Q(ns, a': argmax Q(ns, a'))\n",
    "            # - action a that is believed to maximize Q(ns, a')\n",
    "            target_actions = self.target_actor(ns)               # [batch_size, num_agents, action_size]\n",
    "            # - current estimate of Q(ns, a')\n",
    "            target_values = self.target_critic(ns, target_actions)     # [batch_size, 1]\n",
    "\n",
    "\n",
    "            # remember that this loop is executed once per agent, so when calculating the tragets\n",
    "            # for our critic, we need to consider only the rewards for this particular agent\n",
    "            R = r[:, agent].unsqueeze(1)                  # [batch_size, 1]\n",
    "            # R = torch.max(r, dim=1)[0].unsqueeze(1)\n",
    "            D = 1 - d[:, agent].unsqueeze(1)              # [batch_size, 1]\n",
    "            targets = R + self.gamma * target_values * D  # [batch_size, 1]\n",
    "\n",
    "\n",
    "            # to improve the critic, we update Q(s, a) based on the new TD target r + gamma * Q(ns, a')\n",
    "            values = self.critic(s, a.detach())  # [batch_size, 1]\n",
    "            critic_loss += torch.mean(0.5 * (targets.detach() - values) ** 2)\n",
    "\n",
    "            # to improve the agent, we want to find the gradient direction that maximizes Q(s, A), thus we need to use the critic as well.\n",
    "            # note: a != A, we can't reuse the previous variable 'values', since a is the action stored in the tuple and A is the action re-evaluated \n",
    "            # by the new policy; they differ because this is an off-policy method (and also because of the added noise in a that doesn't come from the model).\n",
    "            # note: we are using the same actor for all agents and the critic needs all actions to estimate Q(s, A); however, only the actions of the current\n",
    "            # agent should be considered for backpropagation, while others are interpreted as constant values\n",
    "            A = []\n",
    "            for i in range(num_agents):\n",
    "                agent_state = s[:, i, :].unsqueeze(1)\n",
    "                actions = self.actor(agent_state)  # re-evaluate the state s using the current policy\n",
    "                if i == agent:\n",
    "                    A.append(actions)              # only consider one agent's actions for backprop\n",
    "                else:\n",
    "                    A.append(actions.detach())\n",
    "            A = torch.cat(A, dim=1)  # [batch_size, num_agents, actions_size]\n",
    "            Q = self.critic(s, A)  # [batch_size, 1]\n",
    "            actor_loss += torch.mean(-Q)  # the negative sign here allows us to maximize Q\n",
    "        \n",
    "\n",
    "        self.critic_optimizer.zero_grad()\n",
    "        critic_loss.backward()\n",
    "        torch.nn.utils.clip_grad_norm_(self.critic.parameters(), 0.5)\n",
    "        self.critic_optimizer.step()\n",
    "\n",
    "        self.actor_optimizer.zero_grad()\n",
    "        actor_loss.backward()\n",
    "        torch.nn.utils.clip_grad_norm_(self.actor.parameters(), 0.5)\n",
    "        self.actor_optimizer.step()\n",
    "        \n",
    "        # after updating local networks we also update target networks with a soft update \n",
    "        # that interpolates between the current parameters and the new ones\n",
    "        with torch.no_grad():\n",
    "            for local, target in zip(self.critic.parameters(), self.target_critic.parameters()):\n",
    "                target.copy_(target + self.tau * (local - target))\n",
    "            for local, target in zip(self.actor.parameters(), self.target_actor.parameters()):\n",
    "                target.copy_(target + self.tau * (local - target))\n"
   ]
  },
  {
   "source": [
    "## 6. Training an agent"
   ],
   "cell_type": "markdown",
   "metadata": {}
  },
  {
   "cell_type": "code",
   "execution_count": 7,
   "metadata": {},
   "outputs": [],
   "source": [
    "agents = [('MADDPG-SP', MADDPG(state_size, action_size, num_agents, UniformReplayBuffer(100_000)))]"
   ]
  },
  {
   "cell_type": "code",
   "execution_count": 8,
   "metadata": {},
   "outputs": [],
   "source": [
    "def execute_episode(agent, env, train_mode):\n",
    "    # prepare the environment\n",
    "    scores = np.zeros(num_agents)\n",
    "    env_info = env.reset(train_mode=train_mode)[brain_name]\n",
    "    \n",
    "    # get the initial state\n",
    "    states = env_info.vector_observations\n",
    "    while True:\n",
    "\n",
    "        # preprocess the state\n",
    "        states[0, 4] *= -1\n",
    "        states[0, 12] *= -1\n",
    "        states[0, 20] *= -1\n",
    "\n",
    "        # evaluate the current state\n",
    "        actions = agent.act(states)\n",
    "\n",
    "        # execute the chosen action and get the outcome\n",
    "        env_info = env.step(actions)[brain_name]\n",
    "        next_states = env_info.vector_observations\n",
    "        rewards = env_info.rewards\n",
    "        dones = env_info.local_done\n",
    "\n",
    "        # store the experience (also automatically learn, from time to time)\n",
    "        agent.store(states, actions, rewards, next_states, dones)\n",
    "\n",
    "        # prepare for the next iteration\n",
    "        states = next_states\n",
    "        scores += rewards\n",
    "\n",
    "        if np.any(dones):\n",
    "            break\n",
    "    \n",
    "    # return the total rewards obtained\n",
    "    return np.mean(scores)"
   ]
  },
  {
   "cell_type": "code",
   "execution_count": 9,
   "metadata": {},
   "outputs": [],
   "source": [
    "def train(agent, env, episodes=500, repeat=1, consecutive_episodes=100, show_output=True, save_as=None):\n",
    "\n",
    "    results = [None] * repeat\n",
    "    for r in range(repeat):\n",
    "        partial_results = [None] * episodes\n",
    "\n",
    "        # reset the agent to start learning from scratch\n",
    "        agent.reset()\n",
    "        for i in range(episodes):\n",
    "\n",
    "            # execute all the episodes and store the results\n",
    "            train_mode = i % 200 > 4 or i < 4\n",
    "            score = execute_episode(agent, env, train_mode)\n",
    "            partial_results[i] = score\n",
    "            \n",
    "            if show_output:\n",
    "                print(\"\\r[{}] Episode: {}, Score: {}\".format(r+1, i+1, score), end=\"\")\n",
    "                sys.stdout.flush()\n",
    "        if show_output:\n",
    "            print()\n",
    "\n",
    "        results[r] = partial_results\n",
    "\n",
    "        # store the trained model if requested\n",
    "        if save_as is not None:\n",
    "            torch.save(agent.actor.state_dict(), '{}/{}_actor.pth'.format(save_as, r+1))\n",
    "            torch.save(agent.critic.state_dict(), '{}/{}_critic.pth'.format(save_as, r+1))\n",
    "\n",
    "    # use convolutions to calculate the mean and standard deviation summarizing the training step\n",
    "    results = np.array(results)\n",
    "    mean = signal.convolve2d(results, np.ones([repeat, consecutive_episodes]) / (repeat * consecutive_episodes), mode='valid')    \n",
    "    v = signal.convolve2d(results, np.ones([1, consecutive_episodes]) / consecutive_episodes, mode='valid')\n",
    "    std_dev = signal.convolve2d(v ** 2 - mean ** 2, np.ones([repeat, 1]) / repeat, mode='valid') ** (1/2)\n",
    "    return mean.flatten(), std_dev.flatten(), results"
   ]
  },
  {
   "cell_type": "code",
   "execution_count": 10,
   "metadata": {
    "tags": []
   },
   "outputs": [
    {
     "output_type": "stream",
     "name": "stdout",
     "text": [
      "Agent: MADDPG-SP\n",
      "[1] Episode: 500, Score: -0.004999999888241291\n"
     ]
    }
   ],
   "source": [
    "training_results = []\n",
    "for ag in agents:\n",
    "    name, agent = ag\n",
    "    print('Agent: {}'.format(name))\n",
    "    mean, std_dev, full_report = train(agent, env, save_as='models/{}'.format(name.replace(\" \", \"_\")))\n",
    "    training_results.append((mean, std_dev, full_report))\n",
    "# env.close()"
   ]
  },
  {
   "source": [
    "## 7. Comparing the results"
   ],
   "cell_type": "markdown",
   "metadata": {}
  },
  {
   "cell_type": "code",
   "execution_count": 11,
   "metadata": {},
   "outputs": [
    {
     "output_type": "stream",
     "name": "stdout",
     "text": [
      "MADDPG-SP: Solved after 100 episodes\n"
     ]
    },
    {
     "output_type": "display_data",
     "data": {
      "text/plain": "<Figure size 432x288 with 1 Axes>",
      "image/svg+xml": "<?xml version=\"1.0\" encoding=\"utf-8\" standalone=\"no\"?>\n<!DOCTYPE svg PUBLIC \"-//W3C//DTD SVG 1.1//EN\"\n  \"http://www.w3.org/Graphics/SVG/1.1/DTD/svg11.dtd\">\n<!-- Created with matplotlib (https://matplotlib.org/) -->\n<svg height=\"277.314375pt\" version=\"1.1\" viewBox=\"0 0 384.828125 277.314375\" width=\"384.828125pt\" xmlns=\"http://www.w3.org/2000/svg\" xmlns:xlink=\"http://www.w3.org/1999/xlink\">\n <metadata>\n  <rdf:RDF xmlns:cc=\"http://creativecommons.org/ns#\" xmlns:dc=\"http://purl.org/dc/elements/1.1/\" xmlns:rdf=\"http://www.w3.org/1999/02/22-rdf-syntax-ns#\">\n   <cc:Work>\n    <dc:type rdf:resource=\"http://purl.org/dc/dcmitype/StillImage\"/>\n    <dc:date>2020-12-29T16:51:38.015560</dc:date>\n    <dc:format>image/svg+xml</dc:format>\n    <dc:creator>\n     <cc:Agent>\n      <dc:title>Matplotlib v3.3.3, https://matplotlib.org/</dc:title>\n     </cc:Agent>\n    </dc:creator>\n   </cc:Work>\n  </rdf:RDF>\n </metadata>\n <defs>\n  <style type=\"text/css\">*{stroke-linecap:butt;stroke-linejoin:round;}</style>\n </defs>\n <g id=\"figure_1\">\n  <g id=\"patch_1\">\n   <path d=\"M 0 277.314375 \nL 384.828125 277.314375 \nL 384.828125 0 \nL 0 0 \nz\n\" style=\"fill:none;\"/>\n  </g>\n  <g id=\"axes_1\">\n   <g id=\"patch_2\">\n    <path d=\"M 42.828125 239.758125 \nL 377.628125 239.758125 \nL 377.628125 22.318125 \nL 42.828125 22.318125 \nz\n\" style=\"fill:#ffffff;\"/>\n   </g>\n   <g id=\"PolyCollection_1\">\n    <path clip-path=\"url(#pdefbd7069b)\" d=\"M 58.046307 233.595302 \nL 58.046307 233.595302 \nL 58.807216 233.595302 \nL 59.568125 233.595302 \nL 60.329034 233.595302 \nL 61.089943 233.595302 \nL 61.850852 233.595302 \nL 62.611761 233.595302 \nL 63.37267 233.595302 \nL 64.13358 233.595302 \nL 64.894489 233.595302 \nL 65.655398 233.595302 \nL 66.416307 233.70083 \nL 67.177216 233.70083 \nL 67.938125 233.70083 \nL 68.699034 233.70083 \nL 69.459943 233.70083 \nL 70.220852 233.806358 \nL 70.981761 233.911886 \nL 71.74267 233.911886 \nL 72.50358 233.911886 \nL 73.264489 233.911886 \nL 74.025398 233.911886 \nL 74.786307 234.017414 \nL 75.547216 234.017414 \nL 76.308125 234.017414 \nL 77.069034 234.017414 \nL 77.829943 234.017414 \nL 78.590852 234.017414 \nL 79.351761 234.017414 \nL 80.11267 234.217916 \nL 80.87358 234.217916 \nL 81.634489 234.217916 \nL 82.395398 234.217916 \nL 83.156307 234.217916 \nL 83.917216 234.217916 \nL 84.678125 234.217916 \nL 85.439034 234.217916 \nL 86.199943 234.217916 \nL 86.960852 234.217916 \nL 87.721761 234.217916 \nL 88.48267 234.217916 \nL 89.24358 234.217916 \nL 90.004489 234.112389 \nL 90.765398 234.112389 \nL 91.526307 234.112389 \nL 92.287216 234.112389 \nL 93.048125 234.112389 \nL 93.809034 234.112389 \nL 94.569943 234.217916 \nL 95.330852 234.112389 \nL 96.091761 234.112389 \nL 96.85267 234.112389 \nL 97.61358 234.112389 \nL 98.374489 234.112389 \nL 99.135398 234.112389 \nL 99.896307 234.112389 \nL 100.657216 234.112389 \nL 101.418125 234.112389 \nL 102.179034 234.112389 \nL 102.939943 234.112389 \nL 103.700852 234.112389 \nL 104.461761 234.112389 \nL 105.22267 234.112389 \nL 105.98358 234.112389 \nL 106.744489 234.112389 \nL 107.505398 234.112389 \nL 108.266307 234.112389 \nL 109.027216 234.112389 \nL 109.788125 234.112389 \nL 110.549034 234.112389 \nL 111.309943 234.112389 \nL 112.070852 234.112389 \nL 112.831761 234.217916 \nL 113.59267 234.217916 \nL 114.35358 234.217916 \nL 115.114489 234.217916 \nL 115.875398 234.217916 \nL 116.636307 234.217916 \nL 117.397216 234.217916 \nL 118.158125 234.217916 \nL 118.919034 234.217916 \nL 119.679943 234.217916 \nL 120.440852 234.217916 \nL 121.201761 234.217916 \nL 121.96267 234.217916 \nL 122.72358 234.217916 \nL 123.484489 234.217916 \nL 124.245398 234.217916 \nL 125.006307 234.217916 \nL 125.767216 234.217916 \nL 126.528125 234.217916 \nL 127.289034 234.217916 \nL 128.049943 234.217916 \nL 128.810852 234.217916 \nL 129.571761 234.217916 \nL 130.33267 234.217916 \nL 131.09358 234.217916 \nL 131.854489 234.217916 \nL 132.615398 234.217916 \nL 133.376307 234.217916 \nL 134.137216 234.217916 \nL 134.898125 234.217916 \nL 135.659034 234.217916 \nL 136.419943 234.217916 \nL 137.180852 234.217916 \nL 137.941761 234.217916 \nL 138.70267 234.217916 \nL 139.46358 234.217916 \nL 140.224489 234.217916 \nL 140.985398 234.217916 \nL 141.746307 234.217916 \nL 142.507216 234.217916 \nL 143.268125 234.217916 \nL 144.029034 234.217916 \nL 144.789943 234.217916 \nL 145.550852 234.217916 \nL 146.311761 234.217916 \nL 147.07267 234.217916 \nL 147.83358 234.217916 \nL 148.594489 234.217916 \nL 149.355398 234.217916 \nL 150.116307 234.217916 \nL 150.877216 234.217916 \nL 151.638125 234.217916 \nL 152.399034 234.217916 \nL 153.159943 234.217916 \nL 153.920852 234.217916 \nL 154.681761 234.217916 \nL 155.44267 234.217916 \nL 156.20358 234.217916 \nL 156.964489 234.217916 \nL 157.725398 234.217916 \nL 158.486307 234.217916 \nL 159.247216 234.217916 \nL 160.008125 234.217916 \nL 160.769034 234.217916 \nL 161.529943 234.217916 \nL 162.290852 234.217916 \nL 163.051761 234.217916 \nL 163.81267 234.217916 \nL 164.57358 234.217916 \nL 165.334489 234.217916 \nL 166.095398 234.323444 \nL 166.856307 234.323444 \nL 167.617216 234.323444 \nL 168.378125 234.323444 \nL 169.139034 234.323444 \nL 169.899943 234.323444 \nL 170.660852 234.323444 \nL 171.421761 234.428972 \nL 172.18267 234.428972 \nL 172.94358 234.428972 \nL 173.704489 234.428972 \nL 174.465398 234.428972 \nL 175.226307 234.428972 \nL 175.987216 234.428972 \nL 176.748125 234.428972 \nL 177.509034 234.428972 \nL 178.269943 234.428972 \nL 179.030852 234.428972 \nL 179.791761 234.428972 \nL 180.55267 234.428972 \nL 181.31358 234.428972 \nL 182.074489 234.428972 \nL 182.835398 234.428972 \nL 183.596307 234.428972 \nL 184.357216 234.428972 \nL 185.118125 234.428972 \nL 185.879034 234.428972 \nL 186.639943 234.428972 \nL 187.400852 234.428972 \nL 188.161761 234.428972 \nL 188.92267 234.428972 \nL 189.68358 234.428972 \nL 190.444489 234.428972 \nL 191.205398 234.428972 \nL 191.966307 234.428972 \nL 192.727216 234.428972 \nL 193.488125 234.428972 \nL 194.249034 234.428972 \nL 195.009943 234.428972 \nL 195.770852 234.428972 \nL 196.531761 234.428972 \nL 197.29267 234.428972 \nL 198.05358 234.428972 \nL 198.814489 234.428972 \nL 199.575398 234.428972 \nL 200.336307 234.428972 \nL 201.097216 234.428972 \nL 201.858125 234.428972 \nL 202.619034 234.428972 \nL 203.379943 234.428972 \nL 204.140852 234.428972 \nL 204.901761 234.428972 \nL 205.66267 234.428972 \nL 206.42358 234.428972 \nL 207.184489 234.428972 \nL 207.945398 234.428972 \nL 208.706307 234.428972 \nL 209.467216 234.428972 \nL 210.228125 234.428972 \nL 210.989034 234.428972 \nL 211.749943 234.428972 \nL 212.510852 234.428972 \nL 213.271761 234.428972 \nL 214.03267 234.428972 \nL 214.79358 234.428972 \nL 215.554489 234.428972 \nL 216.315398 234.428972 \nL 217.076307 234.428972 \nL 217.837216 234.428972 \nL 218.598125 234.428972 \nL 219.359034 234.428972 \nL 220.119943 234.428972 \nL 220.880852 234.428972 \nL 221.641761 234.428972 \nL 222.40267 234.428972 \nL 223.16358 234.428972 \nL 223.924489 234.428972 \nL 224.685398 234.428972 \nL 225.446307 234.428972 \nL 226.207216 234.428972 \nL 226.968125 234.428972 \nL 227.729034 234.428972 \nL 228.489943 234.428972 \nL 229.250852 234.428972 \nL 230.011761 234.428972 \nL 230.77267 234.428972 \nL 231.53358 234.428972 \nL 232.294489 234.428972 \nL 233.055398 234.428972 \nL 233.816307 234.428972 \nL 234.577216 234.428972 \nL 235.338125 234.428972 \nL 236.099034 234.428972 \nL 236.859943 234.428972 \nL 237.620852 234.428972 \nL 238.381761 234.428972 \nL 239.14267 234.428972 \nL 239.90358 234.428972 \nL 240.664489 234.428972 \nL 241.425398 234.428972 \nL 242.186307 234.428972 \nL 242.947216 234.428972 \nL 243.708125 234.428972 \nL 244.469034 234.428972 \nL 245.229943 234.428972 \nL 245.990852 234.428972 \nL 246.751761 234.428972 \nL 247.51267 234.428972 \nL 248.27358 234.428972 \nL 249.034489 234.428972 \nL 249.795398 234.428972 \nL 250.556307 234.428972 \nL 251.317216 234.428972 \nL 252.078125 234.428972 \nL 252.839034 234.428972 \nL 253.599943 234.428972 \nL 254.360852 234.428972 \nL 255.121761 234.428972 \nL 255.88267 234.428972 \nL 256.64358 234.428972 \nL 257.404489 234.428972 \nL 258.165398 234.428972 \nL 258.926307 234.428972 \nL 259.687216 234.428972 \nL 260.448125 234.428972 \nL 261.209034 234.428972 \nL 261.969943 234.428972 \nL 262.730852 234.428972 \nL 263.491761 234.428972 \nL 264.25267 234.428972 \nL 265.01358 234.428972 \nL 265.774489 234.428972 \nL 266.535398 234.428972 \nL 267.296307 234.428972 \nL 268.057216 234.428972 \nL 268.818125 234.428972 \nL 269.579034 234.428972 \nL 270.339943 234.428972 \nL 271.100852 234.428972 \nL 271.861761 234.428972 \nL 272.62267 234.428972 \nL 273.38358 234.428972 \nL 274.144489 234.428972 \nL 274.905398 234.428972 \nL 275.666307 234.428972 \nL 276.427216 234.428972 \nL 277.188125 234.428972 \nL 277.949034 234.428972 \nL 278.709943 234.428972 \nL 279.470852 234.428972 \nL 280.231761 234.428972 \nL 280.99267 234.428972 \nL 281.75358 234.428972 \nL 282.514489 234.428972 \nL 283.275398 234.428972 \nL 284.036307 234.428972 \nL 284.797216 234.428972 \nL 285.558125 234.428972 \nL 286.319034 234.428972 \nL 287.079943 234.428972 \nL 287.840852 234.428972 \nL 288.601761 234.428972 \nL 289.36267 234.428972 \nL 290.12358 234.428972 \nL 290.884489 234.428972 \nL 291.645398 234.428972 \nL 292.406307 234.428972 \nL 293.167216 234.428972 \nL 293.928125 234.428972 \nL 294.689034 234.428972 \nL 295.449943 234.428972 \nL 296.210852 234.428972 \nL 296.971761 234.428972 \nL 297.73267 234.428972 \nL 298.49358 234.428972 \nL 299.254489 234.428972 \nL 300.015398 234.428972 \nL 300.776307 234.428972 \nL 301.537216 234.428972 \nL 302.298125 234.428972 \nL 303.059034 234.428972 \nL 303.819943 234.428972 \nL 304.580852 234.428972 \nL 305.341761 234.428972 \nL 306.10267 234.428972 \nL 306.86358 234.428972 \nL 307.624489 234.428972 \nL 308.385398 234.428972 \nL 309.146307 234.428972 \nL 309.907216 234.428972 \nL 310.668125 234.428972 \nL 311.429034 234.428972 \nL 312.189943 234.428972 \nL 312.950852 234.428972 \nL 313.711761 234.428972 \nL 314.47267 234.428972 \nL 315.23358 234.428972 \nL 315.994489 234.428972 \nL 316.755398 234.428972 \nL 317.516307 234.428972 \nL 318.277216 234.428972 \nL 319.038125 234.428972 \nL 319.799034 234.428972 \nL 320.559943 234.428972 \nL 321.320852 234.428972 \nL 322.081761 234.428972 \nL 322.84267 234.428972 \nL 323.60358 234.428972 \nL 324.364489 234.428972 \nL 325.125398 234.428972 \nL 325.886307 234.428972 \nL 326.647216 234.428972 \nL 327.408125 234.428972 \nL 328.169034 234.428972 \nL 328.929943 234.428972 \nL 329.690852 234.428972 \nL 330.451761 234.428972 \nL 331.21267 234.428972 \nL 331.97358 234.428972 \nL 332.734489 234.428972 \nL 333.495398 234.428972 \nL 334.256307 234.428972 \nL 335.017216 234.428972 \nL 335.778125 234.428972 \nL 336.539034 234.428972 \nL 337.299943 234.428972 \nL 338.060852 234.428972 \nL 338.821761 234.428972 \nL 339.58267 234.428972 \nL 340.34358 234.428972 \nL 341.104489 234.428972 \nL 341.865398 234.428972 \nL 342.626307 234.428972 \nL 343.387216 234.428972 \nL 344.148125 234.428972 \nL 344.909034 234.428972 \nL 345.669943 234.428972 \nL 346.430852 234.428972 \nL 347.191761 234.428972 \nL 347.95267 234.428972 \nL 348.71358 234.428972 \nL 349.474489 234.428972 \nL 350.235398 234.428972 \nL 350.996307 234.428972 \nL 351.757216 234.428972 \nL 352.518125 234.428972 \nL 353.279034 234.428972 \nL 354.039943 234.428972 \nL 354.800852 234.428972 \nL 355.561761 234.428972 \nL 356.32267 234.428972 \nL 357.08358 234.428972 \nL 357.844489 234.428972 \nL 358.605398 234.428972 \nL 359.366307 234.428972 \nL 360.127216 234.428972 \nL 360.888125 234.428972 \nL 361.649034 234.428972 \nL 362.409943 234.428972 \nL 362.409943 234.428972 \nL 362.409943 234.428972 \nL 361.649034 234.428972 \nL 360.888125 234.428972 \nL 360.127216 234.428972 \nL 359.366307 234.428972 \nL 358.605398 234.428972 \nL 357.844489 234.428972 \nL 357.08358 234.428972 \nL 356.32267 234.428972 \nL 355.561761 234.428972 \nL 354.800852 234.428972 \nL 354.039943 234.428972 \nL 353.279034 234.428972 \nL 352.518125 234.428972 \nL 351.757216 234.428972 \nL 350.996307 234.428972 \nL 350.235398 234.428972 \nL 349.474489 234.428972 \nL 348.71358 234.428972 \nL 347.95267 234.428972 \nL 347.191761 234.428972 \nL 346.430852 234.428972 \nL 345.669943 234.428972 \nL 344.909034 234.428972 \nL 344.148125 234.428972 \nL 343.387216 234.428972 \nL 342.626307 234.428972 \nL 341.865398 234.428972 \nL 341.104489 234.428972 \nL 340.34358 234.428972 \nL 339.58267 234.428972 \nL 338.821761 234.428972 \nL 338.060852 234.428972 \nL 337.299943 234.428972 \nL 336.539034 234.428972 \nL 335.778125 234.428972 \nL 335.017216 234.428972 \nL 334.256307 234.428972 \nL 333.495398 234.428972 \nL 332.734489 234.428972 \nL 331.97358 234.428972 \nL 331.21267 234.428972 \nL 330.451761 234.428972 \nL 329.690852 234.428972 \nL 328.929943 234.428972 \nL 328.169034 234.428972 \nL 327.408125 234.428972 \nL 326.647216 234.428972 \nL 325.886307 234.428972 \nL 325.125398 234.428972 \nL 324.364489 234.428972 \nL 323.60358 234.428972 \nL 322.84267 234.428972 \nL 322.081761 234.428972 \nL 321.320852 234.428972 \nL 320.559943 234.428972 \nL 319.799034 234.428972 \nL 319.038125 234.428972 \nL 318.277216 234.428972 \nL 317.516307 234.428972 \nL 316.755398 234.428972 \nL 315.994489 234.428972 \nL 315.23358 234.428972 \nL 314.47267 234.428972 \nL 313.711761 234.428972 \nL 312.950852 234.428972 \nL 312.189943 234.428972 \nL 311.429034 234.428972 \nL 310.668125 234.428972 \nL 309.907216 234.428972 \nL 309.146307 234.428972 \nL 308.385398 234.428972 \nL 307.624489 234.428972 \nL 306.86358 234.428972 \nL 306.10267 234.428972 \nL 305.341761 234.428972 \nL 304.580852 234.428972 \nL 303.819943 234.428972 \nL 303.059034 234.428972 \nL 302.298125 234.428972 \nL 301.537216 234.428972 \nL 300.776307 234.428972 \nL 300.015398 234.428972 \nL 299.254489 234.428972 \nL 298.49358 234.428972 \nL 297.73267 234.428972 \nL 296.971761 234.428972 \nL 296.210852 234.428972 \nL 295.449943 234.428972 \nL 294.689034 234.428972 \nL 293.928125 234.428972 \nL 293.167216 234.428972 \nL 292.406307 234.428972 \nL 291.645398 234.428972 \nL 290.884489 234.428972 \nL 290.12358 234.428972 \nL 289.36267 234.428972 \nL 288.601761 234.428972 \nL 287.840852 234.428972 \nL 287.079943 234.428972 \nL 286.319034 234.428972 \nL 285.558125 234.428972 \nL 284.797216 234.428972 \nL 284.036307 234.428972 \nL 283.275398 234.428972 \nL 282.514489 234.428972 \nL 281.75358 234.428972 \nL 280.99267 234.428972 \nL 280.231761 234.428972 \nL 279.470852 234.428972 \nL 278.709943 234.428972 \nL 277.949034 234.428972 \nL 277.188125 234.428972 \nL 276.427216 234.428972 \nL 275.666307 234.428972 \nL 274.905398 234.428972 \nL 274.144489 234.428972 \nL 273.38358 234.428972 \nL 272.62267 234.428972 \nL 271.861761 234.428972 \nL 271.100852 234.428972 \nL 270.339943 234.428972 \nL 269.579034 234.428972 \nL 268.818125 234.428972 \nL 268.057216 234.428972 \nL 267.296307 234.428972 \nL 266.535398 234.428972 \nL 265.774489 234.428972 \nL 265.01358 234.428972 \nL 264.25267 234.428972 \nL 263.491761 234.428972 \nL 262.730852 234.428972 \nL 261.969943 234.428972 \nL 261.209034 234.428972 \nL 260.448125 234.428972 \nL 259.687216 234.428972 \nL 258.926307 234.428972 \nL 258.165398 234.428972 \nL 257.404489 234.428972 \nL 256.64358 234.428972 \nL 255.88267 234.428972 \nL 255.121761 234.428972 \nL 254.360852 234.428972 \nL 253.599943 234.428972 \nL 252.839034 234.428972 \nL 252.078125 234.428972 \nL 251.317216 234.428972 \nL 250.556307 234.428972 \nL 249.795398 234.428972 \nL 249.034489 234.428972 \nL 248.27358 234.428972 \nL 247.51267 234.428972 \nL 246.751761 234.428972 \nL 245.990852 234.428972 \nL 245.229943 234.428972 \nL 244.469034 234.428972 \nL 243.708125 234.428972 \nL 242.947216 234.428972 \nL 242.186307 234.428972 \nL 241.425398 234.428972 \nL 240.664489 234.428972 \nL 239.90358 234.428972 \nL 239.14267 234.428972 \nL 238.381761 234.428972 \nL 237.620852 234.428972 \nL 236.859943 234.428972 \nL 236.099034 234.428972 \nL 235.338125 234.428972 \nL 234.577216 234.428972 \nL 233.816307 234.428972 \nL 233.055398 234.428972 \nL 232.294489 234.428972 \nL 231.53358 234.428972 \nL 230.77267 234.428972 \nL 230.011761 234.428972 \nL 229.250852 234.428972 \nL 228.489943 234.428972 \nL 227.729034 234.428972 \nL 226.968125 234.428972 \nL 226.207216 234.428972 \nL 225.446307 234.428972 \nL 224.685398 234.428972 \nL 223.924489 234.428972 \nL 223.16358 234.428972 \nL 222.40267 234.428972 \nL 221.641761 234.428972 \nL 220.880852 234.428972 \nL 220.119943 234.428972 \nL 219.359034 234.428972 \nL 218.598125 234.428972 \nL 217.837216 234.428972 \nL 217.076307 234.428972 \nL 216.315398 234.428972 \nL 215.554489 234.428972 \nL 214.79358 234.428972 \nL 214.03267 234.428972 \nL 213.271761 234.428972 \nL 212.510852 234.428972 \nL 211.749943 234.428972 \nL 210.989034 234.428972 \nL 210.228125 234.428972 \nL 209.467216 234.428972 \nL 208.706307 234.428972 \nL 207.945398 234.428972 \nL 207.184489 234.428972 \nL 206.42358 234.428972 \nL 205.66267 234.428972 \nL 204.901761 234.428972 \nL 204.140852 234.428972 \nL 203.379943 234.428972 \nL 202.619034 234.428972 \nL 201.858125 234.428972 \nL 201.097216 234.428972 \nL 200.336307 234.428972 \nL 199.575398 234.428972 \nL 198.814489 234.428972 \nL 198.05358 234.428972 \nL 197.29267 234.428972 \nL 196.531761 234.428972 \nL 195.770852 234.428972 \nL 195.009943 234.428972 \nL 194.249034 234.428972 \nL 193.488125 234.428972 \nL 192.727216 234.428972 \nL 191.966307 234.428972 \nL 191.205398 234.428972 \nL 190.444489 234.428972 \nL 189.68358 234.428972 \nL 188.92267 234.428972 \nL 188.161761 234.428972 \nL 187.400852 234.428972 \nL 186.639943 234.428972 \nL 185.879034 234.428972 \nL 185.118125 234.428972 \nL 184.357216 234.428972 \nL 183.596307 234.428972 \nL 182.835398 234.428972 \nL 182.074489 234.428972 \nL 181.31358 234.428972 \nL 180.55267 234.428972 \nL 179.791761 234.428972 \nL 179.030852 234.428972 \nL 178.269943 234.428972 \nL 177.509034 234.428972 \nL 176.748125 234.428972 \nL 175.987216 234.428972 \nL 175.226307 234.428972 \nL 174.465398 234.428972 \nL 173.704489 234.428972 \nL 172.94358 234.428972 \nL 172.18267 234.428972 \nL 171.421761 234.428972 \nL 170.660852 234.323444 \nL 169.899943 234.323444 \nL 169.139034 234.323444 \nL 168.378125 234.323444 \nL 167.617216 234.323444 \nL 166.856307 234.323444 \nL 166.095398 234.323444 \nL 165.334489 234.217916 \nL 164.57358 234.217916 \nL 163.81267 234.217916 \nL 163.051761 234.217916 \nL 162.290852 234.217916 \nL 161.529943 234.217916 \nL 160.769034 234.217916 \nL 160.008125 234.217916 \nL 159.247216 234.217916 \nL 158.486307 234.217916 \nL 157.725398 234.217916 \nL 156.964489 234.217916 \nL 156.20358 234.217916 \nL 155.44267 234.217916 \nL 154.681761 234.217916 \nL 153.920852 234.217916 \nL 153.159943 234.217916 \nL 152.399034 234.217916 \nL 151.638125 234.217916 \nL 150.877216 234.217916 \nL 150.116307 234.217916 \nL 149.355398 234.217916 \nL 148.594489 234.217916 \nL 147.83358 234.217916 \nL 147.07267 234.217916 \nL 146.311761 234.217916 \nL 145.550852 234.217916 \nL 144.789943 234.217916 \nL 144.029034 234.217916 \nL 143.268125 234.217916 \nL 142.507216 234.217916 \nL 141.746307 234.217916 \nL 140.985398 234.217916 \nL 140.224489 234.217916 \nL 139.46358 234.217916 \nL 138.70267 234.217916 \nL 137.941761 234.217916 \nL 137.180852 234.217916 \nL 136.419943 234.217916 \nL 135.659034 234.217916 \nL 134.898125 234.217916 \nL 134.137216 234.217916 \nL 133.376307 234.217916 \nL 132.615398 234.217916 \nL 131.854489 234.217916 \nL 131.09358 234.217916 \nL 130.33267 234.217916 \nL 129.571761 234.217916 \nL 128.810852 234.217916 \nL 128.049943 234.217916 \nL 127.289034 234.217916 \nL 126.528125 234.217916 \nL 125.767216 234.217916 \nL 125.006307 234.217916 \nL 124.245398 234.217916 \nL 123.484489 234.217916 \nL 122.72358 234.217916 \nL 121.96267 234.217916 \nL 121.201761 234.217916 \nL 120.440852 234.217916 \nL 119.679943 234.217916 \nL 118.919034 234.217916 \nL 118.158125 234.217916 \nL 117.397216 234.217916 \nL 116.636307 234.217916 \nL 115.875398 234.217916 \nL 115.114489 234.217916 \nL 114.35358 234.217916 \nL 113.59267 234.217916 \nL 112.831761 234.217916 \nL 112.070852 234.112389 \nL 111.309943 234.112389 \nL 110.549034 234.112389 \nL 109.788125 234.112389 \nL 109.027216 234.112389 \nL 108.266307 234.112389 \nL 107.505398 234.112389 \nL 106.744489 234.112389 \nL 105.98358 234.112389 \nL 105.22267 234.112389 \nL 104.461761 234.112389 \nL 103.700852 234.112389 \nL 102.939943 234.112389 \nL 102.179034 234.112389 \nL 101.418125 234.112389 \nL 100.657216 234.112389 \nL 99.896307 234.112389 \nL 99.135398 234.112389 \nL 98.374489 234.112389 \nL 97.61358 234.112389 \nL 96.85267 234.112389 \nL 96.091761 234.112389 \nL 95.330852 234.112389 \nL 94.569943 234.217916 \nL 93.809034 234.112389 \nL 93.048125 234.112389 \nL 92.287216 234.112389 \nL 91.526307 234.112389 \nL 90.765398 234.112389 \nL 90.004489 234.112389 \nL 89.24358 234.217916 \nL 88.48267 234.217916 \nL 87.721761 234.217916 \nL 86.960852 234.217916 \nL 86.199943 234.217916 \nL 85.439034 234.217916 \nL 84.678125 234.217916 \nL 83.917216 234.217916 \nL 83.156307 234.217916 \nL 82.395398 234.217916 \nL 81.634489 234.217916 \nL 80.87358 234.217916 \nL 80.11267 234.217916 \nL 79.351761 234.017414 \nL 78.590852 234.017414 \nL 77.829943 234.017414 \nL 77.069034 234.017414 \nL 76.308125 234.017414 \nL 75.547216 234.017414 \nL 74.786307 234.017414 \nL 74.025398 233.911886 \nL 73.264489 233.911886 \nL 72.50358 233.911886 \nL 71.74267 233.911886 \nL 70.981761 233.911886 \nL 70.220852 233.806358 \nL 69.459943 233.70083 \nL 68.699034 233.70083 \nL 67.938125 233.70083 \nL 67.177216 233.70083 \nL 66.416307 233.70083 \nL 65.655398 233.595302 \nL 64.894489 233.595302 \nL 64.13358 233.595302 \nL 63.37267 233.595302 \nL 62.611761 233.595302 \nL 61.850852 233.595302 \nL 61.089943 233.595302 \nL 60.329034 233.595302 \nL 59.568125 233.595302 \nL 58.807216 233.595302 \nL 58.046307 233.595302 \nz\n\" style=\"fill:#1f77b4;fill-opacity:0.25;\"/>\n   </g>\n   <g id=\"matplotlib.axis_1\">\n    <g id=\"xtick_1\">\n     <g id=\"line2d_1\">\n      <defs>\n       <path d=\"M 0 0 \nL 0 3.5 \n\" id=\"mf6c4b45309\" style=\"stroke:#000000;stroke-width:0.8;\"/>\n      </defs>\n      <g>\n       <use style=\"stroke:#000000;stroke-width:0.8;\" x=\"58.046307\" xlink:href=\"#mf6c4b45309\" y=\"239.758125\"/>\n      </g>\n     </g>\n     <g id=\"text_1\">\n      <!-- 100 -->\n      <g transform=\"translate(48.502557 254.356562)scale(0.1 -0.1)\">\n       <defs>\n        <path d=\"M 12.40625 8.296875 \nL 28.515625 8.296875 \nL 28.515625 63.921875 \nL 10.984375 60.40625 \nL 10.984375 69.390625 \nL 28.421875 72.90625 \nL 38.28125 72.90625 \nL 38.28125 8.296875 \nL 54.390625 8.296875 \nL 54.390625 0 \nL 12.40625 0 \nz\n\" id=\"DejaVuSans-49\"/>\n        <path d=\"M 31.78125 66.40625 \nQ 24.171875 66.40625 20.328125 58.90625 \nQ 16.5 51.421875 16.5 36.375 \nQ 16.5 21.390625 20.328125 13.890625 \nQ 24.171875 6.390625 31.78125 6.390625 \nQ 39.453125 6.390625 43.28125 13.890625 \nQ 47.125 21.390625 47.125 36.375 \nQ 47.125 51.421875 43.28125 58.90625 \nQ 39.453125 66.40625 31.78125 66.40625 \nz\nM 31.78125 74.21875 \nQ 44.046875 74.21875 50.515625 64.515625 \nQ 56.984375 54.828125 56.984375 36.375 \nQ 56.984375 17.96875 50.515625 8.265625 \nQ 44.046875 -1.421875 31.78125 -1.421875 \nQ 19.53125 -1.421875 13.0625 8.265625 \nQ 6.59375 17.96875 6.59375 36.375 \nQ 6.59375 54.828125 13.0625 64.515625 \nQ 19.53125 74.21875 31.78125 74.21875 \nz\n\" id=\"DejaVuSans-48\"/>\n       </defs>\n       <use xlink:href=\"#DejaVuSans-49\"/>\n       <use x=\"63.623047\" xlink:href=\"#DejaVuSans-48\"/>\n       <use x=\"127.246094\" xlink:href=\"#DejaVuSans-48\"/>\n      </g>\n     </g>\n    </g>\n    <g id=\"xtick_2\">\n     <g id=\"line2d_2\">\n      <g>\n       <use style=\"stroke:#000000;stroke-width:0.8;\" x=\"134.137216\" xlink:href=\"#mf6c4b45309\" y=\"239.758125\"/>\n      </g>\n     </g>\n     <g id=\"text_2\">\n      <!-- 200 -->\n      <g transform=\"translate(124.593466 254.356562)scale(0.1 -0.1)\">\n       <defs>\n        <path d=\"M 19.1875 8.296875 \nL 53.609375 8.296875 \nL 53.609375 0 \nL 7.328125 0 \nL 7.328125 8.296875 \nQ 12.9375 14.109375 22.625 23.890625 \nQ 32.328125 33.6875 34.8125 36.53125 \nQ 39.546875 41.84375 41.421875 45.53125 \nQ 43.3125 49.21875 43.3125 52.78125 \nQ 43.3125 58.59375 39.234375 62.25 \nQ 35.15625 65.921875 28.609375 65.921875 \nQ 23.96875 65.921875 18.8125 64.3125 \nQ 13.671875 62.703125 7.8125 59.421875 \nL 7.8125 69.390625 \nQ 13.765625 71.78125 18.9375 73 \nQ 24.125 74.21875 28.421875 74.21875 \nQ 39.75 74.21875 46.484375 68.546875 \nQ 53.21875 62.890625 53.21875 53.421875 \nQ 53.21875 48.921875 51.53125 44.890625 \nQ 49.859375 40.875 45.40625 35.40625 \nQ 44.1875 33.984375 37.640625 27.21875 \nQ 31.109375 20.453125 19.1875 8.296875 \nz\n\" id=\"DejaVuSans-50\"/>\n       </defs>\n       <use xlink:href=\"#DejaVuSans-50\"/>\n       <use x=\"63.623047\" xlink:href=\"#DejaVuSans-48\"/>\n       <use x=\"127.246094\" xlink:href=\"#DejaVuSans-48\"/>\n      </g>\n     </g>\n    </g>\n    <g id=\"xtick_3\">\n     <g id=\"line2d_3\">\n      <g>\n       <use style=\"stroke:#000000;stroke-width:0.8;\" x=\"210.228125\" xlink:href=\"#mf6c4b45309\" y=\"239.758125\"/>\n      </g>\n     </g>\n     <g id=\"text_3\">\n      <!-- 300 -->\n      <g transform=\"translate(200.684375 254.356562)scale(0.1 -0.1)\">\n       <defs>\n        <path d=\"M 40.578125 39.3125 \nQ 47.65625 37.796875 51.625 33 \nQ 55.609375 28.21875 55.609375 21.1875 \nQ 55.609375 10.40625 48.1875 4.484375 \nQ 40.765625 -1.421875 27.09375 -1.421875 \nQ 22.515625 -1.421875 17.65625 -0.515625 \nQ 12.796875 0.390625 7.625 2.203125 \nL 7.625 11.71875 \nQ 11.71875 9.328125 16.59375 8.109375 \nQ 21.484375 6.890625 26.8125 6.890625 \nQ 36.078125 6.890625 40.9375 10.546875 \nQ 45.796875 14.203125 45.796875 21.1875 \nQ 45.796875 27.640625 41.28125 31.265625 \nQ 36.765625 34.90625 28.71875 34.90625 \nL 20.21875 34.90625 \nL 20.21875 43.015625 \nL 29.109375 43.015625 \nQ 36.375 43.015625 40.234375 45.921875 \nQ 44.09375 48.828125 44.09375 54.296875 \nQ 44.09375 59.90625 40.109375 62.90625 \nQ 36.140625 65.921875 28.71875 65.921875 \nQ 24.65625 65.921875 20.015625 65.03125 \nQ 15.375 64.15625 9.8125 62.3125 \nL 9.8125 71.09375 \nQ 15.4375 72.65625 20.34375 73.4375 \nQ 25.25 74.21875 29.59375 74.21875 \nQ 40.828125 74.21875 47.359375 69.109375 \nQ 53.90625 64.015625 53.90625 55.328125 \nQ 53.90625 49.265625 50.4375 45.09375 \nQ 46.96875 40.921875 40.578125 39.3125 \nz\n\" id=\"DejaVuSans-51\"/>\n       </defs>\n       <use xlink:href=\"#DejaVuSans-51\"/>\n       <use x=\"63.623047\" xlink:href=\"#DejaVuSans-48\"/>\n       <use x=\"127.246094\" xlink:href=\"#DejaVuSans-48\"/>\n      </g>\n     </g>\n    </g>\n    <g id=\"xtick_4\">\n     <g id=\"line2d_4\">\n      <g>\n       <use style=\"stroke:#000000;stroke-width:0.8;\" x=\"286.319034\" xlink:href=\"#mf6c4b45309\" y=\"239.758125\"/>\n      </g>\n     </g>\n     <g id=\"text_4\">\n      <!-- 400 -->\n      <g transform=\"translate(276.775284 254.356562)scale(0.1 -0.1)\">\n       <defs>\n        <path d=\"M 37.796875 64.3125 \nL 12.890625 25.390625 \nL 37.796875 25.390625 \nz\nM 35.203125 72.90625 \nL 47.609375 72.90625 \nL 47.609375 25.390625 \nL 58.015625 25.390625 \nL 58.015625 17.1875 \nL 47.609375 17.1875 \nL 47.609375 0 \nL 37.796875 0 \nL 37.796875 17.1875 \nL 4.890625 17.1875 \nL 4.890625 26.703125 \nz\n\" id=\"DejaVuSans-52\"/>\n       </defs>\n       <use xlink:href=\"#DejaVuSans-52\"/>\n       <use x=\"63.623047\" xlink:href=\"#DejaVuSans-48\"/>\n       <use x=\"127.246094\" xlink:href=\"#DejaVuSans-48\"/>\n      </g>\n     </g>\n    </g>\n    <g id=\"xtick_5\">\n     <g id=\"line2d_5\">\n      <g>\n       <use style=\"stroke:#000000;stroke-width:0.8;\" x=\"362.409943\" xlink:href=\"#mf6c4b45309\" y=\"239.758125\"/>\n      </g>\n     </g>\n     <g id=\"text_5\">\n      <!-- 500 -->\n      <g transform=\"translate(352.866193 254.356562)scale(0.1 -0.1)\">\n       <defs>\n        <path d=\"M 10.796875 72.90625 \nL 49.515625 72.90625 \nL 49.515625 64.59375 \nL 19.828125 64.59375 \nL 19.828125 46.734375 \nQ 21.96875 47.46875 24.109375 47.828125 \nQ 26.265625 48.1875 28.421875 48.1875 \nQ 40.625 48.1875 47.75 41.5 \nQ 54.890625 34.8125 54.890625 23.390625 \nQ 54.890625 11.625 47.5625 5.09375 \nQ 40.234375 -1.421875 26.90625 -1.421875 \nQ 22.3125 -1.421875 17.546875 -0.640625 \nQ 12.796875 0.140625 7.71875 1.703125 \nL 7.71875 11.625 \nQ 12.109375 9.234375 16.796875 8.0625 \nQ 21.484375 6.890625 26.703125 6.890625 \nQ 35.15625 6.890625 40.078125 11.328125 \nQ 45.015625 15.765625 45.015625 23.390625 \nQ 45.015625 31 40.078125 35.4375 \nQ 35.15625 39.890625 26.703125 39.890625 \nQ 22.75 39.890625 18.8125 39.015625 \nQ 14.890625 38.140625 10.796875 36.28125 \nz\n\" id=\"DejaVuSans-53\"/>\n       </defs>\n       <use xlink:href=\"#DejaVuSans-53\"/>\n       <use x=\"63.623047\" xlink:href=\"#DejaVuSans-48\"/>\n       <use x=\"127.246094\" xlink:href=\"#DejaVuSans-48\"/>\n      </g>\n     </g>\n    </g>\n    <g id=\"text_6\">\n     <!-- Number of episodes -->\n     <g transform=\"translate(159.985156 268.034687)scale(0.1 -0.1)\">\n      <defs>\n       <path d=\"M 9.8125 72.90625 \nL 23.09375 72.90625 \nL 55.421875 11.921875 \nL 55.421875 72.90625 \nL 64.984375 72.90625 \nL 64.984375 0 \nL 51.703125 0 \nL 19.390625 60.984375 \nL 19.390625 0 \nL 9.8125 0 \nz\n\" id=\"DejaVuSans-78\"/>\n       <path d=\"M 8.5 21.578125 \nL 8.5 54.6875 \nL 17.484375 54.6875 \nL 17.484375 21.921875 \nQ 17.484375 14.15625 20.5 10.265625 \nQ 23.53125 6.390625 29.59375 6.390625 \nQ 36.859375 6.390625 41.078125 11.03125 \nQ 45.3125 15.671875 45.3125 23.6875 \nL 45.3125 54.6875 \nL 54.296875 54.6875 \nL 54.296875 0 \nL 45.3125 0 \nL 45.3125 8.40625 \nQ 42.046875 3.421875 37.71875 1 \nQ 33.40625 -1.421875 27.6875 -1.421875 \nQ 18.265625 -1.421875 13.375 4.4375 \nQ 8.5 10.296875 8.5 21.578125 \nz\nM 31.109375 56 \nz\n\" id=\"DejaVuSans-117\"/>\n       <path d=\"M 52 44.1875 \nQ 55.375 50.25 60.0625 53.125 \nQ 64.75 56 71.09375 56 \nQ 79.640625 56 84.28125 50.015625 \nQ 88.921875 44.046875 88.921875 33.015625 \nL 88.921875 0 \nL 79.890625 0 \nL 79.890625 32.71875 \nQ 79.890625 40.578125 77.09375 44.375 \nQ 74.3125 48.1875 68.609375 48.1875 \nQ 61.625 48.1875 57.5625 43.546875 \nQ 53.515625 38.921875 53.515625 30.90625 \nL 53.515625 0 \nL 44.484375 0 \nL 44.484375 32.71875 \nQ 44.484375 40.625 41.703125 44.40625 \nQ 38.921875 48.1875 33.109375 48.1875 \nQ 26.21875 48.1875 22.15625 43.53125 \nQ 18.109375 38.875 18.109375 30.90625 \nL 18.109375 0 \nL 9.078125 0 \nL 9.078125 54.6875 \nL 18.109375 54.6875 \nL 18.109375 46.1875 \nQ 21.1875 51.21875 25.484375 53.609375 \nQ 29.78125 56 35.6875 56 \nQ 41.65625 56 45.828125 52.96875 \nQ 50 49.953125 52 44.1875 \nz\n\" id=\"DejaVuSans-109\"/>\n       <path d=\"M 48.6875 27.296875 \nQ 48.6875 37.203125 44.609375 42.84375 \nQ 40.53125 48.484375 33.40625 48.484375 \nQ 26.265625 48.484375 22.1875 42.84375 \nQ 18.109375 37.203125 18.109375 27.296875 \nQ 18.109375 17.390625 22.1875 11.75 \nQ 26.265625 6.109375 33.40625 6.109375 \nQ 40.53125 6.109375 44.609375 11.75 \nQ 48.6875 17.390625 48.6875 27.296875 \nz\nM 18.109375 46.390625 \nQ 20.953125 51.265625 25.265625 53.625 \nQ 29.59375 56 35.59375 56 \nQ 45.5625 56 51.78125 48.09375 \nQ 58.015625 40.1875 58.015625 27.296875 \nQ 58.015625 14.40625 51.78125 6.484375 \nQ 45.5625 -1.421875 35.59375 -1.421875 \nQ 29.59375 -1.421875 25.265625 0.953125 \nQ 20.953125 3.328125 18.109375 8.203125 \nL 18.109375 0 \nL 9.078125 0 \nL 9.078125 75.984375 \nL 18.109375 75.984375 \nz\n\" id=\"DejaVuSans-98\"/>\n       <path d=\"M 56.203125 29.59375 \nL 56.203125 25.203125 \nL 14.890625 25.203125 \nQ 15.484375 15.921875 20.484375 11.0625 \nQ 25.484375 6.203125 34.421875 6.203125 \nQ 39.59375 6.203125 44.453125 7.46875 \nQ 49.3125 8.734375 54.109375 11.28125 \nL 54.109375 2.78125 \nQ 49.265625 0.734375 44.1875 -0.34375 \nQ 39.109375 -1.421875 33.890625 -1.421875 \nQ 20.796875 -1.421875 13.15625 6.1875 \nQ 5.515625 13.8125 5.515625 26.8125 \nQ 5.515625 40.234375 12.765625 48.109375 \nQ 20.015625 56 32.328125 56 \nQ 43.359375 56 49.78125 48.890625 \nQ 56.203125 41.796875 56.203125 29.59375 \nz\nM 47.21875 32.234375 \nQ 47.125 39.59375 43.09375 43.984375 \nQ 39.0625 48.390625 32.421875 48.390625 \nQ 24.90625 48.390625 20.390625 44.140625 \nQ 15.875 39.890625 15.1875 32.171875 \nz\n\" id=\"DejaVuSans-101\"/>\n       <path d=\"M 41.109375 46.296875 \nQ 39.59375 47.171875 37.8125 47.578125 \nQ 36.03125 48 33.890625 48 \nQ 26.265625 48 22.1875 43.046875 \nQ 18.109375 38.09375 18.109375 28.8125 \nL 18.109375 0 \nL 9.078125 0 \nL 9.078125 54.6875 \nL 18.109375 54.6875 \nL 18.109375 46.1875 \nQ 20.953125 51.171875 25.484375 53.578125 \nQ 30.03125 56 36.53125 56 \nQ 37.453125 56 38.578125 55.875 \nQ 39.703125 55.765625 41.0625 55.515625 \nz\n\" id=\"DejaVuSans-114\"/>\n       <path id=\"DejaVuSans-32\"/>\n       <path d=\"M 30.609375 48.390625 \nQ 23.390625 48.390625 19.1875 42.75 \nQ 14.984375 37.109375 14.984375 27.296875 \nQ 14.984375 17.484375 19.15625 11.84375 \nQ 23.34375 6.203125 30.609375 6.203125 \nQ 37.796875 6.203125 41.984375 11.859375 \nQ 46.1875 17.53125 46.1875 27.296875 \nQ 46.1875 37.015625 41.984375 42.703125 \nQ 37.796875 48.390625 30.609375 48.390625 \nz\nM 30.609375 56 \nQ 42.328125 56 49.015625 48.375 \nQ 55.71875 40.765625 55.71875 27.296875 \nQ 55.71875 13.875 49.015625 6.21875 \nQ 42.328125 -1.421875 30.609375 -1.421875 \nQ 18.84375 -1.421875 12.171875 6.21875 \nQ 5.515625 13.875 5.515625 27.296875 \nQ 5.515625 40.765625 12.171875 48.375 \nQ 18.84375 56 30.609375 56 \nz\n\" id=\"DejaVuSans-111\"/>\n       <path d=\"M 37.109375 75.984375 \nL 37.109375 68.5 \nL 28.515625 68.5 \nQ 23.6875 68.5 21.796875 66.546875 \nQ 19.921875 64.59375 19.921875 59.515625 \nL 19.921875 54.6875 \nL 34.71875 54.6875 \nL 34.71875 47.703125 \nL 19.921875 47.703125 \nL 19.921875 0 \nL 10.890625 0 \nL 10.890625 47.703125 \nL 2.296875 47.703125 \nL 2.296875 54.6875 \nL 10.890625 54.6875 \nL 10.890625 58.5 \nQ 10.890625 67.625 15.140625 71.796875 \nQ 19.390625 75.984375 28.609375 75.984375 \nz\n\" id=\"DejaVuSans-102\"/>\n       <path d=\"M 18.109375 8.203125 \nL 18.109375 -20.796875 \nL 9.078125 -20.796875 \nL 9.078125 54.6875 \nL 18.109375 54.6875 \nL 18.109375 46.390625 \nQ 20.953125 51.265625 25.265625 53.625 \nQ 29.59375 56 35.59375 56 \nQ 45.5625 56 51.78125 48.09375 \nQ 58.015625 40.1875 58.015625 27.296875 \nQ 58.015625 14.40625 51.78125 6.484375 \nQ 45.5625 -1.421875 35.59375 -1.421875 \nQ 29.59375 -1.421875 25.265625 0.953125 \nQ 20.953125 3.328125 18.109375 8.203125 \nz\nM 48.6875 27.296875 \nQ 48.6875 37.203125 44.609375 42.84375 \nQ 40.53125 48.484375 33.40625 48.484375 \nQ 26.265625 48.484375 22.1875 42.84375 \nQ 18.109375 37.203125 18.109375 27.296875 \nQ 18.109375 17.390625 22.1875 11.75 \nQ 26.265625 6.109375 33.40625 6.109375 \nQ 40.53125 6.109375 44.609375 11.75 \nQ 48.6875 17.390625 48.6875 27.296875 \nz\n\" id=\"DejaVuSans-112\"/>\n       <path d=\"M 9.421875 54.6875 \nL 18.40625 54.6875 \nL 18.40625 0 \nL 9.421875 0 \nz\nM 9.421875 75.984375 \nL 18.40625 75.984375 \nL 18.40625 64.59375 \nL 9.421875 64.59375 \nz\n\" id=\"DejaVuSans-105\"/>\n       <path d=\"M 44.28125 53.078125 \nL 44.28125 44.578125 \nQ 40.484375 46.53125 36.375 47.5 \nQ 32.28125 48.484375 27.875 48.484375 \nQ 21.1875 48.484375 17.84375 46.4375 \nQ 14.5 44.390625 14.5 40.28125 \nQ 14.5 37.15625 16.890625 35.375 \nQ 19.28125 33.59375 26.515625 31.984375 \nL 29.59375 31.296875 \nQ 39.15625 29.25 43.1875 25.515625 \nQ 47.21875 21.78125 47.21875 15.09375 \nQ 47.21875 7.46875 41.1875 3.015625 \nQ 35.15625 -1.421875 24.609375 -1.421875 \nQ 20.21875 -1.421875 15.453125 -0.5625 \nQ 10.6875 0.296875 5.421875 2 \nL 5.421875 11.28125 \nQ 10.40625 8.6875 15.234375 7.390625 \nQ 20.0625 6.109375 24.8125 6.109375 \nQ 31.15625 6.109375 34.5625 8.28125 \nQ 37.984375 10.453125 37.984375 14.40625 \nQ 37.984375 18.0625 35.515625 20.015625 \nQ 33.0625 21.96875 24.703125 23.78125 \nL 21.578125 24.515625 \nQ 13.234375 26.265625 9.515625 29.90625 \nQ 5.8125 33.546875 5.8125 39.890625 \nQ 5.8125 47.609375 11.28125 51.796875 \nQ 16.75 56 26.8125 56 \nQ 31.78125 56 36.171875 55.265625 \nQ 40.578125 54.546875 44.28125 53.078125 \nz\n\" id=\"DejaVuSans-115\"/>\n       <path d=\"M 45.40625 46.390625 \nL 45.40625 75.984375 \nL 54.390625 75.984375 \nL 54.390625 0 \nL 45.40625 0 \nL 45.40625 8.203125 \nQ 42.578125 3.328125 38.25 0.953125 \nQ 33.9375 -1.421875 27.875 -1.421875 \nQ 17.96875 -1.421875 11.734375 6.484375 \nQ 5.515625 14.40625 5.515625 27.296875 \nQ 5.515625 40.1875 11.734375 48.09375 \nQ 17.96875 56 27.875 56 \nQ 33.9375 56 38.25 53.625 \nQ 42.578125 51.265625 45.40625 46.390625 \nz\nM 14.796875 27.296875 \nQ 14.796875 17.390625 18.875 11.75 \nQ 22.953125 6.109375 30.078125 6.109375 \nQ 37.203125 6.109375 41.296875 11.75 \nQ 45.40625 17.390625 45.40625 27.296875 \nQ 45.40625 37.203125 41.296875 42.84375 \nQ 37.203125 48.484375 30.078125 48.484375 \nQ 22.953125 48.484375 18.875 42.84375 \nQ 14.796875 37.203125 14.796875 27.296875 \nz\n\" id=\"DejaVuSans-100\"/>\n      </defs>\n      <use xlink:href=\"#DejaVuSans-78\"/>\n      <use x=\"74.804688\" xlink:href=\"#DejaVuSans-117\"/>\n      <use x=\"138.183594\" xlink:href=\"#DejaVuSans-109\"/>\n      <use x=\"235.595703\" xlink:href=\"#DejaVuSans-98\"/>\n      <use x=\"299.072266\" xlink:href=\"#DejaVuSans-101\"/>\n      <use x=\"360.595703\" xlink:href=\"#DejaVuSans-114\"/>\n      <use x=\"401.708984\" xlink:href=\"#DejaVuSans-32\"/>\n      <use x=\"433.496094\" xlink:href=\"#DejaVuSans-111\"/>\n      <use x=\"494.677734\" xlink:href=\"#DejaVuSans-102\"/>\n      <use x=\"529.882812\" xlink:href=\"#DejaVuSans-32\"/>\n      <use x=\"561.669922\" xlink:href=\"#DejaVuSans-101\"/>\n      <use x=\"623.193359\" xlink:href=\"#DejaVuSans-112\"/>\n      <use x=\"686.669922\" xlink:href=\"#DejaVuSans-105\"/>\n      <use x=\"714.453125\" xlink:href=\"#DejaVuSans-115\"/>\n      <use x=\"766.552734\" xlink:href=\"#DejaVuSans-111\"/>\n      <use x=\"827.734375\" xlink:href=\"#DejaVuSans-100\"/>\n      <use x=\"891.210938\" xlink:href=\"#DejaVuSans-101\"/>\n      <use x=\"952.734375\" xlink:href=\"#DejaVuSans-115\"/>\n     </g>\n    </g>\n   </g>\n   <g id=\"matplotlib.axis_2\">\n    <g id=\"ytick_1\">\n     <g id=\"line2d_6\">\n      <defs>\n       <path d=\"M 0 0 \nL -3.5 0 \n\" id=\"mda0bbbbb74\" style=\"stroke:#000000;stroke-width:0.8;\"/>\n      </defs>\n      <g>\n       <use style=\"stroke:#000000;stroke-width:0.8;\" x=\"42.828125\" xlink:href=\"#mda0bbbbb74\" y=\"233.373694\"/>\n      </g>\n     </g>\n     <g id=\"text_7\">\n      <!-- 0.000 -->\n      <g transform=\"translate(7.2 237.172913)scale(0.1 -0.1)\">\n       <defs>\n        <path d=\"M 10.6875 12.40625 \nL 21 12.40625 \nL 21 0 \nL 10.6875 0 \nz\n\" id=\"DejaVuSans-46\"/>\n       </defs>\n       <use xlink:href=\"#DejaVuSans-48\"/>\n       <use x=\"63.623047\" xlink:href=\"#DejaVuSans-46\"/>\n       <use x=\"95.410156\" xlink:href=\"#DejaVuSans-48\"/>\n       <use x=\"159.033203\" xlink:href=\"#DejaVuSans-48\"/>\n       <use x=\"222.65625\" xlink:href=\"#DejaVuSans-48\"/>\n      </g>\n     </g>\n    </g>\n    <g id=\"ytick_2\">\n     <g id=\"line2d_7\">\n      <g>\n       <use style=\"stroke:#000000;stroke-width:0.8;\" x=\"42.828125\" xlink:href=\"#mda0bbbbb74\" y=\"206.991748\"/>\n      </g>\n     </g>\n     <g id=\"text_8\">\n      <!-- 0.125 -->\n      <g transform=\"translate(7.2 210.790967)scale(0.1 -0.1)\">\n       <use xlink:href=\"#DejaVuSans-48\"/>\n       <use x=\"63.623047\" xlink:href=\"#DejaVuSans-46\"/>\n       <use x=\"95.410156\" xlink:href=\"#DejaVuSans-49\"/>\n       <use x=\"159.033203\" xlink:href=\"#DejaVuSans-50\"/>\n       <use x=\"222.65625\" xlink:href=\"#DejaVuSans-53\"/>\n      </g>\n     </g>\n    </g>\n    <g id=\"ytick_3\">\n     <g id=\"line2d_8\">\n      <g>\n       <use style=\"stroke:#000000;stroke-width:0.8;\" x=\"42.828125\" xlink:href=\"#mda0bbbbb74\" y=\"180.609802\"/>\n      </g>\n     </g>\n     <g id=\"text_9\">\n      <!-- 0.250 -->\n      <g transform=\"translate(7.2 184.409021)scale(0.1 -0.1)\">\n       <use xlink:href=\"#DejaVuSans-48\"/>\n       <use x=\"63.623047\" xlink:href=\"#DejaVuSans-46\"/>\n       <use x=\"95.410156\" xlink:href=\"#DejaVuSans-50\"/>\n       <use x=\"159.033203\" xlink:href=\"#DejaVuSans-53\"/>\n       <use x=\"222.65625\" xlink:href=\"#DejaVuSans-48\"/>\n      </g>\n     </g>\n    </g>\n    <g id=\"ytick_4\">\n     <g id=\"line2d_9\">\n      <g>\n       <use style=\"stroke:#000000;stroke-width:0.8;\" x=\"42.828125\" xlink:href=\"#mda0bbbbb74\" y=\"154.227856\"/>\n      </g>\n     </g>\n     <g id=\"text_10\">\n      <!-- 0.375 -->\n      <g transform=\"translate(7.2 158.027074)scale(0.1 -0.1)\">\n       <defs>\n        <path d=\"M 8.203125 72.90625 \nL 55.078125 72.90625 \nL 55.078125 68.703125 \nL 28.609375 0 \nL 18.3125 0 \nL 43.21875 64.59375 \nL 8.203125 64.59375 \nz\n\" id=\"DejaVuSans-55\"/>\n       </defs>\n       <use xlink:href=\"#DejaVuSans-48\"/>\n       <use x=\"63.623047\" xlink:href=\"#DejaVuSans-46\"/>\n       <use x=\"95.410156\" xlink:href=\"#DejaVuSans-51\"/>\n       <use x=\"159.033203\" xlink:href=\"#DejaVuSans-55\"/>\n       <use x=\"222.65625\" xlink:href=\"#DejaVuSans-53\"/>\n      </g>\n     </g>\n    </g>\n    <g id=\"ytick_5\">\n     <g id=\"line2d_10\">\n      <g>\n       <use style=\"stroke:#000000;stroke-width:0.8;\" x=\"42.828125\" xlink:href=\"#mda0bbbbb74\" y=\"127.84591\"/>\n      </g>\n     </g>\n     <g id=\"text_11\">\n      <!-- 0.500 -->\n      <g transform=\"translate(7.2 131.645128)scale(0.1 -0.1)\">\n       <use xlink:href=\"#DejaVuSans-48\"/>\n       <use x=\"63.623047\" xlink:href=\"#DejaVuSans-46\"/>\n       <use x=\"95.410156\" xlink:href=\"#DejaVuSans-53\"/>\n       <use x=\"159.033203\" xlink:href=\"#DejaVuSans-48\"/>\n       <use x=\"222.65625\" xlink:href=\"#DejaVuSans-48\"/>\n      </g>\n     </g>\n    </g>\n    <g id=\"ytick_6\">\n     <g id=\"line2d_11\">\n      <g>\n       <use style=\"stroke:#000000;stroke-width:0.8;\" x=\"42.828125\" xlink:href=\"#mda0bbbbb74\" y=\"101.463963\"/>\n      </g>\n     </g>\n     <g id=\"text_12\">\n      <!-- 0.625 -->\n      <g transform=\"translate(7.2 105.263182)scale(0.1 -0.1)\">\n       <defs>\n        <path d=\"M 33.015625 40.375 \nQ 26.375 40.375 22.484375 35.828125 \nQ 18.609375 31.296875 18.609375 23.390625 \nQ 18.609375 15.53125 22.484375 10.953125 \nQ 26.375 6.390625 33.015625 6.390625 \nQ 39.65625 6.390625 43.53125 10.953125 \nQ 47.40625 15.53125 47.40625 23.390625 \nQ 47.40625 31.296875 43.53125 35.828125 \nQ 39.65625 40.375 33.015625 40.375 \nz\nM 52.59375 71.296875 \nL 52.59375 62.3125 \nQ 48.875 64.0625 45.09375 64.984375 \nQ 41.3125 65.921875 37.59375 65.921875 \nQ 27.828125 65.921875 22.671875 59.328125 \nQ 17.53125 52.734375 16.796875 39.40625 \nQ 19.671875 43.65625 24.015625 45.921875 \nQ 28.375 48.1875 33.59375 48.1875 \nQ 44.578125 48.1875 50.953125 41.515625 \nQ 57.328125 34.859375 57.328125 23.390625 \nQ 57.328125 12.15625 50.6875 5.359375 \nQ 44.046875 -1.421875 33.015625 -1.421875 \nQ 20.359375 -1.421875 13.671875 8.265625 \nQ 6.984375 17.96875 6.984375 36.375 \nQ 6.984375 53.65625 15.1875 63.9375 \nQ 23.390625 74.21875 37.203125 74.21875 \nQ 40.921875 74.21875 44.703125 73.484375 \nQ 48.484375 72.75 52.59375 71.296875 \nz\n\" id=\"DejaVuSans-54\"/>\n       </defs>\n       <use xlink:href=\"#DejaVuSans-48\"/>\n       <use x=\"63.623047\" xlink:href=\"#DejaVuSans-46\"/>\n       <use x=\"95.410156\" xlink:href=\"#DejaVuSans-54\"/>\n       <use x=\"159.033203\" xlink:href=\"#DejaVuSans-50\"/>\n       <use x=\"222.65625\" xlink:href=\"#DejaVuSans-53\"/>\n      </g>\n     </g>\n    </g>\n    <g id=\"ytick_7\">\n     <g id=\"line2d_12\">\n      <g>\n       <use style=\"stroke:#000000;stroke-width:0.8;\" x=\"42.828125\" xlink:href=\"#mda0bbbbb74\" y=\"75.082017\"/>\n      </g>\n     </g>\n     <g id=\"text_13\">\n      <!-- 0.750 -->\n      <g transform=\"translate(7.2 78.881236)scale(0.1 -0.1)\">\n       <use xlink:href=\"#DejaVuSans-48\"/>\n       <use x=\"63.623047\" xlink:href=\"#DejaVuSans-46\"/>\n       <use x=\"95.410156\" xlink:href=\"#DejaVuSans-55\"/>\n       <use x=\"159.033203\" xlink:href=\"#DejaVuSans-53\"/>\n       <use x=\"222.65625\" xlink:href=\"#DejaVuSans-48\"/>\n      </g>\n     </g>\n    </g>\n    <g id=\"ytick_8\">\n     <g id=\"line2d_13\">\n      <g>\n       <use style=\"stroke:#000000;stroke-width:0.8;\" x=\"42.828125\" xlink:href=\"#mda0bbbbb74\" y=\"48.700071\"/>\n      </g>\n     </g>\n     <g id=\"text_14\">\n      <!-- 0.875 -->\n      <g transform=\"translate(7.2 52.49929)scale(0.1 -0.1)\">\n       <defs>\n        <path d=\"M 31.78125 34.625 \nQ 24.75 34.625 20.71875 30.859375 \nQ 16.703125 27.09375 16.703125 20.515625 \nQ 16.703125 13.921875 20.71875 10.15625 \nQ 24.75 6.390625 31.78125 6.390625 \nQ 38.8125 6.390625 42.859375 10.171875 \nQ 46.921875 13.96875 46.921875 20.515625 \nQ 46.921875 27.09375 42.890625 30.859375 \nQ 38.875 34.625 31.78125 34.625 \nz\nM 21.921875 38.8125 \nQ 15.578125 40.375 12.03125 44.71875 \nQ 8.5 49.078125 8.5 55.328125 \nQ 8.5 64.0625 14.71875 69.140625 \nQ 20.953125 74.21875 31.78125 74.21875 \nQ 42.671875 74.21875 48.875 69.140625 \nQ 55.078125 64.0625 55.078125 55.328125 \nQ 55.078125 49.078125 51.53125 44.71875 \nQ 48 40.375 41.703125 38.8125 \nQ 48.828125 37.15625 52.796875 32.3125 \nQ 56.78125 27.484375 56.78125 20.515625 \nQ 56.78125 9.90625 50.3125 4.234375 \nQ 43.84375 -1.421875 31.78125 -1.421875 \nQ 19.734375 -1.421875 13.25 4.234375 \nQ 6.78125 9.90625 6.78125 20.515625 \nQ 6.78125 27.484375 10.78125 32.3125 \nQ 14.796875 37.15625 21.921875 38.8125 \nz\nM 18.3125 54.390625 \nQ 18.3125 48.734375 21.84375 45.5625 \nQ 25.390625 42.390625 31.78125 42.390625 \nQ 38.140625 42.390625 41.71875 45.5625 \nQ 45.3125 48.734375 45.3125 54.390625 \nQ 45.3125 60.0625 41.71875 63.234375 \nQ 38.140625 66.40625 31.78125 66.40625 \nQ 25.390625 66.40625 21.84375 63.234375 \nQ 18.3125 60.0625 18.3125 54.390625 \nz\n\" id=\"DejaVuSans-56\"/>\n       </defs>\n       <use xlink:href=\"#DejaVuSans-48\"/>\n       <use x=\"63.623047\" xlink:href=\"#DejaVuSans-46\"/>\n       <use x=\"95.410156\" xlink:href=\"#DejaVuSans-56\"/>\n       <use x=\"159.033203\" xlink:href=\"#DejaVuSans-55\"/>\n       <use x=\"222.65625\" xlink:href=\"#DejaVuSans-53\"/>\n      </g>\n     </g>\n    </g>\n    <g id=\"ytick_9\">\n     <g id=\"line2d_14\">\n      <g>\n       <use style=\"stroke:#000000;stroke-width:0.8;\" x=\"42.828125\" xlink:href=\"#mda0bbbbb74\" y=\"22.318125\"/>\n      </g>\n     </g>\n     <g id=\"text_15\">\n      <!-- 1.000 -->\n      <g transform=\"translate(7.2 26.117344)scale(0.1 -0.1)\">\n       <use xlink:href=\"#DejaVuSans-49\"/>\n       <use x=\"63.623047\" xlink:href=\"#DejaVuSans-46\"/>\n       <use x=\"95.410156\" xlink:href=\"#DejaVuSans-48\"/>\n       <use x=\"159.033203\" xlink:href=\"#DejaVuSans-48\"/>\n       <use x=\"222.65625\" xlink:href=\"#DejaVuSans-48\"/>\n      </g>\n     </g>\n    </g>\n   </g>\n   <g id=\"line2d_15\">\n    <path clip-path=\"url(#pdefbd7069b)\" d=\"M 58.046307 233.595302 \nL 69.459943 233.70083 \nL 71.74267 233.911886 \nL 79.351761 234.017414 \nL 80.11267 234.217916 \nL 170.660852 234.323444 \nL 172.18267 234.428972 \nL 362.409943 234.428972 \nL 362.409943 234.428972 \n\" style=\"fill:none;stroke:#1f77b4;stroke-linecap:square;stroke-width:1.5;\"/>\n   </g>\n   <g id=\"line2d_16\">\n    <path clip-path=\"url(#pdefbd7069b)\" d=\"M 58.046307 239.758125 \nL 58.046307 22.318125 \n\" style=\"fill:none;stroke:#1f77b4;stroke-linecap:square;stroke-width:0.75;\"/>\n   </g>\n   <g id=\"line2d_17\">\n    <path clip-path=\"url(#pdefbd7069b)\" d=\"M 42.828125 127.84591 \nL 377.628125 127.84591 \n\" style=\"fill:none;stroke:#000000;stroke-dasharray:3,6;stroke-dashoffset:0;stroke-width:0.75;\"/>\n   </g>\n   <g id=\"patch_3\">\n    <path d=\"M 42.828125 239.758125 \nL 42.828125 22.318125 \n\" style=\"fill:none;stroke:#000000;stroke-linecap:square;stroke-linejoin:miter;stroke-width:0.8;\"/>\n   </g>\n   <g id=\"patch_4\">\n    <path d=\"M 377.628125 239.758125 \nL 377.628125 22.318125 \n\" style=\"fill:none;stroke:#000000;stroke-linecap:square;stroke-linejoin:miter;stroke-width:0.8;\"/>\n   </g>\n   <g id=\"patch_5\">\n    <path d=\"M 42.828125 239.758125 \nL 377.628125 239.758125 \n\" style=\"fill:none;stroke:#000000;stroke-linecap:square;stroke-linejoin:miter;stroke-width:0.8;\"/>\n   </g>\n   <g id=\"patch_6\">\n    <path d=\"M 42.828125 22.318125 \nL 377.628125 22.318125 \n\" style=\"fill:none;stroke:#000000;stroke-linecap:square;stroke-linejoin:miter;stroke-width:0.8;\"/>\n   </g>\n   <g id=\"text_16\">\n    <!-- Average score over 100 consecutive episodes -->\n    <g transform=\"translate(72.55625 16.318125)scale(0.12 -0.12)\">\n     <defs>\n      <path d=\"M 34.1875 63.1875 \nL 20.796875 26.90625 \nL 47.609375 26.90625 \nz\nM 28.609375 72.90625 \nL 39.796875 72.90625 \nL 67.578125 0 \nL 57.328125 0 \nL 50.6875 18.703125 \nL 17.828125 18.703125 \nL 11.1875 0 \nL 0.78125 0 \nz\n\" id=\"DejaVuSans-65\"/>\n      <path d=\"M 2.984375 54.6875 \nL 12.5 54.6875 \nL 29.59375 8.796875 \nL 46.6875 54.6875 \nL 56.203125 54.6875 \nL 35.6875 0 \nL 23.484375 0 \nz\n\" id=\"DejaVuSans-118\"/>\n      <path d=\"M 34.28125 27.484375 \nQ 23.390625 27.484375 19.1875 25 \nQ 14.984375 22.515625 14.984375 16.5 \nQ 14.984375 11.71875 18.140625 8.90625 \nQ 21.296875 6.109375 26.703125 6.109375 \nQ 34.1875 6.109375 38.703125 11.40625 \nQ 43.21875 16.703125 43.21875 25.484375 \nL 43.21875 27.484375 \nz\nM 52.203125 31.203125 \nL 52.203125 0 \nL 43.21875 0 \nL 43.21875 8.296875 \nQ 40.140625 3.328125 35.546875 0.953125 \nQ 30.953125 -1.421875 24.3125 -1.421875 \nQ 15.921875 -1.421875 10.953125 3.296875 \nQ 6 8.015625 6 15.921875 \nQ 6 25.140625 12.171875 29.828125 \nQ 18.359375 34.515625 30.609375 34.515625 \nL 43.21875 34.515625 \nL 43.21875 35.40625 \nQ 43.21875 41.609375 39.140625 45 \nQ 35.0625 48.390625 27.6875 48.390625 \nQ 23 48.390625 18.546875 47.265625 \nQ 14.109375 46.140625 10.015625 43.890625 \nL 10.015625 52.203125 \nQ 14.9375 54.109375 19.578125 55.046875 \nQ 24.21875 56 28.609375 56 \nQ 40.484375 56 46.34375 49.84375 \nQ 52.203125 43.703125 52.203125 31.203125 \nz\n\" id=\"DejaVuSans-97\"/>\n      <path d=\"M 45.40625 27.984375 \nQ 45.40625 37.75 41.375 43.109375 \nQ 37.359375 48.484375 30.078125 48.484375 \nQ 22.859375 48.484375 18.828125 43.109375 \nQ 14.796875 37.75 14.796875 27.984375 \nQ 14.796875 18.265625 18.828125 12.890625 \nQ 22.859375 7.515625 30.078125 7.515625 \nQ 37.359375 7.515625 41.375 12.890625 \nQ 45.40625 18.265625 45.40625 27.984375 \nz\nM 54.390625 6.78125 \nQ 54.390625 -7.171875 48.1875 -13.984375 \nQ 42 -20.796875 29.203125 -20.796875 \nQ 24.46875 -20.796875 20.265625 -20.09375 \nQ 16.0625 -19.390625 12.109375 -17.921875 \nL 12.109375 -9.1875 \nQ 16.0625 -11.328125 19.921875 -12.34375 \nQ 23.78125 -13.375 27.78125 -13.375 \nQ 36.625 -13.375 41.015625 -8.765625 \nQ 45.40625 -4.15625 45.40625 5.171875 \nL 45.40625 9.625 \nQ 42.625 4.78125 38.28125 2.390625 \nQ 33.9375 0 27.875 0 \nQ 17.828125 0 11.671875 7.65625 \nQ 5.515625 15.328125 5.515625 27.984375 \nQ 5.515625 40.671875 11.671875 48.328125 \nQ 17.828125 56 27.875 56 \nQ 33.9375 56 38.28125 53.609375 \nQ 42.625 51.21875 45.40625 46.390625 \nL 45.40625 54.6875 \nL 54.390625 54.6875 \nz\n\" id=\"DejaVuSans-103\"/>\n      <path d=\"M 48.78125 52.59375 \nL 48.78125 44.1875 \nQ 44.96875 46.296875 41.140625 47.34375 \nQ 37.3125 48.390625 33.40625 48.390625 \nQ 24.65625 48.390625 19.8125 42.84375 \nQ 14.984375 37.3125 14.984375 27.296875 \nQ 14.984375 17.28125 19.8125 11.734375 \nQ 24.65625 6.203125 33.40625 6.203125 \nQ 37.3125 6.203125 41.140625 7.25 \nQ 44.96875 8.296875 48.78125 10.40625 \nL 48.78125 2.09375 \nQ 45.015625 0.34375 40.984375 -0.53125 \nQ 36.96875 -1.421875 32.421875 -1.421875 \nQ 20.0625 -1.421875 12.78125 6.34375 \nQ 5.515625 14.109375 5.515625 27.296875 \nQ 5.515625 40.671875 12.859375 48.328125 \nQ 20.21875 56 33.015625 56 \nQ 37.15625 56 41.109375 55.140625 \nQ 45.0625 54.296875 48.78125 52.59375 \nz\n\" id=\"DejaVuSans-99\"/>\n      <path d=\"M 54.890625 33.015625 \nL 54.890625 0 \nL 45.90625 0 \nL 45.90625 32.71875 \nQ 45.90625 40.484375 42.875 44.328125 \nQ 39.84375 48.1875 33.796875 48.1875 \nQ 26.515625 48.1875 22.3125 43.546875 \nQ 18.109375 38.921875 18.109375 30.90625 \nL 18.109375 0 \nL 9.078125 0 \nL 9.078125 54.6875 \nL 18.109375 54.6875 \nL 18.109375 46.1875 \nQ 21.34375 51.125 25.703125 53.5625 \nQ 30.078125 56 35.796875 56 \nQ 45.21875 56 50.046875 50.171875 \nQ 54.890625 44.34375 54.890625 33.015625 \nz\n\" id=\"DejaVuSans-110\"/>\n      <path d=\"M 18.3125 70.21875 \nL 18.3125 54.6875 \nL 36.8125 54.6875 \nL 36.8125 47.703125 \nL 18.3125 47.703125 \nL 18.3125 18.015625 \nQ 18.3125 11.328125 20.140625 9.421875 \nQ 21.96875 7.515625 27.59375 7.515625 \nL 36.8125 7.515625 \nL 36.8125 0 \nL 27.59375 0 \nQ 17.1875 0 13.234375 3.875 \nQ 9.28125 7.765625 9.28125 18.015625 \nL 9.28125 47.703125 \nL 2.6875 47.703125 \nL 2.6875 54.6875 \nL 9.28125 54.6875 \nL 9.28125 70.21875 \nz\n\" id=\"DejaVuSans-116\"/>\n     </defs>\n     <use xlink:href=\"#DejaVuSans-65\"/>\n     <use x=\"62.533203\" xlink:href=\"#DejaVuSans-118\"/>\n     <use x=\"121.712891\" xlink:href=\"#DejaVuSans-101\"/>\n     <use x=\"183.236328\" xlink:href=\"#DejaVuSans-114\"/>\n     <use x=\"224.349609\" xlink:href=\"#DejaVuSans-97\"/>\n     <use x=\"285.628906\" xlink:href=\"#DejaVuSans-103\"/>\n     <use x=\"349.105469\" xlink:href=\"#DejaVuSans-101\"/>\n     <use x=\"410.628906\" xlink:href=\"#DejaVuSans-32\"/>\n     <use x=\"442.416016\" xlink:href=\"#DejaVuSans-115\"/>\n     <use x=\"494.515625\" xlink:href=\"#DejaVuSans-99\"/>\n     <use x=\"549.496094\" xlink:href=\"#DejaVuSans-111\"/>\n     <use x=\"610.677734\" xlink:href=\"#DejaVuSans-114\"/>\n     <use x=\"649.541016\" xlink:href=\"#DejaVuSans-101\"/>\n     <use x=\"711.064453\" xlink:href=\"#DejaVuSans-32\"/>\n     <use x=\"742.851562\" xlink:href=\"#DejaVuSans-111\"/>\n     <use x=\"804.033203\" xlink:href=\"#DejaVuSans-118\"/>\n     <use x=\"863.212891\" xlink:href=\"#DejaVuSans-101\"/>\n     <use x=\"924.736328\" xlink:href=\"#DejaVuSans-114\"/>\n     <use x=\"965.849609\" xlink:href=\"#DejaVuSans-32\"/>\n     <use x=\"997.636719\" xlink:href=\"#DejaVuSans-49\"/>\n     <use x=\"1061.259766\" xlink:href=\"#DejaVuSans-48\"/>\n     <use x=\"1124.882812\" xlink:href=\"#DejaVuSans-48\"/>\n     <use x=\"1188.505859\" xlink:href=\"#DejaVuSans-32\"/>\n     <use x=\"1220.292969\" xlink:href=\"#DejaVuSans-99\"/>\n     <use x=\"1275.273438\" xlink:href=\"#DejaVuSans-111\"/>\n     <use x=\"1336.455078\" xlink:href=\"#DejaVuSans-110\"/>\n     <use x=\"1399.833984\" xlink:href=\"#DejaVuSans-115\"/>\n     <use x=\"1451.933594\" xlink:href=\"#DejaVuSans-101\"/>\n     <use x=\"1513.457031\" xlink:href=\"#DejaVuSans-99\"/>\n     <use x=\"1568.4375\" xlink:href=\"#DejaVuSans-117\"/>\n     <use x=\"1631.816406\" xlink:href=\"#DejaVuSans-116\"/>\n     <use x=\"1671.025391\" xlink:href=\"#DejaVuSans-105\"/>\n     <use x=\"1698.808594\" xlink:href=\"#DejaVuSans-118\"/>\n     <use x=\"1757.988281\" xlink:href=\"#DejaVuSans-101\"/>\n     <use x=\"1819.511719\" xlink:href=\"#DejaVuSans-32\"/>\n     <use x=\"1851.298828\" xlink:href=\"#DejaVuSans-101\"/>\n     <use x=\"1912.822266\" xlink:href=\"#DejaVuSans-112\"/>\n     <use x=\"1976.298828\" xlink:href=\"#DejaVuSans-105\"/>\n     <use x=\"2004.082031\" xlink:href=\"#DejaVuSans-115\"/>\n     <use x=\"2056.181641\" xlink:href=\"#DejaVuSans-111\"/>\n     <use x=\"2117.363281\" xlink:href=\"#DejaVuSans-100\"/>\n     <use x=\"2180.839844\" xlink:href=\"#DejaVuSans-101\"/>\n     <use x=\"2242.363281\" xlink:href=\"#DejaVuSans-115\"/>\n    </g>\n   </g>\n   <g id=\"legend_1\">\n    <g id=\"patch_7\">\n     <path d=\"M 277.995313 44.99625 \nL 370.628125 44.99625 \nQ 372.628125 44.99625 372.628125 42.99625 \nL 372.628125 29.318125 \nQ 372.628125 27.318125 370.628125 27.318125 \nL 277.995313 27.318125 \nQ 275.995313 27.318125 275.995313 29.318125 \nL 275.995313 42.99625 \nQ 275.995313 44.99625 277.995313 44.99625 \nz\n\" style=\"fill:#ffffff;opacity:0.8;stroke:#cccccc;stroke-linejoin:miter;\"/>\n    </g>\n    <g id=\"line2d_18\">\n     <path d=\"M 279.995313 35.416562 \nL 299.995313 35.416562 \n\" style=\"fill:none;stroke:#1f77b4;stroke-linecap:square;stroke-width:1.5;\"/>\n    </g>\n    <g id=\"line2d_19\"/>\n    <g id=\"text_17\">\n     <!-- MADDPG-SP -->\n     <g transform=\"translate(307.995313 38.916562)scale(0.1 -0.1)\">\n      <defs>\n       <path d=\"M 9.8125 72.90625 \nL 24.515625 72.90625 \nL 43.109375 23.296875 \nL 61.8125 72.90625 \nL 76.515625 72.90625 \nL 76.515625 0 \nL 66.890625 0 \nL 66.890625 64.015625 \nL 48.09375 14.015625 \nL 38.1875 14.015625 \nL 19.390625 64.015625 \nL 19.390625 0 \nL 9.8125 0 \nz\n\" id=\"DejaVuSans-77\"/>\n       <path d=\"M 19.671875 64.796875 \nL 19.671875 8.109375 \nL 31.59375 8.109375 \nQ 46.6875 8.109375 53.6875 14.9375 \nQ 60.6875 21.78125 60.6875 36.53125 \nQ 60.6875 51.171875 53.6875 57.984375 \nQ 46.6875 64.796875 31.59375 64.796875 \nz\nM 9.8125 72.90625 \nL 30.078125 72.90625 \nQ 51.265625 72.90625 61.171875 64.09375 \nQ 71.09375 55.28125 71.09375 36.53125 \nQ 71.09375 17.671875 61.125 8.828125 \nQ 51.171875 0 30.078125 0 \nL 9.8125 0 \nz\n\" id=\"DejaVuSans-68\"/>\n       <path d=\"M 19.671875 64.796875 \nL 19.671875 37.40625 \nL 32.078125 37.40625 \nQ 38.96875 37.40625 42.71875 40.96875 \nQ 46.484375 44.53125 46.484375 51.125 \nQ 46.484375 57.671875 42.71875 61.234375 \nQ 38.96875 64.796875 32.078125 64.796875 \nz\nM 9.8125 72.90625 \nL 32.078125 72.90625 \nQ 44.34375 72.90625 50.609375 67.359375 \nQ 56.890625 61.8125 56.890625 51.125 \nQ 56.890625 40.328125 50.609375 34.8125 \nQ 44.34375 29.296875 32.078125 29.296875 \nL 19.671875 29.296875 \nL 19.671875 0 \nL 9.8125 0 \nz\n\" id=\"DejaVuSans-80\"/>\n       <path d=\"M 59.515625 10.40625 \nL 59.515625 29.984375 \nL 43.40625 29.984375 \nL 43.40625 38.09375 \nL 69.28125 38.09375 \nL 69.28125 6.78125 \nQ 63.578125 2.734375 56.6875 0.65625 \nQ 49.8125 -1.421875 42 -1.421875 \nQ 24.90625 -1.421875 15.25 8.5625 \nQ 5.609375 18.5625 5.609375 36.375 \nQ 5.609375 54.25 15.25 64.234375 \nQ 24.90625 74.21875 42 74.21875 \nQ 49.125 74.21875 55.546875 72.453125 \nQ 61.96875 70.703125 67.390625 67.28125 \nL 67.390625 56.78125 \nQ 61.921875 61.421875 55.765625 63.765625 \nQ 49.609375 66.109375 42.828125 66.109375 \nQ 29.4375 66.109375 22.71875 58.640625 \nQ 16.015625 51.171875 16.015625 36.375 \nQ 16.015625 21.625 22.71875 14.15625 \nQ 29.4375 6.6875 42.828125 6.6875 \nQ 48.046875 6.6875 52.140625 7.59375 \nQ 56.25 8.5 59.515625 10.40625 \nz\n\" id=\"DejaVuSans-71\"/>\n       <path d=\"M 4.890625 31.390625 \nL 31.203125 31.390625 \nL 31.203125 23.390625 \nL 4.890625 23.390625 \nz\n\" id=\"DejaVuSans-45\"/>\n       <path d=\"M 53.515625 70.515625 \nL 53.515625 60.890625 \nQ 47.90625 63.578125 42.921875 64.890625 \nQ 37.9375 66.21875 33.296875 66.21875 \nQ 25.25 66.21875 20.875 63.09375 \nQ 16.5 59.96875 16.5 54.203125 \nQ 16.5 49.359375 19.40625 46.890625 \nQ 22.3125 44.4375 30.421875 42.921875 \nL 36.375 41.703125 \nQ 47.40625 39.59375 52.65625 34.296875 \nQ 57.90625 29 57.90625 20.125 \nQ 57.90625 9.515625 50.796875 4.046875 \nQ 43.703125 -1.421875 29.984375 -1.421875 \nQ 24.8125 -1.421875 18.96875 -0.25 \nQ 13.140625 0.921875 6.890625 3.21875 \nL 6.890625 13.375 \nQ 12.890625 10.015625 18.65625 8.296875 \nQ 24.421875 6.59375 29.984375 6.59375 \nQ 38.421875 6.59375 43.015625 9.90625 \nQ 47.609375 13.234375 47.609375 19.390625 \nQ 47.609375 24.75 44.3125 27.78125 \nQ 41.015625 30.8125 33.5 32.328125 \nL 27.484375 33.5 \nQ 16.453125 35.6875 11.515625 40.375 \nQ 6.59375 45.0625 6.59375 53.421875 \nQ 6.59375 63.09375 13.40625 68.65625 \nQ 20.21875 74.21875 32.171875 74.21875 \nQ 37.3125 74.21875 42.625 73.28125 \nQ 47.953125 72.359375 53.515625 70.515625 \nz\n\" id=\"DejaVuSans-83\"/>\n      </defs>\n      <use xlink:href=\"#DejaVuSans-77\"/>\n      <use x=\"86.279297\" xlink:href=\"#DejaVuSans-65\"/>\n      <use x=\"154.6875\" xlink:href=\"#DejaVuSans-68\"/>\n      <use x=\"231.689453\" xlink:href=\"#DejaVuSans-68\"/>\n      <use x=\"308.691406\" xlink:href=\"#DejaVuSans-80\"/>\n      <use x=\"368.994141\" xlink:href=\"#DejaVuSans-71\"/>\n      <use x=\"446.484375\" xlink:href=\"#DejaVuSans-45\"/>\n      <use x=\"482.568359\" xlink:href=\"#DejaVuSans-83\"/>\n      <use x=\"546.044922\" xlink:href=\"#DejaVuSans-80\"/>\n     </g>\n    </g>\n   </g>\n  </g>\n </g>\n <defs>\n  <clipPath id=\"pdefbd7069b\">\n   <rect height=\"217.44\" width=\"334.8\" x=\"42.828125\" y=\"22.318125\"/>\n  </clipPath>\n </defs>\n</svg>\n",
      "image/png": "[encoded data removed]"
     },
     "metadata": {
      "needs_background": "light"
     }
    }
   ],
   "source": [
    "def plot_results(agents, training_results):\n",
    "    for agent, ts in zip(agents, training_results):\n",
    "        mean, std_dev, _ = ts\n",
    "        episode_solved = np.argmax(mean > 0.5) + 100\n",
    "        print('{}: Solved after {} episodes'.format(agent[0], episode_solved))\n",
    "\n",
    "        x = np.arange(100, 100 + mean.size)\n",
    "        line = plt.plot(x, mean, label = agent[0])\n",
    "        plt.fill_between(x, mean + std_dev, mean - std_dev, alpha=0.25)\n",
    "        plt.axvline(episode_solved, lw=0.75, color=line[0].get_color())\n",
    "\n",
    "    plt.axhline(0.5, dashes=(4, 8), lw=0.75, color='black')\n",
    "    plt.xticks(np.arange(1, 1 + mean.size / 100) * 100)\n",
    "    plt.yticks(np.arange(0, 9) / 8)\n",
    "    plt.xlabel('Number of episodes')\n",
    "    plt.title('Average score over 100 consecutive episodes')\n",
    "    plt.legend()\n",
    "    plt.show()\n",
    "\n",
    "plot_results(agents[:1], training_results[:1])\n",
    "# plot_results(agents[2:], training_results[2:])"
   ]
  },
  {
   "cell_type": "code",
   "execution_count": null,
   "metadata": {},
   "outputs": [],
   "source": []
  }
 ],
 "metadata": {
  "kernelspec": {
   "display_name": "p3_collab_compet",
   "language": "python",
   "name": "p3_collab_compet"
  },
  "language_info": {
   "codemirror_mode": {
    "name": "ipython",
    "version": 3
   },
   "file_extension": ".py",
   "mimetype": "text/x-python",
   "name": "python",
   "nbconvert_exporter": "python",
   "pygments_lexer": "ipython3",
   "version": "3.6.12-final"
  }
 },
 "nbformat": 4,
 "nbformat_minor": 2
}