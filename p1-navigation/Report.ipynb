{
 "cells": [
  {
   "cell_type": "markdown",
   "metadata": {},
   "source": [
    "# Navigation\n",
    "\n",
    "---\n",
    "\n",
    "The environment for this project is [Banana](https://github.com/udacity/deep-reinforcement-learning/tree/master/p1_navigation) from Unity, and it's provided in the `setup` folder. We'll implement the original [DQN algorithm](https://web.stanford.edu/class/psych209/Readings/MnihEtAlHassibis15NatureControlDeepRL.pdf) (but not directly from pixels) and two variations, [Double Q-Learning](https://arxiv.org/pdf/1509.06461.pdf) and [Dueling DQN](https://arxiv.org/pdf/1511.06581.pdf). Results will be compared in this notebook and the best solution will be implemented in `main.py`.\n",
    "\n",
    "![final](imgs/gif_2.gif \"final\")\n",
    "\n",
    "> The model used to generate this gif is `final.pth` (Dueling Double DQN), which was trained for 700 episodes using `main.py`.\n",
    "\n",
    "## 1. Prepare dependencies and environment\n",
    "\n",
    "Take a look at README.md before executing this notebook and make sure that the kernel is set to **p1_navigation**."
   ]
  },
  {
   "cell_type": "code",
   "execution_count": 1,
   "metadata": {},
   "outputs": [
    {
     "name": "stdout",
     "output_type": "stream",
     "text": [
      "\u001b[31mtensorflow 1.7.1 has requirement numpy>=1.13.3, but you'll have numpy 1.12.1 which is incompatible.\u001b[0m\n",
      "\u001b[31mipython 6.5.0 has requirement prompt-toolkit<2.0.0,>=1.0.15, but you'll have prompt-toolkit 3.0.8 which is incompatible.\u001b[0m\n",
      "Collecting numpy_ringbuffer\n",
      "  Downloading https://files.pythonhosted.org/packages/ef/a0/3f601e7a6c0a8732feca053cf0a756579e7cd2ae362f8497285d6dc1914c/numpy_ringbuffer-0.2.1-py2.py3-none-any.whl\n",
      "Requirement already satisfied: numpy in /opt/conda/lib/python3.6/site-packages (from numpy_ringbuffer) (1.12.1)\n",
      "Installing collected packages: numpy-ringbuffer\n",
      "Successfully installed numpy-ringbuffer-0.2.1\n"
     ]
    }
   ],
   "source": [
    "!pip -q install ./setup\n",
    "\n",
    "import sys\n",
    "import platform\n",
    "\n",
    "import numpy as np\n",
    "from numpy_ringbuffer import RingBuffer\n",
    "from scipy import signal\n",
    "import matplotlib.pyplot as plt\n",
    "\n",
    "import torch\n",
    "import torch.nn.functional as F\n",
    "import torch.optim as optim\n",
    "from torch import nn\n",
    "\n",
    "from setup import unityagents\n",
    "from unityagents import UnityEnvironment\n",
    "\n",
    "device = torch.device(\"cuda:0\" if torch.cuda.is_available() else \"cpu\")"
   ]
  },
  {
   "cell_type": "markdown",
   "metadata": {},
   "source": [
    "Unity environments contain **brains**, our interfaces for controlling agents. We'll be conrtolling the first (default) brain in the environment. It's also useful to keep information such as `state_size` and `action_size`."
   ]
  },
  {
   "cell_type": "code",
   "execution_count": 2,
   "metadata": {},
   "outputs": [
    {
     "name": "stderr",
     "output_type": "stream",
     "text": [
      "INFO:unityagents:\n",
      "'Academy' started successfully!\n",
      "Unity Academy name: Academy\n",
      "        Number of Brains: 1\n",
      "        Number of External Brains : 1\n",
      "        Lesson number : 0\n",
      "        Reset Parameters :\n",
      "\t\t\n",
      "Unity brain name: BananaBrain\n",
      "        Number of Visual Observations (per agent): 0\n",
      "        Vector Observation space type: continuous\n",
      "        Vector Observation space size (per agent): 37\n",
      "        Number of stacked Vector Observation: 1\n",
      "        Vector Action space type: discrete\n",
      "        Vector Action space size (per agent): 4\n",
      "        Vector Action descriptions: , , , \n"
     ]
    }
   ],
   "source": [
    "env = None\n",
    "system = platform.system()\n",
    "if system == 'Linux':\n",
    "    env = UnityEnvironment(file_name=\"setup/Banana_Linux/Banana.x86_64\")\n",
    "elif system == 'Darwin':\n",
    "    env = UnityEnvironment(file_name=\"setup/Banana.app\")\n",
    "elif system == 'Windows':\n",
    "    env = UnityEnvironment(file_name=\"setup/Banana_Windows_x86_64/Banana.exe\")\n",
    "else:\n",
    "    print('Cannot find environment for this system.')\n",
    "\n",
    "# use the default brain\n",
    "brain_name = env.brain_names[0]\n",
    "brain = env.brains[brain_name]\n",
    "\n",
    "# reset the environment\n",
    "env_info = env.reset(train_mode=True)[brain_name]\n",
    "action_size = brain.vector_action_space_size\n",
    "state = env_info.vector_observations[0]\n",
    "state_size = len(state)"
   ]
  },
  {
   "cell_type": "markdown",
   "metadata": {},
   "source": [
    "## 2. Experience replay\n",
    "\n",
    "In a classical Q-Learning setting, the agent learns immediately from experiences, and then discards them. In DQN, instead, experiences are stored as tuples and learning is delayed and performed in sampled batches. Sampling is fundamental since it removes **correlations in the sequence of observations** and it also allows to learn from a more comprehensive set of tuples, promoting exploration and avoiding **feedback loops**.\n",
    "\n",
    "We'll use the **uniform** variation of the replay buffer here, meaning that all stored tuples have the same chance of being selected for replay. The buffer has fixed `capacity` and will delete older tuples as newer ones arrive.\n",
    "\n",
    "Every tuple is stored as `(s, a, r, ns, d)` where:\n",
    "\n",
    "- `s` is the state at the beginning of the timestep\n",
    "- `a` is the action that was taken\n",
    "- `r` is the reward obtained in the next timestep\n",
    "- `ns` is the state at the next timestep (we'll refer to this as $s'$ as well)\n",
    "- `d` is a boolean value that determines if the episode ended\n",
    "\n",
    "When sampling a batch of `n` tuples, we'll obtain a single tuple `([s], [a], [r], [ns], [d])` where:\n",
    "- `[s]`, `[a]`, `[r]`, `[ns]`, `[d]` are **torch tensors** with `n` rows. Keep in mind that `[s]` and `[ns]` can have more than one column, depending on the `state_size`."
   ]
  },
  {
   "cell_type": "code",
   "execution_count": 3,
   "metadata": {},
   "outputs": [],
   "source": [
    "class UniformReplayBuffer():\n",
    "\n",
    "    def __init__(self, capacity):\n",
    "        self.capacity = capacity\n",
    "        self.reset()\n",
    "    \n",
    "    def reset(self):\n",
    "        self.buff = RingBuffer(capacity=self.capacity, dtype=object)\n",
    "    \n",
    "    def sample(self, n, replace=True):\n",
    "        samples = np.random.choice(np.array(self.buff), n, replace)\n",
    "        \n",
    "        s = torch.FloatTensor([sample[0] for sample in samples]).to(device)\n",
    "        a = torch.LongTensor([sample[1] for sample in samples]).to(device)\n",
    "        r = torch.FloatTensor([sample[2] for sample in samples]).to(device)\n",
    "        ns = torch.FloatTensor([sample[3] for sample in samples]).to(device)\n",
    "        d = torch.FloatTensor([sample[4] for sample in samples]).to(device)\n",
    "        \n",
    "        return s, a, r, ns, d\n",
    "    \n",
    "    def add(self, observation):\n",
    "        s, a, r, ns, d = observation\n",
    "        self.buff.append((s, a, r, ns, d))\n",
    "    \n",
    "    def size(self):\n",
    "        return len(self.buff)"
   ]
  },
  {
   "cell_type": "markdown",
   "metadata": {},
   "source": [
    "## 3. Q Network\n",
    "\n",
    "We have two choices for this network's architecture:\n",
    "\n",
    "- `DQN`, the original Deep Q-Network\n",
    "- `DuelingDQN`, the Dueling Deep Q-Network\n",
    "\n",
    "Both models receive the current state $s$ as input and provide a vector for all estimated $Q(s, a)$ values at once. Since we're using PyTorch's autograd, we'll only define the architectures and the forward pass.\n",
    "\n",
    "### 3.1 DQN\n",
    "\n",
    "The `DQN` class is straightforward and uses less parameters, since it only uses one stream of fully connected layers:\n",
    "\n",
    "- `state_size` $\\to 64$ followed by `relu` activations\n",
    "- $64 \\to 128$ and `relu`\n",
    "- $128 \\to 64$ and `relu`\n",
    "- $64 \\to Q(s, a)$, that is $64 \\to$ `action_size` and no activation"
   ]
  },
  {
   "cell_type": "code",
   "execution_count": 4,
   "metadata": {},
   "outputs": [],
   "source": [
    "class DQN(nn.Module):\n",
    "    \n",
    "    def __init__(self, state_size, action_size, hidden_layers=[64, 128, 64]):\n",
    "        super(DQN, self).__init__()\n",
    "        \n",
    "        # prepare the first hidden layer\n",
    "        self.hidden_layers = nn.ModuleList([nn.Linear(state_size, hidden_layers[0])])\n",
    "        \n",
    "        # prepare the rest of the hidden layers\n",
    "        A = hidden_layers[:-1]\n",
    "        B = hidden_layers[1:]\n",
    "        self.hidden_layers.extend([nn.Linear(a, b) for a, b in zip(A, B)])\n",
    "        \n",
    "        # prepare the output layer\n",
    "        self.output_layer = nn.Linear(hidden_layers[-1], action_size)\n",
    "\n",
    "    def forward(self, state):\n",
    "        # connect layers to each other and put relu activations between them\n",
    "        for layer in self.hidden_layers:\n",
    "            state = layer(state)\n",
    "            state = F.relu(state)\n",
    "        state = self.output_layer(state)\n",
    "        return state"
   ]
  },
  {
   "cell_type": "markdown",
   "metadata": {},
   "source": [
    "### 3.2 DuelingDQN\n",
    "\n",
    "On the other hand, `DuelingDQN` has two streams of independent layers: the **value** of a state $V(s)$ (scalar) and the **advantage** of taking an action $A(s, a)$ (same shape as the output), related by $A(s, a) = Q(s, a) - V(s)$. The idea is that, in many scenarios, the value of a state won't depend that much on the action the agent takes, so decoupling these values can help make better estimates.\n",
    "\n",
    "Thus, the class `DuelingDQN` uses two identical streams of independent fully connected layers:\n",
    "\n",
    "- `state_size` $\\to 32$ and `relu`\n",
    "- $32 \\to 128$ and `relu`\n",
    "- $128 \\to 32$ and `relu`\n",
    "\n",
    "The streams end in:\n",
    "\n",
    "- $32 \\to A(s, a)$, that is $32 \\to$ `action_size` and no activation\n",
    "- $32 \\to V(s)$, that is $32 \\to 1$ and no activation\n",
    "\n",
    "To merge them, however, we can't simply add $V$ and $A$ as $Q(s, a) = V(s) + A(s, a)$, because $A$ and $V$ **won't be identifiable**. We can, instead, write\n",
    "\n",
    "$$Q(s, a) = V(s) + A(s, a) - \\max_{a'} A(S, a')$$\n",
    "\n",
    "so that when the best action $a^*$ is selected, we get that $Q(s, a^*) = V(s)$, something that is not guaranteed otherwise. To further improve this, we can substitute the $\\max$ operator for a mean of the available actions. This is the final equation used in the `DuelingDQN` class, where $|\\mathbb{A}(s)| =$ `action_size`.\n",
    "\n",
    "$$Q(s, a) = V(s) + A(s, a) - \\frac{1}{|\\mathbb{A}(s)|} \\sum_{a' \\in \\mathbb{A}(s)} A(s, a')$$"
   ]
  },
  {
   "cell_type": "code",
   "execution_count": 5,
   "metadata": {},
   "outputs": [],
   "source": [
    "class DuelingDQN(nn.Module):\n",
    "\n",
    "    def __init__(self, state_size, action_size, hidden_layers=[32, 128, 32]):\n",
    "        super(DuelingDQN, self).__init__()\n",
    "        \n",
    "        # prepare the first pair of hidden layers (will be two independent streams)\n",
    "        self.value_hidden_layers = nn.ModuleList([nn.Linear(state_size, hidden_layers[0])])\n",
    "        self.advantage_hidden_layers = nn.ModuleList([nn.Linear(state_size, hidden_layers[0])])\n",
    "        \n",
    "        # prepare the rest of the hidden layers\n",
    "        A = hidden_layers[:-1]\n",
    "        B = hidden_layers[1:]\n",
    "        self.value_hidden_layers.extend([nn.Linear(a, b) for a, b in zip(A, B)])\n",
    "        self.advantage_hidden_layers.extend([nn.Linear(a, b) for a, b in zip(A, B)])\n",
    "        \n",
    "        # prepare the output layers for the streams, which will be merged in the forward operation\n",
    "        self.value_output_layer = nn.Linear(hidden_layers[-1], 1)\n",
    "        self.advantage_output_layer = nn.Linear(hidden_layers[-1], action_size)\n",
    "\n",
    "    def forward(self, x):\n",
    "        # the two streams receive the same input data x\n",
    "        V = x\n",
    "        A = x.clone()\n",
    "\n",
    "        # as before, connect layers to each other and put relu activations between them\n",
    "        for value_layer, advantage_layer in zip(self.value_hidden_layers, self.advantage_hidden_layers):\n",
    "            V, A = value_layer(V), advantage_layer(A)\n",
    "            V, A = F.relu(V), F.relu(A)\n",
    "        V, A = self.value_output_layer(V), self.advantage_output_layer(A)\n",
    "\n",
    "        # the output of the network is the special merging layer described in the dueling dqn paper\n",
    "        return V + A - torch.mean(A, dim=1).unsqueeze(1)"
   ]
  },
  {
   "cell_type": "markdown",
   "metadata": {},
   "source": [
    "## 4. Temporal-Difference error estimation\n",
    "\n",
    "When we're calculating the **temporal-difference** error $\\delta_t$ we have to rely on an estimate of future returns. Two proposed variants for this are fixed Q-targets and Double DQN.\n",
    "\n",
    "The functions `dt_dqn`, `dt_double_dqn` implement the two variants. Both take an extra boolean parameter `d` that signals when the episode is over, since in that case, there is no future return and the TD error is simply $\\delta_t = r - Q(s, a)$.\n",
    "\n",
    "Note that these functions expect `s`, `a`, `r`, `ns` and `d` as **torch tensors**, where the number of rows corresponds to the batch size. The return value is also a vector with the same number of rows, one for each tuple.\n",
    "\n",
    "#### 4.1 Fixed Q-targets\n",
    "\n",
    "Due to the nature of neural networks (and function approximators in general), if we were to use the same Q network for both $Q(s, a)$ and $Q(s', a')$, a gradient descent step that is meant to improve the former would modify the latter as well, making learning unstable. Because of this – and also because we want to preserve mathematical correctness in the derivative – we use two different networks, $Q_{local}$ and $Q_{target}$.\n",
    "\n",
    "This method is called fixed Q-targets, and it essentially **duplicates the network**, using $Q_{local}$ to determine the policy and $Q_{target}$ to estimate future returns. The latter is updated less frequently by copying (or interpolating towards) the parameters of the former, so that they're different enough to avoid instability. The equation for $\\delta_t$ is\n",
    "\n",
    "$$\\delta_t(s, a, r, s') = r + \\gamma \\max_{a'} Q_{target}(s', a') - Q_{local}(s, a)$$"
   ]
  },
  {
   "cell_type": "code",
   "execution_count": 6,
   "metadata": {},
   "outputs": [],
   "source": [
    "def dt_dqn(s, a, r, ns, d, q_local, q_target, gamma):\n",
    "    with torch.no_grad():   # no need for gradients when we're evaluating the TD target\n",
    "        QT = q_target(ns)   # evaluate the next state using the target network (out: [n * action_size])\n",
    "        QT = QT.max(1)      # take the max along the column (actions) (out: two tensors [n])\n",
    "        QT = QT[0]          # - [0] has the max values for each element in the batch, \n",
    "                            # - [1] has the indexes of the max values\n",
    "\n",
    "    a = a.unsqueeze(1)      # reshape [n] -> [n * 1]\n",
    "    QL = q_local(s)         # evaluate the current state using the local network (out: [n * action_size])\n",
    "    QL = QL.gather(1, a)    # for each row, take the column in QL indicated by a (out: [n * 1])\n",
    "    QL = QL.squeeze(1)      # reshape [n * 1] -> [n]\n",
    "    \n",
    "    return r + gamma * QT * (1 - d) - QL"
   ]
  },
  {
   "cell_type": "markdown",
   "metadata": {},
   "source": [
    "### 4.2 Double DQN\n",
    "\n",
    "This is largely based on fixed Q-targets, since it also uses $Q_{local}$ and $Q_{target}$. We can rewrite $\\max Q$ using $\\arg \\max$ to break down the task of **choosing** and **evaluating** an action in two different steps.\n",
    "\n",
    "$$\\max_{a'} Q_{target}(s', a') = Q_{target}(s', \\arg \\max_{a'} Q_{target}(s', a'))$$\n",
    "\n",
    "This can lead to the **overestimation** of targets. Simply put, when taking the $\\max$ among noisy numbers (which is especially true in the beginning) we're likely to pick the action where the approximator adds more positive noise. Separating the task of picking and evaluating the action to two different approximators may decrease this issue, since both networks now have to \"agree\" on the outcome of an action.\n",
    "\n",
    "The original estimate can be improved using the one provided in the Double DQN paper. The proposed solution is to use $Q_{local}$ for the choice and $Q_{target}$ for the evaluation as follows\n",
    "\n",
    "$$\n",
    "Q_{target}(s', \\arg \\max_{a'} Q_{local}(s', a'))\\\\\n",
    "\\implies \\delta_t(s, a, r, s') = r + \\gamma Q_{target}(s', \\arg \\max_{a'} Q_{local}(s', a')) - Q_{local}(s, a)\n",
    "$$"
   ]
  },
  {
   "cell_type": "code",
   "execution_count": 7,
   "metadata": {},
   "outputs": [],
   "source": [
    "def dt_double_dqn(s, a, r, ns, d, q_local, q_target, gamma):\n",
    "    with torch.no_grad():         # no need for gradients when we're evaluating the TD target\n",
    "        QLns = q_local(ns)        # evaluate the next state using the local network (out: [n * action_size])\n",
    "        QLns = QLns.max(1)        # take the max along the column (actions) (out: two tensors [n])\n",
    "        QLns = QLns[1]            # [1] has the indexes of the max values\n",
    "        QLns = QLns.unsqueeze(1)  # reshape [n] -> [n * 1]\n",
    "\n",
    "        QT = q_target(ns)         # evaluate the next state using the target network (out: [n * action_size])\n",
    "        QT = QT.gather(1, QLns)   # for each row, take the value estimated by the target network for\n",
    "                                  # the best action estimated by the local network (out: [n * 1])\n",
    "        QT = QT.squeeze(1)        # reshape [n * 1] -> [n]\n",
    "\n",
    "    a = a.unsqueeze(1)            # reshape [n] -> [n * 1]\n",
    "    QL = q_local(s)               # evaluate the current state using the local network (out: [n * action_size])\n",
    "    QL = QL.gather(1, a)          # for each row, take the column in QL indicated by a (out: [n * 1])\n",
    "    QL = QL.squeeze(1)            # reshape [n * 1] -> [n]\n",
    "\n",
    "    return r + gamma * QT * (1 - d) - QL"
   ]
  },
  {
   "cell_type": "markdown",
   "metadata": {},
   "source": [
    "## 5. Agent\n",
    "\n",
    "Let's put the pieces together. During initialization, we can configure the agent's:\n",
    "\n",
    "- `QNetwork`, which is either the class `DQN` or `DuelingDQN` (_not an instance_)\n",
    "- `replay_buffer`, which is an instance of `UniformReplayBuffer`\n",
    "- `Delta`, which is either the function `dt_dqn` or `dt_double_dqn`\n",
    "\n",
    "Other parameters are obviously `state_size` and `action_size` as well as some hyperparameters:\n",
    "\n",
    "- `alpha` $\\in [0, 1]$, the learning rate to apply to gradient steps to `q_local`\n",
    "- `eps`, `eps_decay` and `min_eps` $\\in [0, 1]$, for the $\\epsilon$-greedy policy, if `learning = False` only the greedy policy will be used\n",
    "- `gamma` $\\in [0, 1]$, the weight of the estimates for future returns calculated by `q_target` in the function `Delta`\n",
    "- `tau` $\\in [0, 1]$, to perform soft updates of `q_target` (if set to $1$ directly copies `q_local` into `q_target`)\n",
    "- `update_every` the number of steps to wait before updating `q_local` and `q_target`\n",
    "- `batch_size` the number of samples from the `replay_buffer` used to perform one update of `q_local`\n",
    "\n",
    "The agent has three functions, but only the first two should be called from the outside: \n",
    "- `act`, based on a state tensor `s` and on `eps`, choose an action. If the agent has `learning = False` the choice will be greedy.\n",
    "- `store`, receive a tuple to put in the `replay_buffer`. This counts as a step towards the updates of `q_local` and `q_target`, and in fact calls `learn()` automatically when needed.\n",
    "- `learn`, samples a batch of tuples from the `replay_buffer`, calculates their $\\delta_t$ and finally performs gradient descent on `q_local` and a soft update of `q_target` towards `q_local`. Note that it can already perform actions related to a tuple's priority and importance sampling weight.\n",
    "\n",
    "Additionally, an agent can be `reset()`."
   ]
  },
  {
   "cell_type": "code",
   "execution_count": 8,
   "metadata": {},
   "outputs": [],
   "source": [
    "class QNetworkAgent():\n",
    "    \n",
    "    # -- initialization -- #\n",
    "    def __init__(self, QNetwork, state_size, action_size, \n",
    "                 replay_buffer, Delta, \n",
    "                 eps=1, eps_decay=0.9995, min_eps=0.0001,\n",
    "                 gamma=0.99, alpha=0.001, tau=0.01,\n",
    "                 update_every=15, batch_size=64, learning=True):\n",
    "        self.state_size, self.action_size = state_size, action_size\n",
    "        self.original_eps = eps\n",
    "        self.QNetwork = QNetwork\n",
    "        self.replay_buffer = replay_buffer\n",
    "        self.Delta = Delta\n",
    "        self.learning = learning\n",
    "        self.eps, self.eps_decay, self.min_eps = eps, eps_decay, min_eps\n",
    "        self.gamma, self.alpha, self.tau = gamma, alpha, tau\n",
    "        self.update_every, self.batch_size = update_every, batch_size\n",
    "        self.reset()\n",
    "    \n",
    "    def reset(self):\n",
    "        self.replay_buffer.reset()\n",
    "        self.eps = self.original_eps\n",
    "        self.q_local = self.QNetwork(self.state_size, self.action_size).to(device)\n",
    "        self.q_target = self.QNetwork(self.state_size, self.action_size).to(device)\n",
    "        self.optimizer = optim.Adam(self.q_local.parameters(), lr=self.alpha)\n",
    "        self.update_i = 0\n",
    "    # -- initialization -- #\n",
    "\n",
    "    def act(self, s):\n",
    "\n",
    "        # eps-greedy policy: decide if the action should be random or greedy\n",
    "        # (always greedy if agent.learning = False)\n",
    "        if not self.learning or np.random.uniform() > self.eps:\n",
    "            # greedy action, no need for autograd in this step. simply estimate\n",
    "            # Q values for this state and return the action with the highest value\n",
    "            with torch.no_grad():\n",
    "                s = torch.FloatTensor(s).unsqueeze(0).to(device)\n",
    "                return int(self.q_local(s).max(1)[1])\n",
    "        else:\n",
    "            # choose uniformly between all actions\n",
    "            return np.random.randint(self.action_size)\n",
    "    \n",
    "    def store(self, s, a, r, ns, d):\n",
    "        # store a new experience\n",
    "        self.replay_buffer.add((s, a, r, ns, d))\n",
    "\n",
    "        if self.update_i == 0 and self.replay_buffer.size() >= self.batch_size:\n",
    "            # after you've stored enough new experiences update q_local and q_target\n",
    "            # (note however that the batch used to learn might not contain the new experiences)\n",
    "            self.learn()\n",
    "\n",
    "            # also decrease epsilon\n",
    "            self.eps = max(self.eps * self.eps_decay, self.min_eps)\n",
    "        \n",
    "        # keep track of how many new experiences we get\n",
    "        self.update_i = (self.update_i + 1) % self.update_every\n",
    "    \n",
    "    def learn(self):\n",
    "        # note that this is called automatically by the agent\n",
    "\n",
    "        # sample tuples of experiences from memory (each of these variables is a torch tensor)\n",
    "        s, a, r, ns, d = self.replay_buffer.sample(self.batch_size)\n",
    "\n",
    "        # use the given function to calculate the difference between the TD target and our estimate\n",
    "        td_delta = self.Delta(s, a, r, ns, d, self.q_local, self.q_target, self.gamma)\n",
    "        \n",
    "        # use autograd to backpropagate, the error is MSE on td_delta\n",
    "        self.optimizer.zero_grad()\n",
    "        loss = torch.mean(td_delta ** 2)\n",
    "        loss.backward()\n",
    "        self.optimizer.step()\n",
    "        \n",
    "        # after updating q_local we also update q_target. the original paper makes a copy of the parameters,\n",
    "        # however we can perform a 'soft' update by interpolating between the current parameters and the new ones\n",
    "        with torch.no_grad():\n",
    "            for local, target in zip(self.q_local.parameters(), self.q_target.parameters()):\n",
    "                target.copy_(target + self.tau * (local - target))"
   ]
  },
  {
   "cell_type": "markdown",
   "metadata": {},
   "source": [
    "Creating an agent is straightforward now. We can make four agents, one for each combination of things that we've defined earlier. Note that these agents share the same default hyperparameters that were chosen after some tests:\n",
    "\n",
    "- `eps=1`, `eps_decay=0.9995`, `min_eps=0.0001`,\n",
    "- `gamma=0.99`\n",
    "- `alpha=0.001`\n",
    "- `tau=0.01`\n",
    "- `update_every=15`\n",
    "- `batch_size=64`"
   ]
  },
  {
   "cell_type": "code",
   "execution_count": 9,
   "metadata": {},
   "outputs": [],
   "source": [
    "agents = [('DQN', QNetworkAgent(DQN, state_size, action_size, UniformReplayBuffer(100_000), dt_dqn)),\n",
    "          ('Double DQN', QNetworkAgent(DQN, state_size, action_size, UniformReplayBuffer(100_000), dt_double_dqn)),\n",
    "          ('Dueling DQN', QNetworkAgent(DuelingDQN, state_size, action_size, UniformReplayBuffer(100_000), dt_dqn)),\n",
    "          ('Dueling Double DQN', QNetworkAgent(DuelingDQN, state_size, action_size, UniformReplayBuffer(100_000), dt_double_dqn))]"
   ]
  },
  {
   "cell_type": "markdown",
   "metadata": {},
   "source": [
    "## 6. Training an agent\n",
    "\n",
    "What we define now is a function that connects our `agent` and `env`. Recall that we'll be using the default `brain_name` to interact with the environment. The agent is allowed to store observations and, consequently, learn every now and then (`update_every=15` steps)."
   ]
  },
  {
   "cell_type": "code",
   "execution_count": 10,
   "metadata": {},
   "outputs": [],
   "source": [
    "def execute_episode(agent, env):\n",
    "    # prepare the environment\n",
    "    score = 0\n",
    "    done = False\n",
    "    env_info = env.reset(train_mode=True)[brain_name]\n",
    "    \n",
    "    # get the initial state\n",
    "    state = env_info.vector_observations[0]\n",
    "    while not done:\n",
    "\n",
    "        # evaluate the current state\n",
    "        action = agent.act(state)\n",
    "\n",
    "        # execute the chosen action and get the outcome\n",
    "        env_info = env.step(action)[brain_name]\n",
    "        next_state = env_info.vector_observations[0]\n",
    "        reward = env_info.rewards[0]\n",
    "        done = env_info.local_done[0]\n",
    "\n",
    "        # store the experience (also automatically learn, from time to time)\n",
    "        agent.store(state, action, reward, next_state, done)\n",
    "\n",
    "        # prepare for the next iteration\n",
    "        state = next_state\n",
    "        score += reward\n",
    "    \n",
    "    # return the total rewards obtained\n",
    "    return score"
   ]
  },
  {
   "cell_type": "markdown",
   "metadata": {},
   "source": [
    "We can call the function above repeatedly while **monitoring** what happens, so that we'll be able to compare different approaches. The most important indicator is going to be the average score over 100 consecutive episodes: the environment is considered **solved when the agent scores +13 or more** under this metric. We'll be training each agent 3 times from scratch, for 1000 episodes, and we'll average the results. This way, the learning curves will depend less on the randomness of the environment, reflecting more accurately the differences in the approaches."
   ]
  },
  {
   "cell_type": "code",
   "execution_count": 11,
   "metadata": {},
   "outputs": [],
   "source": [
    "def train(agent, env, episodes=1000, repeat=3, consecutive_episodes=100, show_output=True, save_as=None):\n",
    "\n",
    "    results = [None] * repeat\n",
    "    for r in range(repeat):\n",
    "        partial_results = [None] * episodes\n",
    "\n",
    "        # reset the agent to start learning from scratch\n",
    "        agent.reset()\n",
    "        for i in range(episodes):\n",
    "\n",
    "            # execute all the episodes and store the results\n",
    "            score = execute_episode(agent, env)\n",
    "            partial_results[i] = score\n",
    "            \n",
    "            if show_output:\n",
    "                print(\"\\r[{}] Episode: {}, Score: {}\".format(r+1, i+1, score), end=\"\")\n",
    "                sys.stdout.flush()\n",
    "        if show_output:\n",
    "            print()\n",
    "\n",
    "        results[r] = partial_results\n",
    "\n",
    "        # store the trained model if requested\n",
    "        if save_as is not None:\n",
    "            torch.save(agent.q_local.state_dict(), '{}/{}.pth'.format(save_as, r+1))\n",
    "\n",
    "    # use convolutions to calculate the mean and standard deviation summarizing the training step\n",
    "    results = np.array(results)\n",
    "    mean = signal.convolve2d(results, np.ones([repeat, consecutive_episodes]) / (repeat * consecutive_episodes), mode='valid')    \n",
    "    v = signal.convolve2d(results, np.ones([1, consecutive_episodes]) / consecutive_episodes, mode='valid')\n",
    "    std_dev = signal.convolve2d(v ** 2 - mean ** 2, np.ones([repeat, 1]) / repeat, mode='valid') ** (1/2)\n",
    "    return mean.flatten(), std_dev.flatten(), results"
   ]
  },
  {
   "cell_type": "code",
   "execution_count": 12,
   "metadata": {},
   "outputs": [
    {
     "name": "stdout",
     "output_type": "stream",
     "text": [
      "Agent: DQN\n",
      "[1] Episode: 1000, Score: 6.0\n",
      "[2] Episode: 1000, Score: 18.0\n",
      "[3] Episode: 1000, Score: 9.0\n",
      "Agent: Double DQN\n",
      "[1] Episode: 1000, Score: 12.0\n",
      "[2] Episode: 1000, Score: 19.0\n",
      "[3] Episode: 1000, Score: 18.0\n",
      "Agent: Dueling DQN\n",
      "[1] Episode: 1000, Score: 11.0\n",
      "[2] Episode: 1000, Score: 15.0\n",
      "[3] Episode: 1000, Score: 14.0\n",
      "Agent: Dueling Double DQN\n",
      "[1] Episode: 1000, Score: 19.0\n",
      "[2] Episode: 1000, Score: 15.0\n",
      "[3] Episode: 1000, Score: 15.0\n"
     ]
    }
   ],
   "source": [
    "training_results = []\n",
    "for ag in agents:\n",
    "    name, agent = ag\n",
    "    print('Agent: {}'.format(name))\n",
    "    mean, std_dev, full_report = train(agent, env, save_as='models/{}'.format(name.replace(\" \", \"_\")))\n",
    "    training_results.append((mean, std_dev, full_report))\n",
    "env.close()"
   ]
  },
  {
   "cell_type": "markdown",
   "metadata": {},
   "source": [
    "## 7. Comparing the results\n",
    "\n",
    "We can use `matplotlib` to plot the mean of the score and its standard deviation. Clearly all algorithms proposed manage to score an average of 13 points or more on 100 consecutive runs, thus solving the environment, and they do so in about 400 episodes. Double DQN and Dueling DQN allow for slightly better performances and faster convergence, especially when combined. We can also see that there's not much progress after 700 episodes, suggesting that there's no need to keep training for longer."
   ]
  },
  {
   "cell_type": "code",
   "execution_count": 13,
   "metadata": {},
   "outputs": [
    {
     "name": "stdout",
     "output_type": "stream",
     "text": [
      "DQN: Solved after 420 episodes\n",
      "Double DQN: Solved after 414 episodes\n"
     ]
    },
    {
     "data": {
      "image/png": "[encoded data removed]",
      "text/plain": [
       "<matplotlib.figure.Figure at 0x7fd37c8e0630>"
      ]
     },
     "metadata": {
      "needs_background": "light"
     },
     "output_type": "display_data"
    },
    {
     "name": "stdout",
     "output_type": "stream",
     "text": [
      "Dueling DQN: Solved after 413 episodes\n",
      "Dueling Double DQN: Solved after 385 episodes\n"
     ]
    },
    {
     "data": {
      "image/png": "[encoded data removed]",
      "text/plain": [
       "<matplotlib.figure.Figure at 0x7fd37a652da0>"
      ]
     },
     "metadata": {
      "needs_background": "light"
     },
     "output_type": "display_data"
    }
   ],
   "source": [
    "def plot_results(agents, training_results):\n",
    "    for agent, ts in zip(agents, training_results):\n",
    "        mean, std_dev, _ = ts\n",
    "        episode_solved = np.argmax(mean > 13) + 100\n",
    "        print('{}: Solved after {} episodes'.format(agent[0], episode_solved))\n",
    "\n",
    "        x = np.arange(100, 100 + mean.size)\n",
    "        line = plt.plot(x, mean, label = agent[0])\n",
    "        plt.fill_between(x, mean + std_dev, mean - std_dev, alpha=0.1)\n",
    "        plt.axvline(episode_solved, lw=0.75, color=line[0].get_color())\n",
    "\n",
    "    plt.axhline(13, dashes=(4, 8), lw=0.75, color='black')\n",
    "    plt.xticks(np.arange(1, 1 + mean.size / 100) * 100)\n",
    "    plt.yticks(np.arange(0, 19))\n",
    "    plt.xlabel('Number of episodes')\n",
    "    plt.title('Average score over 100 consecutive episodes')\n",
    "    plt.legend()\n",
    "    plt.show()\n",
    "\n",
    "plot_results(agents[:2], training_results[:2])\n",
    "plot_results(agents[2:], training_results[2:])"
   ]
  },
  {
   "cell_type": "markdown",
   "metadata": {},
   "source": [
    "## 8. Possible improvements\n",
    "\n",
    "By observing any of the above agents play we can see that sometimes this happens.\n",
    "\n",
    "![stuck](imgs/gif_1.gif \"stuck\")\n",
    "\n",
    "One of the reasons for this might be that the states are completely independent from each other. Although the original DQN paper worked directly on pixels, to overcome this issue they provided **four consecutive frames** to the agent, instead of one. This only requires slight modifications to the code, for instance we need to change the input of the network to `4 * state_size` and update the function `execute_episode` to handle four states instead of one, as follows:"
   ]
  },
  {
   "cell_type": "code",
   "execution_count": 15,
   "metadata": {},
   "outputs": [],
   "source": [
    "def execute_episode_v2(agent, env):\n",
    "    score = 0\n",
    "    done = False\n",
    "    env_info = env.reset(train_mode=True)[brain_name]\n",
    "\n",
    "    state = env_info.vector_observations[0]\n",
    "    consecutive_states = [state] * 4                       # replicate the first state four times\n",
    "    edited_state = np.array(consecutive_states).flatten()  # merge four states into one vector\n",
    "\n",
    "    while not done:\n",
    "        action = agent.act(edited_state)\n",
    "\n",
    "        env_info = env.step(action)[brain_name]\n",
    "        next_state = env_info.vector_observations[0]\n",
    "        reward = env_info.rewards[0]\n",
    "        done = env_info.local_done[0]\n",
    "\n",
    "        consecutive_states.pop(0)                                   # remove the oldest state\n",
    "        consecutive_states.append(next_state)                       # and add the newest one\n",
    "        edited_next_state = np.array(consecutive_states).flatten()  # then merge again\n",
    "\n",
    "        agent.store(edited_state, action, reward, edited_next_state, done)\n",
    "        edited_state = edited_next_state\n",
    "        score += reward\n",
    "\n",
    "    return score"
   ]
  },
  {
   "cell_type": "markdown",
   "metadata": {},
   "source": [
    "Another important improvement could be the use of a **prioritized replay buffer**. This can be implemented by creating a class based on `UniformReplayBuffer` which uses a sum tree instead of a ring buffer, and adding two functions `max_priority` and `update_priority`. We'll also need to modify `add` and `sample` to handle priorities as well.\n",
    "\n",
    "When storing a tuple `(s, a, r, ns, d, p)` the parameter `p` will be the **priority** of the tuple, with $p = |\\delta_t|$. When sampling a batch of `n` tuples, we'll obtain a single tuple `([s], [a], [r], [ns], [d], [w])` where `[w]` is the `n`-rows tensor of **importance sampling weights**, with a single $w = a \\left({1 \\over N} {1 \\over P(i)}\\right)^b {1 \\over \\max_i w_i}$, $a, b \\in [0, 1]$. The $i$-th tuple will be sampled based on $P(i) = \\frac{p_i^a}{\\sum_k o_k^a}$, where $p_i$ is the tuple's priority. Note that there's no need to provide the priority to the agent.\n",
    "\n",
    "The code in the agent would then need to be modified as follows:"
   ]
  },
  {
   "cell_type": "code",
   "execution_count": null,
   "metadata": {},
   "outputs": [],
   "source": [
    "def store(self, s, a, r, ns, d):\n",
    "    p = self.replay_buffer.max_priority()  # store every new tuple with max priority\n",
    "    self.replay_buffer.add((s, a, r, ns, d, p))\n",
    "    # ...\n",
    "\n",
    "def learn(self):\n",
    "    s, a, r, ns, d, w = self.replay_buffer.sample(self.batch_size)                # now also returns tensor w\n",
    "    # ...\n",
    "    self.replay_buffer.update_priority(zip(s, a, r, ns, d, torch.abs(td_delta)))  # update priorities as |td_delta|\n",
    "    # ...        \n",
    "    loss = torch.sum(w * (td_delta ** 2))                                         # weighted MSE"
   ]
  },
  {
   "source": [
    "## 9. Conclusions\n",
    "\n",
    "Although there are many more improvements that could be applied (see [Rainbow](https://arxiv.org/pdf/1710.02298.pdf)), the agents manage to play well most of the time. The models used to create the graphs in section 7 are available in the repository. The full documented code is also available and `main.py` can be executed to train or load a pre-trained Dueling Double DQN agent and see it in action, just like we did for thr model `final.pht`."
   ],
   "cell_type": "markdown",
   "metadata": {}
  }
 ],
 "metadata": {
  "kernelspec": {
   "display_name": "Python 3",
   "language": "python",
   "name": "python3"
  },
  "language_info": {
   "codemirror_mode": {
    "name": "ipython",
    "version": 3
   },
   "file_extension": ".py",
   "mimetype": "text/x-python",
   "name": "python",
   "nbconvert_exporter": "python",
   "pygments_lexer": "ipython3",
   "version": "3.6.3"
  }
 },
 "nbformat": 4,
 "nbformat_minor": 2
}